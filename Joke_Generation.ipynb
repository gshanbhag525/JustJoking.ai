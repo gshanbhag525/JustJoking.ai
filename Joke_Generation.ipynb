{
  "nbformat": 4,
  "nbformat_minor": 0,
  "metadata": {
    "colab": {
      "name": "Joke Generation.ipynb",
      "provenance": [],
      "collapsed_sections": []
    },
    "kernelspec": {
      "name": "python3",
      "display_name": "Python 3"
    },
    "accelerator": "GPU",
    "widgets": {
      "application/vnd.jupyter.widget-state+json": {
        "9a01d49701a44ddead4d88676624b0b6": {
          "model_module": "@jupyter-widgets/controls",
          "model_name": "HBoxModel",
          "state": {
            "_view_name": "HBoxView",
            "_dom_classes": [],
            "_model_name": "HBoxModel",
            "_view_module": "@jupyter-widgets/controls",
            "_model_module_version": "1.5.0",
            "_view_count": null,
            "_view_module_version": "1.5.0",
            "box_style": "",
            "layout": "IPY_MODEL_bfdfe47c791c44e88a7448bb7cae491b",
            "_model_module": "@jupyter-widgets/controls",
            "children": [
              "IPY_MODEL_b6599f298a3e44ae96e0ac245fbac7d7",
              "IPY_MODEL_d3d43df60f364ac880c1ecb1565f63e1"
            ]
          }
        },
        "bfdfe47c791c44e88a7448bb7cae491b": {
          "model_module": "@jupyter-widgets/base",
          "model_name": "LayoutModel",
          "state": {
            "_view_name": "LayoutView",
            "grid_template_rows": null,
            "right": null,
            "justify_content": null,
            "_view_module": "@jupyter-widgets/base",
            "overflow": null,
            "_model_module_version": "1.2.0",
            "_view_count": null,
            "flex_flow": null,
            "width": null,
            "min_width": null,
            "border": null,
            "align_items": null,
            "bottom": null,
            "_model_module": "@jupyter-widgets/base",
            "top": null,
            "grid_column": null,
            "overflow_y": null,
            "overflow_x": null,
            "grid_auto_flow": null,
            "grid_area": null,
            "grid_template_columns": null,
            "flex": null,
            "_model_name": "LayoutModel",
            "justify_items": null,
            "grid_row": null,
            "max_height": null,
            "align_content": null,
            "visibility": null,
            "align_self": null,
            "height": null,
            "min_height": null,
            "padding": null,
            "grid_auto_rows": null,
            "grid_gap": null,
            "max_width": null,
            "order": null,
            "_view_module_version": "1.2.0",
            "grid_template_areas": null,
            "object_position": null,
            "object_fit": null,
            "grid_auto_columns": null,
            "margin": null,
            "display": null,
            "left": null
          }
        },
        "b6599f298a3e44ae96e0ac245fbac7d7": {
          "model_module": "@jupyter-widgets/controls",
          "model_name": "FloatProgressModel",
          "state": {
            "_view_name": "ProgressView",
            "style": "IPY_MODEL_22015f4bc7d54e959693d2e4a3658880",
            "_dom_classes": [],
            "description": "Downloading: 100%",
            "_model_name": "FloatProgressModel",
            "bar_style": "success",
            "max": 1042301,
            "_view_module": "@jupyter-widgets/controls",
            "_model_module_version": "1.5.0",
            "value": 1042301,
            "_view_count": null,
            "_view_module_version": "1.5.0",
            "orientation": "horizontal",
            "min": 0,
            "description_tooltip": null,
            "_model_module": "@jupyter-widgets/controls",
            "layout": "IPY_MODEL_34069792f4d748ac9e07d4cc2688f369"
          }
        },
        "d3d43df60f364ac880c1ecb1565f63e1": {
          "model_module": "@jupyter-widgets/controls",
          "model_name": "HTMLModel",
          "state": {
            "_view_name": "HTMLView",
            "style": "IPY_MODEL_4776f1b888e24bdc86cf9c9b3c8321ab",
            "_dom_classes": [],
            "description": "",
            "_model_name": "HTMLModel",
            "placeholder": "​",
            "_view_module": "@jupyter-widgets/controls",
            "_model_module_version": "1.5.0",
            "value": " 1.04M/1.04M [00:00&lt;00:00, 2.66MB/s]",
            "_view_count": null,
            "_view_module_version": "1.5.0",
            "description_tooltip": null,
            "_model_module": "@jupyter-widgets/controls",
            "layout": "IPY_MODEL_0ece065c46654a65bb62a5d2165258a6"
          }
        },
        "22015f4bc7d54e959693d2e4a3658880": {
          "model_module": "@jupyter-widgets/controls",
          "model_name": "ProgressStyleModel",
          "state": {
            "_view_name": "StyleView",
            "_model_name": "ProgressStyleModel",
            "description_width": "initial",
            "_view_module": "@jupyter-widgets/base",
            "_model_module_version": "1.5.0",
            "_view_count": null,
            "_view_module_version": "1.2.0",
            "bar_color": null,
            "_model_module": "@jupyter-widgets/controls"
          }
        },
        "34069792f4d748ac9e07d4cc2688f369": {
          "model_module": "@jupyter-widgets/base",
          "model_name": "LayoutModel",
          "state": {
            "_view_name": "LayoutView",
            "grid_template_rows": null,
            "right": null,
            "justify_content": null,
            "_view_module": "@jupyter-widgets/base",
            "overflow": null,
            "_model_module_version": "1.2.0",
            "_view_count": null,
            "flex_flow": null,
            "width": null,
            "min_width": null,
            "border": null,
            "align_items": null,
            "bottom": null,
            "_model_module": "@jupyter-widgets/base",
            "top": null,
            "grid_column": null,
            "overflow_y": null,
            "overflow_x": null,
            "grid_auto_flow": null,
            "grid_area": null,
            "grid_template_columns": null,
            "flex": null,
            "_model_name": "LayoutModel",
            "justify_items": null,
            "grid_row": null,
            "max_height": null,
            "align_content": null,
            "visibility": null,
            "align_self": null,
            "height": null,
            "min_height": null,
            "padding": null,
            "grid_auto_rows": null,
            "grid_gap": null,
            "max_width": null,
            "order": null,
            "_view_module_version": "1.2.0",
            "grid_template_areas": null,
            "object_position": null,
            "object_fit": null,
            "grid_auto_columns": null,
            "margin": null,
            "display": null,
            "left": null
          }
        },
        "4776f1b888e24bdc86cf9c9b3c8321ab": {
          "model_module": "@jupyter-widgets/controls",
          "model_name": "DescriptionStyleModel",
          "state": {
            "_view_name": "StyleView",
            "_model_name": "DescriptionStyleModel",
            "description_width": "",
            "_view_module": "@jupyter-widgets/base",
            "_model_module_version": "1.5.0",
            "_view_count": null,
            "_view_module_version": "1.2.0",
            "_model_module": "@jupyter-widgets/controls"
          }
        },
        "0ece065c46654a65bb62a5d2165258a6": {
          "model_module": "@jupyter-widgets/base",
          "model_name": "LayoutModel",
          "state": {
            "_view_name": "LayoutView",
            "grid_template_rows": null,
            "right": null,
            "justify_content": null,
            "_view_module": "@jupyter-widgets/base",
            "overflow": null,
            "_model_module_version": "1.2.0",
            "_view_count": null,
            "flex_flow": null,
            "width": null,
            "min_width": null,
            "border": null,
            "align_items": null,
            "bottom": null,
            "_model_module": "@jupyter-widgets/base",
            "top": null,
            "grid_column": null,
            "overflow_y": null,
            "overflow_x": null,
            "grid_auto_flow": null,
            "grid_area": null,
            "grid_template_columns": null,
            "flex": null,
            "_model_name": "LayoutModel",
            "justify_items": null,
            "grid_row": null,
            "max_height": null,
            "align_content": null,
            "visibility": null,
            "align_self": null,
            "height": null,
            "min_height": null,
            "padding": null,
            "grid_auto_rows": null,
            "grid_gap": null,
            "max_width": null,
            "order": null,
            "_view_module_version": "1.2.0",
            "grid_template_areas": null,
            "object_position": null,
            "object_fit": null,
            "grid_auto_columns": null,
            "margin": null,
            "display": null,
            "left": null
          }
        },
        "d61c612f54d44abf948f24aff2bcb3fb": {
          "model_module": "@jupyter-widgets/controls",
          "model_name": "HBoxModel",
          "state": {
            "_view_name": "HBoxView",
            "_dom_classes": [],
            "_model_name": "HBoxModel",
            "_view_module": "@jupyter-widgets/controls",
            "_model_module_version": "1.5.0",
            "_view_count": null,
            "_view_module_version": "1.5.0",
            "box_style": "",
            "layout": "IPY_MODEL_615975d717334fb584af57245a4d3058",
            "_model_module": "@jupyter-widgets/controls",
            "children": [
              "IPY_MODEL_34936b0ec4554518a1daaaadb3fadc7c",
              "IPY_MODEL_fa35203fb6f74d6e9da9ebe64b7b3dfe"
            ]
          }
        },
        "615975d717334fb584af57245a4d3058": {
          "model_module": "@jupyter-widgets/base",
          "model_name": "LayoutModel",
          "state": {
            "_view_name": "LayoutView",
            "grid_template_rows": null,
            "right": null,
            "justify_content": null,
            "_view_module": "@jupyter-widgets/base",
            "overflow": null,
            "_model_module_version": "1.2.0",
            "_view_count": null,
            "flex_flow": null,
            "width": null,
            "min_width": null,
            "border": null,
            "align_items": null,
            "bottom": null,
            "_model_module": "@jupyter-widgets/base",
            "top": null,
            "grid_column": null,
            "overflow_y": null,
            "overflow_x": null,
            "grid_auto_flow": null,
            "grid_area": null,
            "grid_template_columns": null,
            "flex": null,
            "_model_name": "LayoutModel",
            "justify_items": null,
            "grid_row": null,
            "max_height": null,
            "align_content": null,
            "visibility": null,
            "align_self": null,
            "height": null,
            "min_height": null,
            "padding": null,
            "grid_auto_rows": null,
            "grid_gap": null,
            "max_width": null,
            "order": null,
            "_view_module_version": "1.2.0",
            "grid_template_areas": null,
            "object_position": null,
            "object_fit": null,
            "grid_auto_columns": null,
            "margin": null,
            "display": null,
            "left": null
          }
        },
        "34936b0ec4554518a1daaaadb3fadc7c": {
          "model_module": "@jupyter-widgets/controls",
          "model_name": "FloatProgressModel",
          "state": {
            "_view_name": "ProgressView",
            "style": "IPY_MODEL_edbe81840ca54de58b9dfdbb3de36a2c",
            "_dom_classes": [],
            "description": "Downloading: 100%",
            "_model_name": "FloatProgressModel",
            "bar_style": "success",
            "max": 456318,
            "_view_module": "@jupyter-widgets/controls",
            "_model_module_version": "1.5.0",
            "value": 456318,
            "_view_count": null,
            "_view_module_version": "1.5.0",
            "orientation": "horizontal",
            "min": 0,
            "description_tooltip": null,
            "_model_module": "@jupyter-widgets/controls",
            "layout": "IPY_MODEL_6c70236e024a435586aae1147b8d7b18"
          }
        },
        "fa35203fb6f74d6e9da9ebe64b7b3dfe": {
          "model_module": "@jupyter-widgets/controls",
          "model_name": "HTMLModel",
          "state": {
            "_view_name": "HTMLView",
            "style": "IPY_MODEL_5eaa49fdd12c448281d86c8af0e001ce",
            "_dom_classes": [],
            "description": "",
            "_model_name": "HTMLModel",
            "placeholder": "​",
            "_view_module": "@jupyter-widgets/controls",
            "_model_module_version": "1.5.0",
            "value": " 456k/456k [00:00&lt;00:00, 3.72MB/s]",
            "_view_count": null,
            "_view_module_version": "1.5.0",
            "description_tooltip": null,
            "_model_module": "@jupyter-widgets/controls",
            "layout": "IPY_MODEL_9263015eb8634f578a4e83cf6ae0d14e"
          }
        },
        "edbe81840ca54de58b9dfdbb3de36a2c": {
          "model_module": "@jupyter-widgets/controls",
          "model_name": "ProgressStyleModel",
          "state": {
            "_view_name": "StyleView",
            "_model_name": "ProgressStyleModel",
            "description_width": "initial",
            "_view_module": "@jupyter-widgets/base",
            "_model_module_version": "1.5.0",
            "_view_count": null,
            "_view_module_version": "1.2.0",
            "bar_color": null,
            "_model_module": "@jupyter-widgets/controls"
          }
        },
        "6c70236e024a435586aae1147b8d7b18": {
          "model_module": "@jupyter-widgets/base",
          "model_name": "LayoutModel",
          "state": {
            "_view_name": "LayoutView",
            "grid_template_rows": null,
            "right": null,
            "justify_content": null,
            "_view_module": "@jupyter-widgets/base",
            "overflow": null,
            "_model_module_version": "1.2.0",
            "_view_count": null,
            "flex_flow": null,
            "width": null,
            "min_width": null,
            "border": null,
            "align_items": null,
            "bottom": null,
            "_model_module": "@jupyter-widgets/base",
            "top": null,
            "grid_column": null,
            "overflow_y": null,
            "overflow_x": null,
            "grid_auto_flow": null,
            "grid_area": null,
            "grid_template_columns": null,
            "flex": null,
            "_model_name": "LayoutModel",
            "justify_items": null,
            "grid_row": null,
            "max_height": null,
            "align_content": null,
            "visibility": null,
            "align_self": null,
            "height": null,
            "min_height": null,
            "padding": null,
            "grid_auto_rows": null,
            "grid_gap": null,
            "max_width": null,
            "order": null,
            "_view_module_version": "1.2.0",
            "grid_template_areas": null,
            "object_position": null,
            "object_fit": null,
            "grid_auto_columns": null,
            "margin": null,
            "display": null,
            "left": null
          }
        },
        "5eaa49fdd12c448281d86c8af0e001ce": {
          "model_module": "@jupyter-widgets/controls",
          "model_name": "DescriptionStyleModel",
          "state": {
            "_view_name": "StyleView",
            "_model_name": "DescriptionStyleModel",
            "description_width": "",
            "_view_module": "@jupyter-widgets/base",
            "_model_module_version": "1.5.0",
            "_view_count": null,
            "_view_module_version": "1.2.0",
            "_model_module": "@jupyter-widgets/controls"
          }
        },
        "9263015eb8634f578a4e83cf6ae0d14e": {
          "model_module": "@jupyter-widgets/base",
          "model_name": "LayoutModel",
          "state": {
            "_view_name": "LayoutView",
            "grid_template_rows": null,
            "right": null,
            "justify_content": null,
            "_view_module": "@jupyter-widgets/base",
            "overflow": null,
            "_model_module_version": "1.2.0",
            "_view_count": null,
            "flex_flow": null,
            "width": null,
            "min_width": null,
            "border": null,
            "align_items": null,
            "bottom": null,
            "_model_module": "@jupyter-widgets/base",
            "top": null,
            "grid_column": null,
            "overflow_y": null,
            "overflow_x": null,
            "grid_auto_flow": null,
            "grid_area": null,
            "grid_template_columns": null,
            "flex": null,
            "_model_name": "LayoutModel",
            "justify_items": null,
            "grid_row": null,
            "max_height": null,
            "align_content": null,
            "visibility": null,
            "align_self": null,
            "height": null,
            "min_height": null,
            "padding": null,
            "grid_auto_rows": null,
            "grid_gap": null,
            "max_width": null,
            "order": null,
            "_view_module_version": "1.2.0",
            "grid_template_areas": null,
            "object_position": null,
            "object_fit": null,
            "grid_auto_columns": null,
            "margin": null,
            "display": null,
            "left": null
          }
        },
        "5236fec72bd64bf88dade8161616e52f": {
          "model_module": "@jupyter-widgets/controls",
          "model_name": "HBoxModel",
          "state": {
            "_view_name": "HBoxView",
            "_dom_classes": [],
            "_model_name": "HBoxModel",
            "_view_module": "@jupyter-widgets/controls",
            "_model_module_version": "1.5.0",
            "_view_count": null,
            "_view_module_version": "1.5.0",
            "box_style": "",
            "layout": "IPY_MODEL_d422b270837d477a83ea630e1eb656ab",
            "_model_module": "@jupyter-widgets/controls",
            "children": [
              "IPY_MODEL_f022aac3d1394b63bcb8ea122e269473",
              "IPY_MODEL_9ff941414e86461295016cefb2567873"
            ]
          }
        },
        "d422b270837d477a83ea630e1eb656ab": {
          "model_module": "@jupyter-widgets/base",
          "model_name": "LayoutModel",
          "state": {
            "_view_name": "LayoutView",
            "grid_template_rows": null,
            "right": null,
            "justify_content": null,
            "_view_module": "@jupyter-widgets/base",
            "overflow": null,
            "_model_module_version": "1.2.0",
            "_view_count": null,
            "flex_flow": null,
            "width": null,
            "min_width": null,
            "border": null,
            "align_items": null,
            "bottom": null,
            "_model_module": "@jupyter-widgets/base",
            "top": null,
            "grid_column": null,
            "overflow_y": null,
            "overflow_x": null,
            "grid_auto_flow": null,
            "grid_area": null,
            "grid_template_columns": null,
            "flex": null,
            "_model_name": "LayoutModel",
            "justify_items": null,
            "grid_row": null,
            "max_height": null,
            "align_content": null,
            "visibility": null,
            "align_self": null,
            "height": null,
            "min_height": null,
            "padding": null,
            "grid_auto_rows": null,
            "grid_gap": null,
            "max_width": null,
            "order": null,
            "_view_module_version": "1.2.0",
            "grid_template_areas": null,
            "object_position": null,
            "object_fit": null,
            "grid_auto_columns": null,
            "margin": null,
            "display": null,
            "left": null
          }
        },
        "f022aac3d1394b63bcb8ea122e269473": {
          "model_module": "@jupyter-widgets/controls",
          "model_name": "FloatProgressModel",
          "state": {
            "_view_name": "ProgressView",
            "style": "IPY_MODEL_45148a080cdc4230a2758df2289fa9d5",
            "_dom_classes": [],
            "description": "Downloading: 100%",
            "_model_name": "FloatProgressModel",
            "bar_style": "success",
            "max": 718,
            "_view_module": "@jupyter-widgets/controls",
            "_model_module_version": "1.5.0",
            "value": 718,
            "_view_count": null,
            "_view_module_version": "1.5.0",
            "orientation": "horizontal",
            "min": 0,
            "description_tooltip": null,
            "_model_module": "@jupyter-widgets/controls",
            "layout": "IPY_MODEL_cec28eb77a1a4883a16fc16f0c5ee4b6"
          }
        },
        "9ff941414e86461295016cefb2567873": {
          "model_module": "@jupyter-widgets/controls",
          "model_name": "HTMLModel",
          "state": {
            "_view_name": "HTMLView",
            "style": "IPY_MODEL_fd924959a6704df5bc28409ebd6afd0b",
            "_dom_classes": [],
            "description": "",
            "_model_name": "HTMLModel",
            "placeholder": "​",
            "_view_module": "@jupyter-widgets/controls",
            "_model_module_version": "1.5.0",
            "value": " 718/718 [00:29&lt;00:00, 24.0B/s]",
            "_view_count": null,
            "_view_module_version": "1.5.0",
            "description_tooltip": null,
            "_model_module": "@jupyter-widgets/controls",
            "layout": "IPY_MODEL_eba46d8d6299484ba342ac5f30807a65"
          }
        },
        "45148a080cdc4230a2758df2289fa9d5": {
          "model_module": "@jupyter-widgets/controls",
          "model_name": "ProgressStyleModel",
          "state": {
            "_view_name": "StyleView",
            "_model_name": "ProgressStyleModel",
            "description_width": "initial",
            "_view_module": "@jupyter-widgets/base",
            "_model_module_version": "1.5.0",
            "_view_count": null,
            "_view_module_version": "1.2.0",
            "bar_color": null,
            "_model_module": "@jupyter-widgets/controls"
          }
        },
        "cec28eb77a1a4883a16fc16f0c5ee4b6": {
          "model_module": "@jupyter-widgets/base",
          "model_name": "LayoutModel",
          "state": {
            "_view_name": "LayoutView",
            "grid_template_rows": null,
            "right": null,
            "justify_content": null,
            "_view_module": "@jupyter-widgets/base",
            "overflow": null,
            "_model_module_version": "1.2.0",
            "_view_count": null,
            "flex_flow": null,
            "width": null,
            "min_width": null,
            "border": null,
            "align_items": null,
            "bottom": null,
            "_model_module": "@jupyter-widgets/base",
            "top": null,
            "grid_column": null,
            "overflow_y": null,
            "overflow_x": null,
            "grid_auto_flow": null,
            "grid_area": null,
            "grid_template_columns": null,
            "flex": null,
            "_model_name": "LayoutModel",
            "justify_items": null,
            "grid_row": null,
            "max_height": null,
            "align_content": null,
            "visibility": null,
            "align_self": null,
            "height": null,
            "min_height": null,
            "padding": null,
            "grid_auto_rows": null,
            "grid_gap": null,
            "max_width": null,
            "order": null,
            "_view_module_version": "1.2.0",
            "grid_template_areas": null,
            "object_position": null,
            "object_fit": null,
            "grid_auto_columns": null,
            "margin": null,
            "display": null,
            "left": null
          }
        },
        "fd924959a6704df5bc28409ebd6afd0b": {
          "model_module": "@jupyter-widgets/controls",
          "model_name": "DescriptionStyleModel",
          "state": {
            "_view_name": "StyleView",
            "_model_name": "DescriptionStyleModel",
            "description_width": "",
            "_view_module": "@jupyter-widgets/base",
            "_model_module_version": "1.5.0",
            "_view_count": null,
            "_view_module_version": "1.2.0",
            "_model_module": "@jupyter-widgets/controls"
          }
        },
        "eba46d8d6299484ba342ac5f30807a65": {
          "model_module": "@jupyter-widgets/base",
          "model_name": "LayoutModel",
          "state": {
            "_view_name": "LayoutView",
            "grid_template_rows": null,
            "right": null,
            "justify_content": null,
            "_view_module": "@jupyter-widgets/base",
            "overflow": null,
            "_model_module_version": "1.2.0",
            "_view_count": null,
            "flex_flow": null,
            "width": null,
            "min_width": null,
            "border": null,
            "align_items": null,
            "bottom": null,
            "_model_module": "@jupyter-widgets/base",
            "top": null,
            "grid_column": null,
            "overflow_y": null,
            "overflow_x": null,
            "grid_auto_flow": null,
            "grid_area": null,
            "grid_template_columns": null,
            "flex": null,
            "_model_name": "LayoutModel",
            "justify_items": null,
            "grid_row": null,
            "max_height": null,
            "align_content": null,
            "visibility": null,
            "align_self": null,
            "height": null,
            "min_height": null,
            "padding": null,
            "grid_auto_rows": null,
            "grid_gap": null,
            "max_width": null,
            "order": null,
            "_view_module_version": "1.2.0",
            "grid_template_areas": null,
            "object_position": null,
            "object_fit": null,
            "grid_auto_columns": null,
            "margin": null,
            "display": null,
            "left": null
          }
        },
        "0d95e02b94104c1589cb3866879e3607": {
          "model_module": "@jupyter-widgets/controls",
          "model_name": "HBoxModel",
          "state": {
            "_view_name": "HBoxView",
            "_dom_classes": [],
            "_model_name": "HBoxModel",
            "_view_module": "@jupyter-widgets/controls",
            "_model_module_version": "1.5.0",
            "_view_count": null,
            "_view_module_version": "1.5.0",
            "box_style": "",
            "layout": "IPY_MODEL_984fdd76a74a48aba4d21f2d9f4f9304",
            "_model_module": "@jupyter-widgets/controls",
            "children": [
              "IPY_MODEL_73ac06eaa41a4ca186b2dd7c5500059b",
              "IPY_MODEL_cc73cc2917014358bcf62eee63654baa"
            ]
          }
        },
        "984fdd76a74a48aba4d21f2d9f4f9304": {
          "model_module": "@jupyter-widgets/base",
          "model_name": "LayoutModel",
          "state": {
            "_view_name": "LayoutView",
            "grid_template_rows": null,
            "right": null,
            "justify_content": null,
            "_view_module": "@jupyter-widgets/base",
            "overflow": null,
            "_model_module_version": "1.2.0",
            "_view_count": null,
            "flex_flow": null,
            "width": null,
            "min_width": null,
            "border": null,
            "align_items": null,
            "bottom": null,
            "_model_module": "@jupyter-widgets/base",
            "top": null,
            "grid_column": null,
            "overflow_y": null,
            "overflow_x": null,
            "grid_auto_flow": null,
            "grid_area": null,
            "grid_template_columns": null,
            "flex": null,
            "_model_name": "LayoutModel",
            "justify_items": null,
            "grid_row": null,
            "max_height": null,
            "align_content": null,
            "visibility": null,
            "align_self": null,
            "height": null,
            "min_height": null,
            "padding": null,
            "grid_auto_rows": null,
            "grid_gap": null,
            "max_width": null,
            "order": null,
            "_view_module_version": "1.2.0",
            "grid_template_areas": null,
            "object_position": null,
            "object_fit": null,
            "grid_auto_columns": null,
            "margin": null,
            "display": null,
            "left": null
          }
        },
        "73ac06eaa41a4ca186b2dd7c5500059b": {
          "model_module": "@jupyter-widgets/controls",
          "model_name": "FloatProgressModel",
          "state": {
            "_view_name": "ProgressView",
            "style": "IPY_MODEL_83e0f134e762406ca35d345dcc53752e",
            "_dom_classes": [],
            "description": "Downloading: 100%",
            "_model_name": "FloatProgressModel",
            "bar_style": "success",
            "max": 1419628976,
            "_view_module": "@jupyter-widgets/controls",
            "_model_module_version": "1.5.0",
            "value": 1419628976,
            "_view_count": null,
            "_view_module_version": "1.5.0",
            "orientation": "horizontal",
            "min": 0,
            "description_tooltip": null,
            "_model_module": "@jupyter-widgets/controls",
            "layout": "IPY_MODEL_8fafa13d264543f98de6fd2ad371e83d"
          }
        },
        "cc73cc2917014358bcf62eee63654baa": {
          "model_module": "@jupyter-widgets/controls",
          "model_name": "HTMLModel",
          "state": {
            "_view_name": "HTMLView",
            "style": "IPY_MODEL_c6c0945cff8a4ade99921ca24d59e395",
            "_dom_classes": [],
            "description": "",
            "_model_name": "HTMLModel",
            "placeholder": "​",
            "_view_module": "@jupyter-widgets/controls",
            "_model_module_version": "1.5.0",
            "value": " 1.42G/1.42G [00:29&lt;00:00, 48.5MB/s]",
            "_view_count": null,
            "_view_module_version": "1.5.0",
            "description_tooltip": null,
            "_model_module": "@jupyter-widgets/controls",
            "layout": "IPY_MODEL_bf2e44a3c235432588d11ea833e6d27f"
          }
        },
        "83e0f134e762406ca35d345dcc53752e": {
          "model_module": "@jupyter-widgets/controls",
          "model_name": "ProgressStyleModel",
          "state": {
            "_view_name": "StyleView",
            "_model_name": "ProgressStyleModel",
            "description_width": "initial",
            "_view_module": "@jupyter-widgets/base",
            "_model_module_version": "1.5.0",
            "_view_count": null,
            "_view_module_version": "1.2.0",
            "bar_color": null,
            "_model_module": "@jupyter-widgets/controls"
          }
        },
        "8fafa13d264543f98de6fd2ad371e83d": {
          "model_module": "@jupyter-widgets/base",
          "model_name": "LayoutModel",
          "state": {
            "_view_name": "LayoutView",
            "grid_template_rows": null,
            "right": null,
            "justify_content": null,
            "_view_module": "@jupyter-widgets/base",
            "overflow": null,
            "_model_module_version": "1.2.0",
            "_view_count": null,
            "flex_flow": null,
            "width": null,
            "min_width": null,
            "border": null,
            "align_items": null,
            "bottom": null,
            "_model_module": "@jupyter-widgets/base",
            "top": null,
            "grid_column": null,
            "overflow_y": null,
            "overflow_x": null,
            "grid_auto_flow": null,
            "grid_area": null,
            "grid_template_columns": null,
            "flex": null,
            "_model_name": "LayoutModel",
            "justify_items": null,
            "grid_row": null,
            "max_height": null,
            "align_content": null,
            "visibility": null,
            "align_self": null,
            "height": null,
            "min_height": null,
            "padding": null,
            "grid_auto_rows": null,
            "grid_gap": null,
            "max_width": null,
            "order": null,
            "_view_module_version": "1.2.0",
            "grid_template_areas": null,
            "object_position": null,
            "object_fit": null,
            "grid_auto_columns": null,
            "margin": null,
            "display": null,
            "left": null
          }
        },
        "c6c0945cff8a4ade99921ca24d59e395": {
          "model_module": "@jupyter-widgets/controls",
          "model_name": "DescriptionStyleModel",
          "state": {
            "_view_name": "StyleView",
            "_model_name": "DescriptionStyleModel",
            "description_width": "",
            "_view_module": "@jupyter-widgets/base",
            "_model_module_version": "1.5.0",
            "_view_count": null,
            "_view_module_version": "1.2.0",
            "_model_module": "@jupyter-widgets/controls"
          }
        },
        "bf2e44a3c235432588d11ea833e6d27f": {
          "model_module": "@jupyter-widgets/base",
          "model_name": "LayoutModel",
          "state": {
            "_view_name": "LayoutView",
            "grid_template_rows": null,
            "right": null,
            "justify_content": null,
            "_view_module": "@jupyter-widgets/base",
            "overflow": null,
            "_model_module_version": "1.2.0",
            "_view_count": null,
            "flex_flow": null,
            "width": null,
            "min_width": null,
            "border": null,
            "align_items": null,
            "bottom": null,
            "_model_module": "@jupyter-widgets/base",
            "top": null,
            "grid_column": null,
            "overflow_y": null,
            "overflow_x": null,
            "grid_auto_flow": null,
            "grid_area": null,
            "grid_template_columns": null,
            "flex": null,
            "_model_name": "LayoutModel",
            "justify_items": null,
            "grid_row": null,
            "max_height": null,
            "align_content": null,
            "visibility": null,
            "align_self": null,
            "height": null,
            "min_height": null,
            "padding": null,
            "grid_auto_rows": null,
            "grid_gap": null,
            "max_width": null,
            "order": null,
            "_view_module_version": "1.2.0",
            "grid_template_areas": null,
            "object_position": null,
            "object_fit": null,
            "grid_auto_columns": null,
            "margin": null,
            "display": null,
            "left": null
          }
        }
      }
    }
  },
  "cells": [
    {
      "cell_type": "code",
      "metadata": {
        "id": "7oB90qa-JIOK",
        "colab_type": "code",
        "outputId": "a6f919cc-a81a-4033-ad71-137e3f90928c",
        "colab": {
          "base_uri": "https://localhost:8080/",
          "height": 102
        }
      },
      "source": [
        "## Quietly installing transformers package to import\n",
        "## the GPT2Tokenizer and TFGPT2LMHeadModel\n",
        "!pip install transformers -q"
      ],
      "execution_count": 1,
      "outputs": [
        {
          "output_type": "stream",
          "text": [
            "\u001b[K     |████████████████████████████████| 665kB 2.8MB/s \n",
            "\u001b[K     |████████████████████████████████| 3.8MB 55.9MB/s \n",
            "\u001b[K     |████████████████████████████████| 1.1MB 56.4MB/s \n",
            "\u001b[K     |████████████████████████████████| 890kB 60.2MB/s \n",
            "\u001b[?25h  Building wheel for sacremoses (setup.py) ... \u001b[?25l\u001b[?25hdone\n"
          ],
          "name": "stdout"
        }
      ]
    },
    {
      "cell_type": "markdown",
      "metadata": {
        "id": "0mkkMg9RiJAz",
        "colab_type": "text"
      },
      "source": [
        "## Imports"
      ]
    },
    {
      "cell_type": "code",
      "metadata": {
        "id": "1ohArLlf2nj7",
        "colab_type": "code",
        "colab": {}
      },
      "source": [
        "import tensorflow as tf\n",
        "\n",
        "from transformers import GPT2Tokenizer, TFGPT2LMHeadModel\n",
        "\n",
        "import os\n",
        "import numpy as np\n",
        "import pandas as pd\n",
        "\n",
        "from tqdm.notebook import tqdm"
      ],
      "execution_count": 0,
      "outputs": []
    },
    {
      "cell_type": "markdown",
      "metadata": {
        "id": "qz3BbzQU3nRg",
        "colab_type": "text"
      },
      "source": [
        "## Downloading the Data\n",
        "\n",
        "The dataset is available at https://www.kaggle.com/abhinavmoudgil95/short-jokes/data\n",
        "\n",
        "Sign In to Kaggle and begin the download process for **shortjokes.csv** file. Then copy the link address for the download file and update the _URL varaiable.\n",
        "\n",
        "Once done run all the cells in the notebook. Also, you can cancel the donwload process for the file. :)"
      ]
    },
    {
      "cell_type": "code",
      "metadata": {
        "id": "r788uSoz3lkO",
        "colab_type": "code",
        "colab": {}
      },
      "source": [
        "_URL = 'https://storage.googleapis.com/kaggle-data-sets/781/1457/compressed/shortjokes.csv.zip?GoogleAccessId=web-data@kaggle-161607.iam.gserviceaccount.com&Expires=1590552129&Signature=b5VddktUlUoZ9TzTuto9MttfiH0mVKPaTwABgiaQ9PttC54CUDZEGOPnVMRaB8xYZ3VqzkmEAAUq5hDuS1mZOeEcNS5Fi5GFFKhfRMmoWX9FJT8aY%2B3mccSF3a7XlPSYqlU4KcHlulZqwow3LYKod7B1E6Eilh4GdAWLa59Re0wXBdcvd0mBiNx12hRFj9PzSyyGQMEXf%2Bgs7O3ZvVU9QO2zAvH0Kg2wLj4XRNXZsZFEx1TapdPtcyO%2BBcxpbCu7OCg%2F3tuqV81sKtmkJD4LPo532PX9q9M8p08LorXTRrVCid5fIN5QPFbkd%2FRRqOe6%2BsVyhUk65jl6nvodSrHICQ%3D%3D&response-content-disposition=attachment%3B+filename%3Dshortjokes.csv.zip'"
      ],
      "execution_count": 0,
      "outputs": []
    },
    {
      "cell_type": "code",
      "metadata": {
        "id": "6N9sG3LID_tn",
        "colab_type": "code",
        "outputId": "1673120d-1077-4f85-aada-655964c2bd09",
        "colab": {
          "base_uri": "https://localhost:8080/",
          "height": 71
        }
      },
      "source": [
        "path_to_zip = tf.keras.utils.get_file('shortjokes.csv.zip', origin=_URL, extract=True)\n",
        "\n",
        "FILE_PATH = os.path.join(os.path.dirname(path_to_zip), 'shortjokes.csv')"
      ],
      "execution_count": 4,
      "outputs": [
        {
          "output_type": "stream",
          "text": [
            "Downloading data from https://storage.googleapis.com/kaggle-data-sets/781/1457/compressed/shortjokes.csv.zip?GoogleAccessId=web-data@kaggle-161607.iam.gserviceaccount.com&Expires=1590552129&Signature=b5VddktUlUoZ9TzTuto9MttfiH0mVKPaTwABgiaQ9PttC54CUDZEGOPnVMRaB8xYZ3VqzkmEAAUq5hDuS1mZOeEcNS5Fi5GFFKhfRMmoWX9FJT8aY%2B3mccSF3a7XlPSYqlU4KcHlulZqwow3LYKod7B1E6Eilh4GdAWLa59Re0wXBdcvd0mBiNx12hRFj9PzSyyGQMEXf%2Bgs7O3ZvVU9QO2zAvH0Kg2wLj4XRNXZsZFEx1TapdPtcyO%2BBcxpbCu7OCg%2F3tuqV81sKtmkJD4LPo532PX9q9M8p08LorXTRrVCid5fIN5QPFbkd%2FRRqOe6%2BsVyhUk65jl6nvodSrHICQ%3D%3D&response-content-disposition=attachment%3B+filename%3Dshortjokes.csv.zip\n",
            "10305536/10299687 [==============================] - 0s 0us/step\n"
          ],
          "name": "stdout"
        }
      ]
    },
    {
      "cell_type": "markdown",
      "metadata": {
        "id": "W3xUvbCJFkS1",
        "colab_type": "text"
      },
      "source": [
        "## Preparing the Dataset"
      ]
    },
    {
      "cell_type": "markdown",
      "metadata": {
        "id": "emWVc6SFRHMk",
        "colab_type": "text"
      },
      "source": [
        "### Extracting jokes list from CSV"
      ]
    },
    {
      "cell_type": "code",
      "metadata": {
        "id": "zCLwNtgSGEYh",
        "colab_type": "code",
        "colab": {}
      },
      "source": [
        " pd.options.display.max_colwidth = None"
      ],
      "execution_count": 0,
      "outputs": []
    },
    {
      "cell_type": "code",
      "metadata": {
        "id": "jgTULP5fEH32",
        "colab_type": "code",
        "outputId": "d3e1f6e5-9dd1-429b-c867-52d530a2197a",
        "colab": {
          "base_uri": "https://localhost:8080/",
          "height": 204
        }
      },
      "source": [
        "jokes = pd.read_csv(FILE_PATH)\n",
        "jokes.head()"
      ],
      "execution_count": 6,
      "outputs": [
        {
          "output_type": "execute_result",
          "data": {
            "text/html": [
              "<div>\n",
              "<style scoped>\n",
              "    .dataframe tbody tr th:only-of-type {\n",
              "        vertical-align: middle;\n",
              "    }\n",
              "\n",
              "    .dataframe tbody tr th {\n",
              "        vertical-align: top;\n",
              "    }\n",
              "\n",
              "    .dataframe thead th {\n",
              "        text-align: right;\n",
              "    }\n",
              "</style>\n",
              "<table border=\"1\" class=\"dataframe\">\n",
              "  <thead>\n",
              "    <tr style=\"text-align: right;\">\n",
              "      <th></th>\n",
              "      <th>ID</th>\n",
              "      <th>Joke</th>\n",
              "    </tr>\n",
              "  </thead>\n",
              "  <tbody>\n",
              "    <tr>\n",
              "      <th>0</th>\n",
              "      <td>1</td>\n",
              "      <td>[me narrating a documentary about narrators] \"I can't hear what they're saying cuz I'm talking\"</td>\n",
              "    </tr>\n",
              "    <tr>\n",
              "      <th>1</th>\n",
              "      <td>2</td>\n",
              "      <td>Telling my daughter garlic is good for you. Good immune system and keeps pests away.Ticks, mosquitos, vampires... men.</td>\n",
              "    </tr>\n",
              "    <tr>\n",
              "      <th>2</th>\n",
              "      <td>3</td>\n",
              "      <td>I've been going through a really rough period at work this week It's my own fault for swapping my tampax for sand paper.</td>\n",
              "    </tr>\n",
              "    <tr>\n",
              "      <th>3</th>\n",
              "      <td>4</td>\n",
              "      <td>If I could have dinner with anyone, dead or alive... ...I would choose alive. -B.J. Novak-</td>\n",
              "    </tr>\n",
              "    <tr>\n",
              "      <th>4</th>\n",
              "      <td>5</td>\n",
              "      <td>Two guys walk into a bar. The third guy ducks.</td>\n",
              "    </tr>\n",
              "  </tbody>\n",
              "</table>\n",
              "</div>"
            ],
            "text/plain": [
              "   ID                                                                                                                      Joke\n",
              "0   1                           [me narrating a documentary about narrators] \"I can't hear what they're saying cuz I'm talking\"\n",
              "1   2    Telling my daughter garlic is good for you. Good immune system and keeps pests away.Ticks, mosquitos, vampires... men.\n",
              "2   3  I've been going through a really rough period at work this week It's my own fault for swapping my tampax for sand paper.\n",
              "3   4                                If I could have dinner with anyone, dead or alive... ...I would choose alive. -B.J. Novak-\n",
              "4   5                                                                            Two guys walk into a bar. The third guy ducks."
            ]
          },
          "metadata": {
            "tags": []
          },
          "execution_count": 6
        }
      ]
    },
    {
      "cell_type": "code",
      "metadata": {
        "id": "ePwTjASsNw50",
        "colab_type": "code",
        "outputId": "018401a6-6a89-495f-af12-734722d67977",
        "colab": {
          "base_uri": "https://localhost:8080/",
          "height": 102
        }
      },
      "source": [
        "jokeslist = jokes['Joke'].to_list()\n",
        "jokeslist[:5]"
      ],
      "execution_count": 7,
      "outputs": [
        {
          "output_type": "execute_result",
          "data": {
            "text/plain": [
              "['[me narrating a documentary about narrators] \"I can\\'t hear what they\\'re saying cuz I\\'m talking\"',\n",
              " 'Telling my daughter garlic is good for you. Good immune system and keeps pests away.Ticks, mosquitos, vampires... men.',\n",
              " \"I've been going through a really rough period at work this week It's my own fault for swapping my tampax for sand paper.\",\n",
              " 'If I could have dinner with anyone, dead or alive... ...I would choose alive. -B.J. Novak-',\n",
              " 'Two guys walk into a bar. The third guy ducks.']"
            ]
          },
          "metadata": {
            "tags": []
          },
          "execution_count": 7
        }
      ]
    },
    {
      "cell_type": "markdown",
      "metadata": {
        "id": "u88ehaULRO3U",
        "colab_type": "text"
      },
      "source": [
        "### Creating the Tokenizer for word tokenization"
      ]
    },
    {
      "cell_type": "code",
      "metadata": {
        "id": "lPk1pSyjPGid",
        "colab_type": "code",
        "outputId": "f964dffe-fbbf-4d2d-de2e-2e55830dc7b0",
        "colab": {
          "base_uri": "https://localhost:8080/",
          "height": 115,
          "referenced_widgets": [
            "9a01d49701a44ddead4d88676624b0b6",
            "bfdfe47c791c44e88a7448bb7cae491b",
            "b6599f298a3e44ae96e0ac245fbac7d7",
            "d3d43df60f364ac880c1ecb1565f63e1",
            "22015f4bc7d54e959693d2e4a3658880",
            "34069792f4d748ac9e07d4cc2688f369",
            "4776f1b888e24bdc86cf9c9b3c8321ab",
            "0ece065c46654a65bb62a5d2165258a6",
            "d61c612f54d44abf948f24aff2bcb3fb",
            "615975d717334fb584af57245a4d3058",
            "34936b0ec4554518a1daaaadb3fadc7c",
            "fa35203fb6f74d6e9da9ebe64b7b3dfe",
            "edbe81840ca54de58b9dfdbb3de36a2c",
            "6c70236e024a435586aae1147b8d7b18",
            "5eaa49fdd12c448281d86c8af0e001ce",
            "9263015eb8634f578a4e83cf6ae0d14e"
          ]
        }
      },
      "source": [
        "Tokenizer = GPT2Tokenizer.from_pretrained('gpt2-medium')"
      ],
      "execution_count": 8,
      "outputs": [
        {
          "output_type": "display_data",
          "data": {
            "application/vnd.jupyter.widget-view+json": {
              "model_id": "9a01d49701a44ddead4d88676624b0b6",
              "version_minor": 0,
              "version_major": 2
            },
            "text/plain": [
              "HBox(children=(FloatProgress(value=0.0, description='Downloading', max=1042301.0, style=ProgressStyle(descript…"
            ]
          },
          "metadata": {
            "tags": []
          }
        },
        {
          "output_type": "stream",
          "text": [
            "\n"
          ],
          "name": "stdout"
        },
        {
          "output_type": "display_data",
          "data": {
            "application/vnd.jupyter.widget-view+json": {
              "model_id": "d61c612f54d44abf948f24aff2bcb3fb",
              "version_minor": 0,
              "version_major": 2
            },
            "text/plain": [
              "HBox(children=(FloatProgress(value=0.0, description='Downloading', max=456318.0, style=ProgressStyle(descripti…"
            ]
          },
          "metadata": {
            "tags": []
          }
        },
        {
          "output_type": "stream",
          "text": [
            "\n"
          ],
          "name": "stdout"
        }
      ]
    },
    {
      "cell_type": "code",
      "metadata": {
        "id": "-O1BnNyNPXRx",
        "colab_type": "code",
        "colab": {}
      },
      "source": [
        "special_tokens_dict = {'pad_token': 'pad'}\n",
        "num_added_toks = Tokenizer.add_special_tokens(special_tokens_dict)\n",
        "\n",
        "START_TOKEN = '<|start|> '\n",
        "END_TOKEN = ' <|end|>'"
      ],
      "execution_count": 0,
      "outputs": []
    },
    {
      "cell_type": "markdown",
      "metadata": {
        "id": "dv2o6lzfilWm",
        "colab_type": "text"
      },
      "source": [
        "### Create Dataset from List"
      ]
    },
    {
      "cell_type": "code",
      "metadata": {
        "id": "jlCWBS-bFt89",
        "colab_type": "code",
        "colab": {}
      },
      "source": [
        "# A utility method to create a tf.data dataset from a List of jokes\n",
        "def jokeslist_to_dataset(jokeslist, tokenizer, \n",
        "                  shuffle=True, batch_size=16, MAX_LEN = 64):\n",
        "  \n",
        "\n",
        "  jokeslist = [START_TOKEN + joke + END_TOKEN for joke in jokeslist]\n",
        "\n",
        "  encodings = [tokenizer.encode_plus(joke,\n",
        "                                  None,\n",
        "                                  add_special_tokens = True,\n",
        "                                  max_length = MAX_LEN,\n",
        "                                  pad_to_max_length = True) \n",
        "              for joke in jokeslist]\n",
        "\n",
        "  ids = [x['input_ids'] for x in encodings]\n",
        "  masks = [x['attention_mask'] for x in encodings]\n",
        "  types = [x['token_type_ids'] for x in encodings]\n",
        "\n",
        "  inputs = {}\n",
        "  inputs['input_ids'] = ids\n",
        "  inputs['attention_mask'] = masks\n",
        "  inputs['token_type_ids'] = types\n",
        "\n",
        "  ds = tf.data.Dataset.from_tensor_slices(inputs)\n",
        "\n",
        "  if shuffle:\n",
        "    ds = ds.shuffle(buffer_size=len(jokeslist))\n",
        "\n",
        "  ds = ds.batch(batch_size)\n",
        "\n",
        "  return ds"
      ],
      "execution_count": 0,
      "outputs": []
    },
    {
      "cell_type": "markdown",
      "metadata": {
        "id": "NhgJUfaKir_t",
        "colab_type": "text"
      },
      "source": [
        "Note: This is a costly process since all the tokenization is done immediately. Thus it is expected to be slow. The only advantage is since everything is processed and kept in memory we are saving repated operationg while training."
      ]
    },
    {
      "cell_type": "code",
      "metadata": {
        "id": "6RpJpWbVOEsZ",
        "colab_type": "code",
        "colab": {}
      },
      "source": [
        "## In case you wish to only test the model do not run this cell\n",
        "\n",
        "jokes_dataset = jokeslist_to_dataset(jokeslist, Tokenizer)"
      ],
      "execution_count": 0,
      "outputs": []
    },
    {
      "cell_type": "markdown",
      "metadata": {
        "id": "YMiORQ8iXYNK",
        "colab_type": "text"
      },
      "source": [
        "## The Model"
      ]
    },
    {
      "cell_type": "code",
      "metadata": {
        "id": "MFGKP90jTVn1",
        "colab_type": "code",
        "outputId": "1005058b-2ef7-48d6-fbff-8690f87db0ad",
        "colab": {
          "base_uri": "https://localhost:8080/",
          "height": 115,
          "referenced_widgets": [
            "5236fec72bd64bf88dade8161616e52f",
            "d422b270837d477a83ea630e1eb656ab",
            "f022aac3d1394b63bcb8ea122e269473",
            "9ff941414e86461295016cefb2567873",
            "45148a080cdc4230a2758df2289fa9d5",
            "cec28eb77a1a4883a16fc16f0c5ee4b6",
            "fd924959a6704df5bc28409ebd6afd0b",
            "eba46d8d6299484ba342ac5f30807a65",
            "0d95e02b94104c1589cb3866879e3607",
            "984fdd76a74a48aba4d21f2d9f4f9304",
            "73ac06eaa41a4ca186b2dd7c5500059b",
            "cc73cc2917014358bcf62eee63654baa",
            "83e0f134e762406ca35d345dcc53752e",
            "8fafa13d264543f98de6fd2ad371e83d",
            "c6c0945cff8a4ade99921ca24d59e395",
            "bf2e44a3c235432588d11ea833e6d27f"
          ]
        }
      },
      "source": [
        "model = TFGPT2LMHeadModel.from_pretrained('gpt2-medium')"
      ],
      "execution_count": 10,
      "outputs": [
        {
          "output_type": "display_data",
          "data": {
            "application/vnd.jupyter.widget-view+json": {
              "model_id": "5236fec72bd64bf88dade8161616e52f",
              "version_minor": 0,
              "version_major": 2
            },
            "text/plain": [
              "HBox(children=(FloatProgress(value=0.0, description='Downloading', max=718.0, style=ProgressStyle(description_…"
            ]
          },
          "metadata": {
            "tags": []
          }
        },
        {
          "output_type": "stream",
          "text": [
            "\n"
          ],
          "name": "stdout"
        },
        {
          "output_type": "display_data",
          "data": {
            "application/vnd.jupyter.widget-view+json": {
              "model_id": "0d95e02b94104c1589cb3866879e3607",
              "version_minor": 0,
              "version_major": 2
            },
            "text/plain": [
              "HBox(children=(FloatProgress(value=0.0, description='Downloading', max=1419628976.0, style=ProgressStyle(descr…"
            ]
          },
          "metadata": {
            "tags": []
          }
        },
        {
          "output_type": "stream",
          "text": [
            "\n"
          ],
          "name": "stdout"
        }
      ]
    },
    {
      "cell_type": "code",
      "metadata": {
        "id": "E4v3XN3QXfPT",
        "colab_type": "code",
        "outputId": "3f9445a5-ae8c-409b-b83b-46ad27c78919",
        "colab": {
          "base_uri": "https://localhost:8080/",
          "height": 187
        }
      },
      "source": [
        "model.summary()"
      ],
      "execution_count": 11,
      "outputs": [
        {
          "output_type": "stream",
          "text": [
            "Model: \"tfgp_t2lm_head_model\"\n",
            "_________________________________________________________________\n",
            "Layer (type)                 Output Shape              Param #   \n",
            "=================================================================\n",
            "transformer (TFGPT2MainLayer multiple                  354823168 \n",
            "=================================================================\n",
            "Total params: 354,823,168\n",
            "Trainable params: 354,823,168\n",
            "Non-trainable params: 0\n",
            "_________________________________________________________________\n"
          ],
          "name": "stdout"
        }
      ]
    },
    {
      "cell_type": "markdown",
      "metadata": {
        "id": "Ha-i3KzwiAV2",
        "colab_type": "text"
      },
      "source": [
        "## Loss Function and Optimizer"
      ]
    },
    {
      "cell_type": "code",
      "metadata": {
        "id": "wBlnY-kOEQoq",
        "colab_type": "code",
        "colab": {}
      },
      "source": [
        "loss_function = tf.losses.SparseCategoricalCrossentropy(from_logits=True)"
      ],
      "execution_count": 0,
      "outputs": []
    },
    {
      "cell_type": "code",
      "metadata": {
        "id": "ekhYm_pBXheT",
        "colab_type": "code",
        "colab": {}
      },
      "source": [
        "optimizer = tf.keras.optimizers.Adam(learning_rate=1e-5, epsilon=1e-08, clipnorm=1.0)"
      ],
      "execution_count": 0,
      "outputs": []
    },
    {
      "cell_type": "markdown",
      "metadata": {
        "id": "6nU_9GzviDuL",
        "colab_type": "text"
      },
      "source": [
        "## Checkpointing"
      ]
    },
    {
      "cell_type": "code",
      "metadata": {
        "id": "kXlXQJSJnBYH",
        "colab_type": "code",
        "outputId": "41ec8a88-dcb8-4a7c-dbd5-67b814a3f2a5",
        "colab": {
          "base_uri": "https://localhost:8080/",
          "height": 122
        }
      },
      "source": [
        "from google.colab import drive\n",
        "drive.mount('/content/gdrive')"
      ],
      "execution_count": 14,
      "outputs": [
        {
          "output_type": "stream",
          "text": [
            "Go to this URL in a browser: https://accounts.google.com/o/oauth2/auth?client_id=947318989803-6bn6qk8qdgf4n4g3pfee6491hc0brc4i.apps.googleusercontent.com&redirect_uri=urn%3aietf%3awg%3aoauth%3a2.0%3aoob&response_type=code&scope=email%20https%3a%2f%2fwww.googleapis.com%2fauth%2fdocs.test%20https%3a%2f%2fwww.googleapis.com%2fauth%2fdrive%20https%3a%2f%2fwww.googleapis.com%2fauth%2fdrive.photos.readonly%20https%3a%2f%2fwww.googleapis.com%2fauth%2fpeopleapi.readonly\n",
            "\n",
            "Enter your authorization code:\n",
            "··········\n",
            "Mounted at /content/gdrive\n"
          ],
          "name": "stdout"
        }
      ]
    },
    {
      "cell_type": "code",
      "metadata": {
        "id": "VrCpGfDdnN-b",
        "colab_type": "code",
        "colab": {}
      },
      "source": [
        "CHECKPOINT_PATH = \"/content/gdrive/My Drive/Weights/JokeGenGPT2\""
      ],
      "execution_count": 0,
      "outputs": []
    },
    {
      "cell_type": "code",
      "metadata": {
        "id": "JWoYstRaRSTa",
        "colab_type": "code",
        "outputId": "aeea62a3-a6d9-4c6f-b605-957e25d942e8",
        "colab": {
          "base_uri": "https://localhost:8080/",
          "height": 34
        }
      },
      "source": [
        "checkpoint_path = CHECKPOINT_PATH\n",
        "\n",
        "ckpt = tf.train.Checkpoint(model = model)\n",
        "\n",
        "ckpt_manager = tf.train.CheckpointManager(ckpt, checkpoint_path, max_to_keep=5)\n",
        "\n",
        "# if a checkpoint exists, restore the latest checkpoint.\n",
        "if ckpt_manager.latest_checkpoint:\n",
        "  ckpt.restore(ckpt_manager.latest_checkpoint)\n",
        "  print ('Latest checkpoint restored!!')"
      ],
      "execution_count": 16,
      "outputs": [
        {
          "output_type": "stream",
          "text": [
            "Latest checkpoint restored!!\n"
          ],
          "name": "stdout"
        }
      ]
    },
    {
      "cell_type": "markdown",
      "metadata": {
        "id": "3wv-oeml7g89",
        "colab_type": "text"
      },
      "source": [
        "## Training"
      ]
    },
    {
      "cell_type": "code",
      "metadata": {
        "id": "P0L1ZZT2RLrT",
        "colab_type": "code",
        "colab": {}
      },
      "source": [
        "@tf.function\n",
        "def train_step(data_dict):  \n",
        "  with tf.GradientTape() as tape:\n",
        "\n",
        "    outputs = model(data_dict)\n",
        "\n",
        "    lm_logits = outputs[0]\n",
        "    labels = data_dict['input_ids']\n",
        "\n",
        "    ## For computing loss we remove the last element from logits and \n",
        "    ## first from labels. Thus we need the model to learn to predict next\n",
        "    ## word more confidently among the others. \n",
        "    shift_logits = lm_logits[..., :-1, :]\n",
        "    shift_labels = labels[..., 1:]\n",
        "    \n",
        "    loss = loss_function(tf.reshape(shift_labels, (-1,)),\n",
        "         tf.reshape(shift_logits, \n",
        "                   (-1, shift_logits.shape[-1])))\n",
        "\n",
        "  gradients = tape.gradient(loss, model.trainable_variables)    \n",
        "  optimizer.apply_gradients(zip(gradients, model.trainable_variables))\n",
        "\n",
        "  return loss"
      ],
      "execution_count": 0,
      "outputs": []
    },
    {
      "cell_type": "code",
      "metadata": {
        "id": "TdfNtCJYzKzz",
        "colab_type": "code",
        "colab": {}
      },
      "source": [
        "EPOCHS = 4\n",
        "\n",
        "for epoch in range(EPOCHS):\n",
        "  \n",
        "  for batch, data in tqdm(enumerate(jokes_dataset)):\n",
        "    loss = train_step(data)\n",
        "    if batch % 100 == 0:\n",
        "      print('Epoch : {0} Batch : {1} ---- Loss : {2}'.format(epoch+1, batch+1, loss))\n",
        "\n",
        "  \n",
        "\n",
        "  ckpt_save_path = ckpt_manager.save()\n",
        "  print ('Saving checkpoint for epoch {} at {}'.format(epoch+1,\n",
        "                                                        ckpt_save_path))"
      ],
      "execution_count": 0,
      "outputs": []
    },
    {
      "cell_type": "markdown",
      "metadata": {
        "id": "Qpyh-ydg6n2a",
        "colab_type": "text"
      },
      "source": [
        "## Inference"
      ]
    },
    {
      "cell_type": "markdown",
      "metadata": {
        "id": "Wpd2PoX57peW",
        "colab_type": "text"
      },
      "source": [
        "### Generating Joke from Scratch"
      ]
    },
    {
      "cell_type": "code",
      "metadata": {
        "id": "P3QRDWIi9xLJ",
        "colab_type": "code",
        "colab": {}
      },
      "source": [
        "def exploit_best_token_while_exploring(probabilites, exploration_len=5):\n",
        "    ## Get the top k probabilites indices where k is exploration_len \n",
        "    top_indices = np.argpartition(probabilites, -exploration_len)\\\n",
        "                            [-exploration_len:]\n",
        "\n",
        "    ## Getting top proabilities value\n",
        "    top_probabilities = probabilites[top_indices]\n",
        "\n",
        "    ## Normalizing it so that they sum is 1\n",
        "    top_probabilities = top_probabilities / np.sum(top_probabilities)\n",
        "\n",
        "    ## Although we choose next token randomly for our options we \n",
        "    ## pass the probabilities associated with each to account for the\n",
        "    ## model's confidence for the token also. \n",
        "    choice = np.random.choice(exploration_len, 1, p = top_probabilities)\n",
        "\n",
        "    ## Return next token id based on choice\n",
        "    next_token_id = int(top_indices[choice][0])\n",
        "    return next_token_id"
      ],
      "execution_count": 0,
      "outputs": []
    },
    {
      "cell_type": "code",
      "metadata": {
        "id": "moB2eE9S-34S",
        "colab_type": "code",
        "colab": {}
      },
      "source": [
        "def generate_joke(joke_length = 64):\n",
        "\n",
        "  ## Begin by appending the START_TOKEN to our current joke\n",
        "  current_joke = tf.expand_dims(tf.convert_to_tensor(Tokenizer.encode(START_TOKEN)), 0)\n",
        "  \n",
        "  for pos in range(joke_length):\n",
        "\n",
        "    ## Get output of model for the current_joke\n",
        "    output = model(current_joke)\n",
        "\n",
        "    ## Getting the logits value from output tuple i.e. (logits)\n",
        "    logits = output[0]\n",
        "\n",
        "    ## Logits is of the shape (BATCH, LEN_INPUT) \n",
        "    ## So, since batch size is 1 we get 0th index\n",
        "    ## and the softmax for only the next possible word i.e. -1\n",
        "    softmax_logits = tf.nn.softmax(logits[0, -1], axis=0).numpy()\n",
        "\n",
        "    ## Depending on whether we are in initial or final stages of joke\n",
        "    ## we determine how many options we should explore to make sure we have\n",
        "    ## variety in jokes generated\n",
        "    if pos == 0:\n",
        "      # If we are predicting first word we need maximum exploration\n",
        "      exploration_len = 50\n",
        "\n",
        "    elif pos < 4:\n",
        "      # The next three words have exploration length 15\n",
        "      exploration_len = 15\n",
        "\n",
        "    else:\n",
        "      # As we move further we narrow our exploration length\n",
        "      exploration_len = 4\n",
        "\n",
        "    ## Get the token we should append to current joke\n",
        "    token_to_append = exploit_best_token_while_exploring(softmax_logits, \n",
        "                                                         exploration_len)\n",
        "\n",
        "    ## Append the token to current joke\n",
        "    current_joke = tf.concat([current_joke, \n",
        "                              tf.ones((1,1), dtype = tf.int32)*token_to_append], \n",
        "                             axis = 1)\n",
        "    \n",
        "    ## In case the token belongs to the END_TOKEN we return it as complete joke\n",
        "    if token_to_append in Tokenizer.encode(END_TOKEN):\n",
        "      return Tokenizer.decode(list(tf.squeeze(current_joke).numpy()))\n",
        "  \n",
        "  ## If we did not get end token it means no joke is formed\n",
        "  return None"
      ],
      "execution_count": 0,
      "outputs": []
    },
    {
      "cell_type": "code",
      "metadata": {
        "id": "pMEKPeH5EEKi",
        "colab_type": "code",
        "outputId": "6089955e-16c6-4ce9-a199-71b8530a988d",
        "colab": {
          "base_uri": "https://localhost:8080/",
          "height": 34
        }
      },
      "source": [
        "generate_joke()"
      ],
      "execution_count": 0,
      "outputs": [
        {
          "output_type": "execute_result",
          "data": {
            "text/plain": [
              "'<|start|> I had a dream last night that I was the president of the US... I had to sleep through it, but it was good. <'"
            ]
          },
          "metadata": {
            "tags": []
          },
          "execution_count": 41
        }
      ]
    },
    {
      "cell_type": "code",
      "metadata": {
        "id": "V4sbOT0HEa8O",
        "colab_type": "code",
        "outputId": "10dbddb3-5f78-4b25-93d1-badc2280b7da",
        "colab": {
          "base_uri": "https://localhost:8080/",
          "height": 34
        }
      },
      "source": [
        "generate_joke()"
      ],
      "execution_count": 0,
      "outputs": [
        {
          "output_type": "execute_result",
          "data": {
            "text/plain": [
              "\"<|start|> The reason I got a divorce is because I couldn't handle my kids. <\""
            ]
          },
          "metadata": {
            "tags": []
          },
          "execution_count": 44
        }
      ]
    },
    {
      "cell_type": "code",
      "metadata": {
        "id": "oqNdESVlGb2w",
        "colab_type": "code",
        "outputId": "256489d9-8b94-49ae-e687-52e5ead49620",
        "colab": {
          "base_uri": "https://localhost:8080/",
          "height": 34
        }
      },
      "source": [
        "generate_joke()"
      ],
      "execution_count": 0,
      "outputs": [
        {
          "output_type": "execute_result",
          "data": {
            "text/plain": [
              "'<|start|> Q: What kind of shoes do pirates wear? A: Sneakers <'"
            ]
          },
          "metadata": {
            "tags": []
          },
          "execution_count": 47
        }
      ]
    },
    {
      "cell_type": "code",
      "metadata": {
        "id": "DizJsii0rvlW",
        "colab_type": "code",
        "outputId": "96a2a3b3-505e-4cfc-9f41-ea0336ff1978",
        "colab": {
          "base_uri": "https://localhost:8080/",
          "height": 34
        }
      },
      "source": [
        "generate_joke()"
      ],
      "execution_count": 0,
      "outputs": [
        {
          "output_type": "execute_result",
          "data": {
            "text/plain": [
              "\"<|start|> Why did the blonde have a sore throat? Because she couldn't concentrate <\""
            ]
          },
          "metadata": {
            "tags": []
          },
          "execution_count": 50
        }
      ]
    },
    {
      "cell_type": "code",
      "metadata": {
        "id": "lH84XzqAyyEJ",
        "colab_type": "code",
        "outputId": "45560790-2631-4e94-a6b0-0c0bf3a32da0",
        "colab": {
          "base_uri": "https://localhost:8080/",
          "height": 34
        }
      },
      "source": [
        "generate_joke()"
      ],
      "execution_count": 0,
      "outputs": [
        {
          "output_type": "execute_result",
          "data": {
            "text/plain": [
              "'<|start|> I was asked to be the spokesperson for the LGBT community in the United States. I said, \"I\\'ll be gay.\" They laughed and I said, \"I\\'m sorry, I don\\'t think I\\'m gay.\" <'"
            ]
          },
          "metadata": {
            "tags": []
          },
          "execution_count": 21
        }
      ]
    },
    {
      "cell_type": "markdown",
      "metadata": {
        "id": "daXhybek7uLd",
        "colab_type": "text"
      },
      "source": [
        "### Completing Sentences in Humorous Way"
      ]
    },
    {
      "cell_type": "code",
      "metadata": {
        "id": "4tj_bTMJ0DIq",
        "colab_type": "code",
        "colab": {}
      },
      "source": [
        "def complete_joke(initial_string = '', joke_length = 64):\n",
        "\n",
        "  ## Begin by appending the START_TOKEN along with initial string to \n",
        "  ## our current joke sentence\n",
        "  current_joke = tf.expand_dims(\n",
        "      tf.convert_to_tensor(Tokenizer.encode(START_TOKEN + initial_string)), \n",
        "      0)\n",
        "  \n",
        "  for pos in range(joke_length):\n",
        "\n",
        "    ## Get output of model for the current_joke\n",
        "    output = model(current_joke)\n",
        "\n",
        "    ## Getting the logits value from output tuple i.e. (logits)\n",
        "    logits = output[0]\n",
        "\n",
        "    ## Logits is of the shape (BATCH, LEN_INPUT) \n",
        "    ## So, since batch size is 1 we get 0th index\n",
        "    ## and the softmax for only the next possible word i.e. -1\n",
        "    softmax_logits = tf.nn.softmax(logits[0, -1], axis=0).numpy()\n",
        "\n",
        "    ## Depending on whether we are in initial or final stages of joke\n",
        "    ## we determine how many options we should explore to make sure we have\n",
        "    ## variety in jokes generated\n",
        "    if pos == 0:\n",
        "      # If we are predicting first word we need maximum exploration\n",
        "      exploration_len = 50\n",
        "\n",
        "    elif pos < 4:\n",
        "      # The next three words have exploration length 15\n",
        "      exploration_len = 15\n",
        "\n",
        "    else:\n",
        "      # As we move further we narrow our exploration length\n",
        "      exploration_len = 4\n",
        "\n",
        "    ## Get the token we should append to current joke\n",
        "    token_to_append = exploit_best_token_while_exploring(softmax_logits, \n",
        "                                                         exploration_len)\n",
        "\n",
        "    ## Append the token to current joke\n",
        "    current_joke = tf.concat([current_joke, \n",
        "                              tf.ones((1,1), dtype = tf.int32)*token_to_append], \n",
        "                             axis = 1)\n",
        "    \n",
        "    ## In case the token belongs to the END_TOKEN we return it as complete joke\n",
        "    if token_to_append in Tokenizer.encode(END_TOKEN):\n",
        "      return Tokenizer.decode(list(tf.squeeze(current_joke).numpy()))\n",
        "  \n",
        "  ## If we did not get end token it means no joke is formed and we try again\n",
        "  return complete_joke(initial_string, joke_length)"
      ],
      "execution_count": 0,
      "outputs": []
    },
    {
      "cell_type": "code",
      "metadata": {
        "id": "Y9HE08nE8BM9",
        "colab_type": "code",
        "colab": {
          "base_uri": "https://localhost:8080/",
          "height": 34
        },
        "outputId": "414a8083-e389-4214-91ad-7269213d9971"
      },
      "source": [
        "complete_joke(\"Here is the \")"
      ],
      "execution_count": 30,
      "outputs": [
        {
          "output_type": "execute_result",
          "data": {
            "text/plain": [
              "\"<|start|> Here is the best way to kill a person with one punch......it's not a good way. <\""
            ]
          },
          "metadata": {
            "tags": []
          },
          "execution_count": 30
        }
      ]
    },
    {
      "cell_type": "code",
      "metadata": {
        "id": "BKLzVnBp8JyZ",
        "colab_type": "code",
        "colab": {
          "base_uri": "https://localhost:8080/",
          "height": 34
        },
        "outputId": "4b2f48b7-e9ed-4d76-aef2-14b134c549af"
      },
      "source": [
        "complete_joke(\"Is this perfect\")"
      ],
      "execution_count": 49,
      "outputs": [
        {
          "output_type": "execute_result",
          "data": {
            "text/plain": [
              "'<|start|> Is this perfect? Or a bad idea? <'"
            ]
          },
          "metadata": {
            "tags": []
          },
          "execution_count": 49
        }
      ]
    },
    {
      "cell_type": "code",
      "metadata": {
        "id": "goKzBCFv-jQg",
        "colab_type": "code",
        "colab": {
          "base_uri": "https://localhost:8080/",
          "height": 34
        },
        "outputId": "8b1c7960-ddbe-4c56-9506-13a5dbd785ca"
      },
      "source": [
        "complete_joke(\"Where are\")"
      ],
      "execution_count": 34,
      "outputs": [
        {
          "output_type": "execute_result",
          "data": {
            "text/plain": [
              "'<|start|> Where are the best places to hide a body? The bathroom. <'"
            ]
          },
          "metadata": {
            "tags": []
          },
          "execution_count": 34
        }
      ]
    },
    {
      "cell_type": "code",
      "metadata": {
        "id": "kzjvvf0Q-uI3",
        "colab_type": "code",
        "colab": {
          "base_uri": "https://localhost:8080/",
          "height": 34
        },
        "outputId": "030408b9-8d49-4880-dc96-c883c2e59bdb"
      },
      "source": [
        "complete_joke(\"Where is \")"
      ],
      "execution_count": 36,
      "outputs": [
        {
          "output_type": "execute_result",
          "data": {
            "text/plain": [
              "\"<|start|> Where is a good place for a kid's birthday party? In a coffin. <\""
            ]
          },
          "metadata": {
            "tags": []
          },
          "execution_count": 36
        }
      ]
    },
    {
      "cell_type": "code",
      "metadata": {
        "id": "cmNJgUW5-z0F",
        "colab_type": "code",
        "colab": {
          "base_uri": "https://localhost:8080/",
          "height": 34
        },
        "outputId": "b172b142-2a28-447d-ce8d-989059321c72"
      },
      "source": [
        "complete_joke(\"Why do\")"
      ],
      "execution_count": 38,
      "outputs": [
        {
          "output_type": "execute_result",
          "data": {
            "text/plain": [
              "\"<|start|> Why do girls always get lost in the woods? Because they're not smart enough to walk alone. <\""
            ]
          },
          "metadata": {
            "tags": []
          },
          "execution_count": 38
        }
      ]
    },
    {
      "cell_type": "code",
      "metadata": {
        "id": "_rMELKCc-7w5",
        "colab_type": "code",
        "colab": {
          "base_uri": "https://localhost:8080/",
          "height": 34
        },
        "outputId": "31ba34f4-1774-4dc8-af69-1b35856ae1ba"
      },
      "source": [
        "complete_joke(\"Don't lie \")"
      ],
      "execution_count": 45,
      "outputs": [
        {
          "output_type": "execute_result",
          "data": {
            "text/plain": [
              "\"<|start|> Don't lie to your spouse, your boss, your neighbor, or anyone else about how many people you've slept with. <\""
            ]
          },
          "metadata": {
            "tags": []
          },
          "execution_count": 45
        }
      ]
    }
  ]
}