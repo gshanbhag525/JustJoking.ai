{
  "nbformat": 4,
  "nbformat_minor": 0,
  "metadata": {
    "colab": {
      "name": "Joke Generation.ipynb",
      "provenance": [],
      "collapsed_sections": []
    },
    "kernelspec": {
      "name": "python3",
      "display_name": "Python 3"
    },
    "accelerator": "GPU",
    "widgets": {
      "application/vnd.jupyter.widget-state+json": {
        "ec4c75b98e9e4c5587c75ecdb9a92163": {
          "model_module": "@jupyter-widgets/controls",
          "model_name": "HBoxModel",
          "state": {
            "_view_name": "HBoxView",
            "_dom_classes": [],
            "_model_name": "HBoxModel",
            "_view_module": "@jupyter-widgets/controls",
            "_model_module_version": "1.5.0",
            "_view_count": null,
            "_view_module_version": "1.5.0",
            "box_style": "",
            "layout": "IPY_MODEL_cfd4beb8f56345038bb4709c7c5b2f42",
            "_model_module": "@jupyter-widgets/controls",
            "children": [
              "IPY_MODEL_4cc6734302a7486f8b84ccdddbbcf331",
              "IPY_MODEL_db9d4f8b91c64618b029af96d6ccfdd5"
            ]
          }
        },
        "cfd4beb8f56345038bb4709c7c5b2f42": {
          "model_module": "@jupyter-widgets/base",
          "model_name": "LayoutModel",
          "state": {
            "_view_name": "LayoutView",
            "grid_template_rows": null,
            "right": null,
            "justify_content": null,
            "_view_module": "@jupyter-widgets/base",
            "overflow": null,
            "_model_module_version": "1.2.0",
            "_view_count": null,
            "flex_flow": null,
            "width": null,
            "min_width": null,
            "border": null,
            "align_items": null,
            "bottom": null,
            "_model_module": "@jupyter-widgets/base",
            "top": null,
            "grid_column": null,
            "overflow_y": null,
            "overflow_x": null,
            "grid_auto_flow": null,
            "grid_area": null,
            "grid_template_columns": null,
            "flex": null,
            "_model_name": "LayoutModel",
            "justify_items": null,
            "grid_row": null,
            "max_height": null,
            "align_content": null,
            "visibility": null,
            "align_self": null,
            "height": null,
            "min_height": null,
            "padding": null,
            "grid_auto_rows": null,
            "grid_gap": null,
            "max_width": null,
            "order": null,
            "_view_module_version": "1.2.0",
            "grid_template_areas": null,
            "object_position": null,
            "object_fit": null,
            "grid_auto_columns": null,
            "margin": null,
            "display": null,
            "left": null
          }
        },
        "4cc6734302a7486f8b84ccdddbbcf331": {
          "model_module": "@jupyter-widgets/controls",
          "model_name": "FloatProgressModel",
          "state": {
            "_view_name": "ProgressView",
            "style": "IPY_MODEL_125e5cb23cc645bba9decbce94c9ddec",
            "_dom_classes": [],
            "description": "Downloading: 100%",
            "_model_name": "FloatProgressModel",
            "bar_style": "success",
            "max": 1042301,
            "_view_module": "@jupyter-widgets/controls",
            "_model_module_version": "1.5.0",
            "value": 1042301,
            "_view_count": null,
            "_view_module_version": "1.5.0",
            "orientation": "horizontal",
            "min": 0,
            "description_tooltip": null,
            "_model_module": "@jupyter-widgets/controls",
            "layout": "IPY_MODEL_1b223e1f7a2e4850803ca049789e9fbd"
          }
        },
        "db9d4f8b91c64618b029af96d6ccfdd5": {
          "model_module": "@jupyter-widgets/controls",
          "model_name": "HTMLModel",
          "state": {
            "_view_name": "HTMLView",
            "style": "IPY_MODEL_295e7e3358da467ea58b0ec8c4c5c17e",
            "_dom_classes": [],
            "description": "",
            "_model_name": "HTMLModel",
            "placeholder": "​",
            "_view_module": "@jupyter-widgets/controls",
            "_model_module_version": "1.5.0",
            "value": " 1.04M/1.04M [00:03&lt;00:00, 278kB/s]",
            "_view_count": null,
            "_view_module_version": "1.5.0",
            "description_tooltip": null,
            "_model_module": "@jupyter-widgets/controls",
            "layout": "IPY_MODEL_e6d4f72af5d4464e94a58e1bb2d9e427"
          }
        },
        "125e5cb23cc645bba9decbce94c9ddec": {
          "model_module": "@jupyter-widgets/controls",
          "model_name": "ProgressStyleModel",
          "state": {
            "_view_name": "StyleView",
            "_model_name": "ProgressStyleModel",
            "description_width": "initial",
            "_view_module": "@jupyter-widgets/base",
            "_model_module_version": "1.5.0",
            "_view_count": null,
            "_view_module_version": "1.2.0",
            "bar_color": null,
            "_model_module": "@jupyter-widgets/controls"
          }
        },
        "1b223e1f7a2e4850803ca049789e9fbd": {
          "model_module": "@jupyter-widgets/base",
          "model_name": "LayoutModel",
          "state": {
            "_view_name": "LayoutView",
            "grid_template_rows": null,
            "right": null,
            "justify_content": null,
            "_view_module": "@jupyter-widgets/base",
            "overflow": null,
            "_model_module_version": "1.2.0",
            "_view_count": null,
            "flex_flow": null,
            "width": null,
            "min_width": null,
            "border": null,
            "align_items": null,
            "bottom": null,
            "_model_module": "@jupyter-widgets/base",
            "top": null,
            "grid_column": null,
            "overflow_y": null,
            "overflow_x": null,
            "grid_auto_flow": null,
            "grid_area": null,
            "grid_template_columns": null,
            "flex": null,
            "_model_name": "LayoutModel",
            "justify_items": null,
            "grid_row": null,
            "max_height": null,
            "align_content": null,
            "visibility": null,
            "align_self": null,
            "height": null,
            "min_height": null,
            "padding": null,
            "grid_auto_rows": null,
            "grid_gap": null,
            "max_width": null,
            "order": null,
            "_view_module_version": "1.2.0",
            "grid_template_areas": null,
            "object_position": null,
            "object_fit": null,
            "grid_auto_columns": null,
            "margin": null,
            "display": null,
            "left": null
          }
        },
        "295e7e3358da467ea58b0ec8c4c5c17e": {
          "model_module": "@jupyter-widgets/controls",
          "model_name": "DescriptionStyleModel",
          "state": {
            "_view_name": "StyleView",
            "_model_name": "DescriptionStyleModel",
            "description_width": "",
            "_view_module": "@jupyter-widgets/base",
            "_model_module_version": "1.5.0",
            "_view_count": null,
            "_view_module_version": "1.2.0",
            "_model_module": "@jupyter-widgets/controls"
          }
        },
        "e6d4f72af5d4464e94a58e1bb2d9e427": {
          "model_module": "@jupyter-widgets/base",
          "model_name": "LayoutModel",
          "state": {
            "_view_name": "LayoutView",
            "grid_template_rows": null,
            "right": null,
            "justify_content": null,
            "_view_module": "@jupyter-widgets/base",
            "overflow": null,
            "_model_module_version": "1.2.0",
            "_view_count": null,
            "flex_flow": null,
            "width": null,
            "min_width": null,
            "border": null,
            "align_items": null,
            "bottom": null,
            "_model_module": "@jupyter-widgets/base",
            "top": null,
            "grid_column": null,
            "overflow_y": null,
            "overflow_x": null,
            "grid_auto_flow": null,
            "grid_area": null,
            "grid_template_columns": null,
            "flex": null,
            "_model_name": "LayoutModel",
            "justify_items": null,
            "grid_row": null,
            "max_height": null,
            "align_content": null,
            "visibility": null,
            "align_self": null,
            "height": null,
            "min_height": null,
            "padding": null,
            "grid_auto_rows": null,
            "grid_gap": null,
            "max_width": null,
            "order": null,
            "_view_module_version": "1.2.0",
            "grid_template_areas": null,
            "object_position": null,
            "object_fit": null,
            "grid_auto_columns": null,
            "margin": null,
            "display": null,
            "left": null
          }
        },
        "f1d73aa8afab47d6b9d918c9fed6b18c": {
          "model_module": "@jupyter-widgets/controls",
          "model_name": "HBoxModel",
          "state": {
            "_view_name": "HBoxView",
            "_dom_classes": [],
            "_model_name": "HBoxModel",
            "_view_module": "@jupyter-widgets/controls",
            "_model_module_version": "1.5.0",
            "_view_count": null,
            "_view_module_version": "1.5.0",
            "box_style": "",
            "layout": "IPY_MODEL_23b9298825354c3da5356c7588e3e3bb",
            "_model_module": "@jupyter-widgets/controls",
            "children": [
              "IPY_MODEL_5e645dc047a645dd97de5fb5ef93b68c",
              "IPY_MODEL_48e928b6e54944868a6361c09a30f3ae"
            ]
          }
        },
        "23b9298825354c3da5356c7588e3e3bb": {
          "model_module": "@jupyter-widgets/base",
          "model_name": "LayoutModel",
          "state": {
            "_view_name": "LayoutView",
            "grid_template_rows": null,
            "right": null,
            "justify_content": null,
            "_view_module": "@jupyter-widgets/base",
            "overflow": null,
            "_model_module_version": "1.2.0",
            "_view_count": null,
            "flex_flow": null,
            "width": null,
            "min_width": null,
            "border": null,
            "align_items": null,
            "bottom": null,
            "_model_module": "@jupyter-widgets/base",
            "top": null,
            "grid_column": null,
            "overflow_y": null,
            "overflow_x": null,
            "grid_auto_flow": null,
            "grid_area": null,
            "grid_template_columns": null,
            "flex": null,
            "_model_name": "LayoutModel",
            "justify_items": null,
            "grid_row": null,
            "max_height": null,
            "align_content": null,
            "visibility": null,
            "align_self": null,
            "height": null,
            "min_height": null,
            "padding": null,
            "grid_auto_rows": null,
            "grid_gap": null,
            "max_width": null,
            "order": null,
            "_view_module_version": "1.2.0",
            "grid_template_areas": null,
            "object_position": null,
            "object_fit": null,
            "grid_auto_columns": null,
            "margin": null,
            "display": null,
            "left": null
          }
        },
        "5e645dc047a645dd97de5fb5ef93b68c": {
          "model_module": "@jupyter-widgets/controls",
          "model_name": "FloatProgressModel",
          "state": {
            "_view_name": "ProgressView",
            "style": "IPY_MODEL_c77d0a57509640b5929fc826a87a11a9",
            "_dom_classes": [],
            "description": "Downloading: 100%",
            "_model_name": "FloatProgressModel",
            "bar_style": "success",
            "max": 456318,
            "_view_module": "@jupyter-widgets/controls",
            "_model_module_version": "1.5.0",
            "value": 456318,
            "_view_count": null,
            "_view_module_version": "1.5.0",
            "orientation": "horizontal",
            "min": 0,
            "description_tooltip": null,
            "_model_module": "@jupyter-widgets/controls",
            "layout": "IPY_MODEL_ab2719372e5f44ecb30bdcec5b27319e"
          }
        },
        "48e928b6e54944868a6361c09a30f3ae": {
          "model_module": "@jupyter-widgets/controls",
          "model_name": "HTMLModel",
          "state": {
            "_view_name": "HTMLView",
            "style": "IPY_MODEL_f0ec3b47a08243e7abba7b75db3425fe",
            "_dom_classes": [],
            "description": "",
            "_model_name": "HTMLModel",
            "placeholder": "​",
            "_view_module": "@jupyter-widgets/controls",
            "_model_module_version": "1.5.0",
            "value": " 456k/456k [00:01&lt;00:00, 440kB/s]",
            "_view_count": null,
            "_view_module_version": "1.5.0",
            "description_tooltip": null,
            "_model_module": "@jupyter-widgets/controls",
            "layout": "IPY_MODEL_f93f3aea8c21445aa3a90c3bb70ea295"
          }
        },
        "c77d0a57509640b5929fc826a87a11a9": {
          "model_module": "@jupyter-widgets/controls",
          "model_name": "ProgressStyleModel",
          "state": {
            "_view_name": "StyleView",
            "_model_name": "ProgressStyleModel",
            "description_width": "initial",
            "_view_module": "@jupyter-widgets/base",
            "_model_module_version": "1.5.0",
            "_view_count": null,
            "_view_module_version": "1.2.0",
            "bar_color": null,
            "_model_module": "@jupyter-widgets/controls"
          }
        },
        "ab2719372e5f44ecb30bdcec5b27319e": {
          "model_module": "@jupyter-widgets/base",
          "model_name": "LayoutModel",
          "state": {
            "_view_name": "LayoutView",
            "grid_template_rows": null,
            "right": null,
            "justify_content": null,
            "_view_module": "@jupyter-widgets/base",
            "overflow": null,
            "_model_module_version": "1.2.0",
            "_view_count": null,
            "flex_flow": null,
            "width": null,
            "min_width": null,
            "border": null,
            "align_items": null,
            "bottom": null,
            "_model_module": "@jupyter-widgets/base",
            "top": null,
            "grid_column": null,
            "overflow_y": null,
            "overflow_x": null,
            "grid_auto_flow": null,
            "grid_area": null,
            "grid_template_columns": null,
            "flex": null,
            "_model_name": "LayoutModel",
            "justify_items": null,
            "grid_row": null,
            "max_height": null,
            "align_content": null,
            "visibility": null,
            "align_self": null,
            "height": null,
            "min_height": null,
            "padding": null,
            "grid_auto_rows": null,
            "grid_gap": null,
            "max_width": null,
            "order": null,
            "_view_module_version": "1.2.0",
            "grid_template_areas": null,
            "object_position": null,
            "object_fit": null,
            "grid_auto_columns": null,
            "margin": null,
            "display": null,
            "left": null
          }
        },
        "f0ec3b47a08243e7abba7b75db3425fe": {
          "model_module": "@jupyter-widgets/controls",
          "model_name": "DescriptionStyleModel",
          "state": {
            "_view_name": "StyleView",
            "_model_name": "DescriptionStyleModel",
            "description_width": "",
            "_view_module": "@jupyter-widgets/base",
            "_model_module_version": "1.5.0",
            "_view_count": null,
            "_view_module_version": "1.2.0",
            "_model_module": "@jupyter-widgets/controls"
          }
        },
        "f93f3aea8c21445aa3a90c3bb70ea295": {
          "model_module": "@jupyter-widgets/base",
          "model_name": "LayoutModel",
          "state": {
            "_view_name": "LayoutView",
            "grid_template_rows": null,
            "right": null,
            "justify_content": null,
            "_view_module": "@jupyter-widgets/base",
            "overflow": null,
            "_model_module_version": "1.2.0",
            "_view_count": null,
            "flex_flow": null,
            "width": null,
            "min_width": null,
            "border": null,
            "align_items": null,
            "bottom": null,
            "_model_module": "@jupyter-widgets/base",
            "top": null,
            "grid_column": null,
            "overflow_y": null,
            "overflow_x": null,
            "grid_auto_flow": null,
            "grid_area": null,
            "grid_template_columns": null,
            "flex": null,
            "_model_name": "LayoutModel",
            "justify_items": null,
            "grid_row": null,
            "max_height": null,
            "align_content": null,
            "visibility": null,
            "align_self": null,
            "height": null,
            "min_height": null,
            "padding": null,
            "grid_auto_rows": null,
            "grid_gap": null,
            "max_width": null,
            "order": null,
            "_view_module_version": "1.2.0",
            "grid_template_areas": null,
            "object_position": null,
            "object_fit": null,
            "grid_auto_columns": null,
            "margin": null,
            "display": null,
            "left": null
          }
        },
        "cd8bf47dea74461f947ef28e695c078c": {
          "model_module": "@jupyter-widgets/controls",
          "model_name": "HBoxModel",
          "state": {
            "_view_name": "HBoxView",
            "_dom_classes": [],
            "_model_name": "HBoxModel",
            "_view_module": "@jupyter-widgets/controls",
            "_model_module_version": "1.5.0",
            "_view_count": null,
            "_view_module_version": "1.5.0",
            "box_style": "",
            "layout": "IPY_MODEL_19e8709888b9413f9e0b73e8ea037a61",
            "_model_module": "@jupyter-widgets/controls",
            "children": [
              "IPY_MODEL_43a5544311714612ba4bdf5fe78b5d1e",
              "IPY_MODEL_e79a3d6a89b2430ea8fe78d9f3895b5b"
            ]
          }
        },
        "19e8709888b9413f9e0b73e8ea037a61": {
          "model_module": "@jupyter-widgets/base",
          "model_name": "LayoutModel",
          "state": {
            "_view_name": "LayoutView",
            "grid_template_rows": null,
            "right": null,
            "justify_content": null,
            "_view_module": "@jupyter-widgets/base",
            "overflow": null,
            "_model_module_version": "1.2.0",
            "_view_count": null,
            "flex_flow": null,
            "width": null,
            "min_width": null,
            "border": null,
            "align_items": null,
            "bottom": null,
            "_model_module": "@jupyter-widgets/base",
            "top": null,
            "grid_column": null,
            "overflow_y": null,
            "overflow_x": null,
            "grid_auto_flow": null,
            "grid_area": null,
            "grid_template_columns": null,
            "flex": null,
            "_model_name": "LayoutModel",
            "justify_items": null,
            "grid_row": null,
            "max_height": null,
            "align_content": null,
            "visibility": null,
            "align_self": null,
            "height": null,
            "min_height": null,
            "padding": null,
            "grid_auto_rows": null,
            "grid_gap": null,
            "max_width": null,
            "order": null,
            "_view_module_version": "1.2.0",
            "grid_template_areas": null,
            "object_position": null,
            "object_fit": null,
            "grid_auto_columns": null,
            "margin": null,
            "display": null,
            "left": null
          }
        },
        "43a5544311714612ba4bdf5fe78b5d1e": {
          "model_module": "@jupyter-widgets/controls",
          "model_name": "FloatProgressModel",
          "state": {
            "_view_name": "ProgressView",
            "style": "IPY_MODEL_7d208e3441404cc49e3813861389b7f7",
            "_dom_classes": [],
            "description": "Downloading: 100%",
            "_model_name": "FloatProgressModel",
            "bar_style": "success",
            "max": 718,
            "_view_module": "@jupyter-widgets/controls",
            "_model_module_version": "1.5.0",
            "value": 718,
            "_view_count": null,
            "_view_module_version": "1.5.0",
            "orientation": "horizontal",
            "min": 0,
            "description_tooltip": null,
            "_model_module": "@jupyter-widgets/controls",
            "layout": "IPY_MODEL_eaf77af6a3de4f82aef6f3b3a4b9f55d"
          }
        },
        "e79a3d6a89b2430ea8fe78d9f3895b5b": {
          "model_module": "@jupyter-widgets/controls",
          "model_name": "HTMLModel",
          "state": {
            "_view_name": "HTMLView",
            "style": "IPY_MODEL_6b55ab0a201241ce8cb3a494862ea50a",
            "_dom_classes": [],
            "description": "",
            "_model_name": "HTMLModel",
            "placeholder": "​",
            "_view_module": "@jupyter-widgets/controls",
            "_model_module_version": "1.5.0",
            "value": " 718/718 [00:00&lt;00:00, 3.46kB/s]",
            "_view_count": null,
            "_view_module_version": "1.5.0",
            "description_tooltip": null,
            "_model_module": "@jupyter-widgets/controls",
            "layout": "IPY_MODEL_f7285c8b250f4af0b1eacc77e26e807f"
          }
        },
        "7d208e3441404cc49e3813861389b7f7": {
          "model_module": "@jupyter-widgets/controls",
          "model_name": "ProgressStyleModel",
          "state": {
            "_view_name": "StyleView",
            "_model_name": "ProgressStyleModel",
            "description_width": "initial",
            "_view_module": "@jupyter-widgets/base",
            "_model_module_version": "1.5.0",
            "_view_count": null,
            "_view_module_version": "1.2.0",
            "bar_color": null,
            "_model_module": "@jupyter-widgets/controls"
          }
        },
        "eaf77af6a3de4f82aef6f3b3a4b9f55d": {
          "model_module": "@jupyter-widgets/base",
          "model_name": "LayoutModel",
          "state": {
            "_view_name": "LayoutView",
            "grid_template_rows": null,
            "right": null,
            "justify_content": null,
            "_view_module": "@jupyter-widgets/base",
            "overflow": null,
            "_model_module_version": "1.2.0",
            "_view_count": null,
            "flex_flow": null,
            "width": null,
            "min_width": null,
            "border": null,
            "align_items": null,
            "bottom": null,
            "_model_module": "@jupyter-widgets/base",
            "top": null,
            "grid_column": null,
            "overflow_y": null,
            "overflow_x": null,
            "grid_auto_flow": null,
            "grid_area": null,
            "grid_template_columns": null,
            "flex": null,
            "_model_name": "LayoutModel",
            "justify_items": null,
            "grid_row": null,
            "max_height": null,
            "align_content": null,
            "visibility": null,
            "align_self": null,
            "height": null,
            "min_height": null,
            "padding": null,
            "grid_auto_rows": null,
            "grid_gap": null,
            "max_width": null,
            "order": null,
            "_view_module_version": "1.2.0",
            "grid_template_areas": null,
            "object_position": null,
            "object_fit": null,
            "grid_auto_columns": null,
            "margin": null,
            "display": null,
            "left": null
          }
        },
        "6b55ab0a201241ce8cb3a494862ea50a": {
          "model_module": "@jupyter-widgets/controls",
          "model_name": "DescriptionStyleModel",
          "state": {
            "_view_name": "StyleView",
            "_model_name": "DescriptionStyleModel",
            "description_width": "",
            "_view_module": "@jupyter-widgets/base",
            "_model_module_version": "1.5.0",
            "_view_count": null,
            "_view_module_version": "1.2.0",
            "_model_module": "@jupyter-widgets/controls"
          }
        },
        "f7285c8b250f4af0b1eacc77e26e807f": {
          "model_module": "@jupyter-widgets/base",
          "model_name": "LayoutModel",
          "state": {
            "_view_name": "LayoutView",
            "grid_template_rows": null,
            "right": null,
            "justify_content": null,
            "_view_module": "@jupyter-widgets/base",
            "overflow": null,
            "_model_module_version": "1.2.0",
            "_view_count": null,
            "flex_flow": null,
            "width": null,
            "min_width": null,
            "border": null,
            "align_items": null,
            "bottom": null,
            "_model_module": "@jupyter-widgets/base",
            "top": null,
            "grid_column": null,
            "overflow_y": null,
            "overflow_x": null,
            "grid_auto_flow": null,
            "grid_area": null,
            "grid_template_columns": null,
            "flex": null,
            "_model_name": "LayoutModel",
            "justify_items": null,
            "grid_row": null,
            "max_height": null,
            "align_content": null,
            "visibility": null,
            "align_self": null,
            "height": null,
            "min_height": null,
            "padding": null,
            "grid_auto_rows": null,
            "grid_gap": null,
            "max_width": null,
            "order": null,
            "_view_module_version": "1.2.0",
            "grid_template_areas": null,
            "object_position": null,
            "object_fit": null,
            "grid_auto_columns": null,
            "margin": null,
            "display": null,
            "left": null
          }
        },
        "76b02cb0713b414d9ab10087af4f657f": {
          "model_module": "@jupyter-widgets/controls",
          "model_name": "HBoxModel",
          "state": {
            "_view_name": "HBoxView",
            "_dom_classes": [],
            "_model_name": "HBoxModel",
            "_view_module": "@jupyter-widgets/controls",
            "_model_module_version": "1.5.0",
            "_view_count": null,
            "_view_module_version": "1.5.0",
            "box_style": "",
            "layout": "IPY_MODEL_7061ed040f6c49a3af5564f6ffc13da9",
            "_model_module": "@jupyter-widgets/controls",
            "children": [
              "IPY_MODEL_8e5786a479a6495dbf373b1d4b2b036c",
              "IPY_MODEL_74a97357cdbc4b2495c6af2347760028"
            ]
          }
        },
        "7061ed040f6c49a3af5564f6ffc13da9": {
          "model_module": "@jupyter-widgets/base",
          "model_name": "LayoutModel",
          "state": {
            "_view_name": "LayoutView",
            "grid_template_rows": null,
            "right": null,
            "justify_content": null,
            "_view_module": "@jupyter-widgets/base",
            "overflow": null,
            "_model_module_version": "1.2.0",
            "_view_count": null,
            "flex_flow": null,
            "width": null,
            "min_width": null,
            "border": null,
            "align_items": null,
            "bottom": null,
            "_model_module": "@jupyter-widgets/base",
            "top": null,
            "grid_column": null,
            "overflow_y": null,
            "overflow_x": null,
            "grid_auto_flow": null,
            "grid_area": null,
            "grid_template_columns": null,
            "flex": null,
            "_model_name": "LayoutModel",
            "justify_items": null,
            "grid_row": null,
            "max_height": null,
            "align_content": null,
            "visibility": null,
            "align_self": null,
            "height": null,
            "min_height": null,
            "padding": null,
            "grid_auto_rows": null,
            "grid_gap": null,
            "max_width": null,
            "order": null,
            "_view_module_version": "1.2.0",
            "grid_template_areas": null,
            "object_position": null,
            "object_fit": null,
            "grid_auto_columns": null,
            "margin": null,
            "display": null,
            "left": null
          }
        },
        "8e5786a479a6495dbf373b1d4b2b036c": {
          "model_module": "@jupyter-widgets/controls",
          "model_name": "FloatProgressModel",
          "state": {
            "_view_name": "ProgressView",
            "style": "IPY_MODEL_0268bdd84c7c49f2a3f288c0db2b299c",
            "_dom_classes": [],
            "description": "Downloading: 100%",
            "_model_name": "FloatProgressModel",
            "bar_style": "success",
            "max": 1419628976,
            "_view_module": "@jupyter-widgets/controls",
            "_model_module_version": "1.5.0",
            "value": 1419628976,
            "_view_count": null,
            "_view_module_version": "1.5.0",
            "orientation": "horizontal",
            "min": 0,
            "description_tooltip": null,
            "_model_module": "@jupyter-widgets/controls",
            "layout": "IPY_MODEL_5d80a271cb10415582e556c186f0e5f7"
          }
        },
        "74a97357cdbc4b2495c6af2347760028": {
          "model_module": "@jupyter-widgets/controls",
          "model_name": "HTMLModel",
          "state": {
            "_view_name": "HTMLView",
            "style": "IPY_MODEL_1d18410a061f4bd991cd6b8d65f5f19d",
            "_dom_classes": [],
            "description": "",
            "_model_name": "HTMLModel",
            "placeholder": "​",
            "_view_module": "@jupyter-widgets/controls",
            "_model_module_version": "1.5.0",
            "value": " 1.42G/1.42G [00:50&lt;00:00, 28.0MB/s]",
            "_view_count": null,
            "_view_module_version": "1.5.0",
            "description_tooltip": null,
            "_model_module": "@jupyter-widgets/controls",
            "layout": "IPY_MODEL_0abd518ee8bf4c509504d9a26cc024ac"
          }
        },
        "0268bdd84c7c49f2a3f288c0db2b299c": {
          "model_module": "@jupyter-widgets/controls",
          "model_name": "ProgressStyleModel",
          "state": {
            "_view_name": "StyleView",
            "_model_name": "ProgressStyleModel",
            "description_width": "initial",
            "_view_module": "@jupyter-widgets/base",
            "_model_module_version": "1.5.0",
            "_view_count": null,
            "_view_module_version": "1.2.0",
            "bar_color": null,
            "_model_module": "@jupyter-widgets/controls"
          }
        },
        "5d80a271cb10415582e556c186f0e5f7": {
          "model_module": "@jupyter-widgets/base",
          "model_name": "LayoutModel",
          "state": {
            "_view_name": "LayoutView",
            "grid_template_rows": null,
            "right": null,
            "justify_content": null,
            "_view_module": "@jupyter-widgets/base",
            "overflow": null,
            "_model_module_version": "1.2.0",
            "_view_count": null,
            "flex_flow": null,
            "width": null,
            "min_width": null,
            "border": null,
            "align_items": null,
            "bottom": null,
            "_model_module": "@jupyter-widgets/base",
            "top": null,
            "grid_column": null,
            "overflow_y": null,
            "overflow_x": null,
            "grid_auto_flow": null,
            "grid_area": null,
            "grid_template_columns": null,
            "flex": null,
            "_model_name": "LayoutModel",
            "justify_items": null,
            "grid_row": null,
            "max_height": null,
            "align_content": null,
            "visibility": null,
            "align_self": null,
            "height": null,
            "min_height": null,
            "padding": null,
            "grid_auto_rows": null,
            "grid_gap": null,
            "max_width": null,
            "order": null,
            "_view_module_version": "1.2.0",
            "grid_template_areas": null,
            "object_position": null,
            "object_fit": null,
            "grid_auto_columns": null,
            "margin": null,
            "display": null,
            "left": null
          }
        },
        "1d18410a061f4bd991cd6b8d65f5f19d": {
          "model_module": "@jupyter-widgets/controls",
          "model_name": "DescriptionStyleModel",
          "state": {
            "_view_name": "StyleView",
            "_model_name": "DescriptionStyleModel",
            "description_width": "",
            "_view_module": "@jupyter-widgets/base",
            "_model_module_version": "1.5.0",
            "_view_count": null,
            "_view_module_version": "1.2.0",
            "_model_module": "@jupyter-widgets/controls"
          }
        },
        "0abd518ee8bf4c509504d9a26cc024ac": {
          "model_module": "@jupyter-widgets/base",
          "model_name": "LayoutModel",
          "state": {
            "_view_name": "LayoutView",
            "grid_template_rows": null,
            "right": null,
            "justify_content": null,
            "_view_module": "@jupyter-widgets/base",
            "overflow": null,
            "_model_module_version": "1.2.0",
            "_view_count": null,
            "flex_flow": null,
            "width": null,
            "min_width": null,
            "border": null,
            "align_items": null,
            "bottom": null,
            "_model_module": "@jupyter-widgets/base",
            "top": null,
            "grid_column": null,
            "overflow_y": null,
            "overflow_x": null,
            "grid_auto_flow": null,
            "grid_area": null,
            "grid_template_columns": null,
            "flex": null,
            "_model_name": "LayoutModel",
            "justify_items": null,
            "grid_row": null,
            "max_height": null,
            "align_content": null,
            "visibility": null,
            "align_self": null,
            "height": null,
            "min_height": null,
            "padding": null,
            "grid_auto_rows": null,
            "grid_gap": null,
            "max_width": null,
            "order": null,
            "_view_module_version": "1.2.0",
            "grid_template_areas": null,
            "object_position": null,
            "object_fit": null,
            "grid_auto_columns": null,
            "margin": null,
            "display": null,
            "left": null
          }
        }
      }
    }
  },
  "cells": [
    {
      "cell_type": "code",
      "metadata": {
        "id": "7oB90qa-JIOK",
        "colab_type": "code",
        "outputId": "b9231542-9043-4011-edab-6f8552141784",
        "colab": {
          "base_uri": "https://localhost:8080/",
          "height": 102
        }
      },
      "source": [
        "## Quietly installing transformers package to import\n",
        "## the GPT2Tokenizer and TFGPT2LMHeadModel\n",
        "!pip install transformers -q"
      ],
      "execution_count": 1,
      "outputs": [
        {
          "output_type": "stream",
          "text": [
            "\u001b[?25l\r\u001b[K     |▌                               | 10kB 26.4MB/s eta 0:00:01\r\u001b[K     |█                               | 20kB 1.8MB/s eta 0:00:01\r\u001b[K     |█▌                              | 30kB 2.3MB/s eta 0:00:01\r\u001b[K     |██                              | 40kB 2.5MB/s eta 0:00:01\r\u001b[K     |██▌                             | 51kB 2.0MB/s eta 0:00:01\r\u001b[K     |███                             | 61kB 2.2MB/s eta 0:00:01\r\u001b[K     |███▌                            | 71kB 2.5MB/s eta 0:00:01\r\u001b[K     |████                            | 81kB 2.7MB/s eta 0:00:01\r\u001b[K     |████▌                           | 92kB 2.9MB/s eta 0:00:01\r\u001b[K     |█████                           | 102kB 2.8MB/s eta 0:00:01\r\u001b[K     |█████▌                          | 112kB 2.8MB/s eta 0:00:01\r\u001b[K     |██████                          | 122kB 2.8MB/s eta 0:00:01\r\u001b[K     |██████▌                         | 133kB 2.8MB/s eta 0:00:01\r\u001b[K     |███████                         | 143kB 2.8MB/s eta 0:00:01\r\u001b[K     |███████▌                        | 153kB 2.8MB/s eta 0:00:01\r\u001b[K     |████████                        | 163kB 2.8MB/s eta 0:00:01\r\u001b[K     |████████▍                       | 174kB 2.8MB/s eta 0:00:01\r\u001b[K     |█████████                       | 184kB 2.8MB/s eta 0:00:01\r\u001b[K     |█████████▍                      | 194kB 2.8MB/s eta 0:00:01\r\u001b[K     |██████████                      | 204kB 2.8MB/s eta 0:00:01\r\u001b[K     |██████████▍                     | 215kB 2.8MB/s eta 0:00:01\r\u001b[K     |███████████                     | 225kB 2.8MB/s eta 0:00:01\r\u001b[K     |███████████▍                    | 235kB 2.8MB/s eta 0:00:01\r\u001b[K     |████████████                    | 245kB 2.8MB/s eta 0:00:01\r\u001b[K     |████████████▍                   | 256kB 2.8MB/s eta 0:00:01\r\u001b[K     |█████████████                   | 266kB 2.8MB/s eta 0:00:01\r\u001b[K     |█████████████▍                  | 276kB 2.8MB/s eta 0:00:01\r\u001b[K     |██████████████                  | 286kB 2.8MB/s eta 0:00:01\r\u001b[K     |██████████████▍                 | 296kB 2.8MB/s eta 0:00:01\r\u001b[K     |███████████████                 | 307kB 2.8MB/s eta 0:00:01\r\u001b[K     |███████████████▍                | 317kB 2.8MB/s eta 0:00:01\r\u001b[K     |███████████████▉                | 327kB 2.8MB/s eta 0:00:01\r\u001b[K     |████████████████▍               | 337kB 2.8MB/s eta 0:00:01\r\u001b[K     |████████████████▉               | 348kB 2.8MB/s eta 0:00:01\r\u001b[K     |█████████████████▍              | 358kB 2.8MB/s eta 0:00:01\r\u001b[K     |█████████████████▉              | 368kB 2.8MB/s eta 0:00:01\r\u001b[K     |██████████████████▍             | 378kB 2.8MB/s eta 0:00:01\r\u001b[K     |██████████████████▉             | 389kB 2.8MB/s eta 0:00:01\r\u001b[K     |███████████████████▍            | 399kB 2.8MB/s eta 0:00:01\r\u001b[K     |███████████████████▉            | 409kB 2.8MB/s eta 0:00:01\r\u001b[K     |████████████████████▍           | 419kB 2.8MB/s eta 0:00:01\r\u001b[K     |████████████████████▉           | 430kB 2.8MB/s eta 0:00:01\r\u001b[K     |█████████████████████▍          | 440kB 2.8MB/s eta 0:00:01\r\u001b[K     |█████████████████████▉          | 450kB 2.8MB/s eta 0:00:01\r\u001b[K     |██████████████████████▍         | 460kB 2.8MB/s eta 0:00:01\r\u001b[K     |██████████████████████▉         | 471kB 2.8MB/s eta 0:00:01\r\u001b[K     |███████████████████████▎        | 481kB 2.8MB/s eta 0:00:01\r\u001b[K     |███████████████████████▉        | 491kB 2.8MB/s eta 0:00:01\r\u001b[K     |████████████████████████▎       | 501kB 2.8MB/s eta 0:00:01\r\u001b[K     |████████████████████████▉       | 512kB 2.8MB/s eta 0:00:01\r\u001b[K     |█████████████████████████▎      | 522kB 2.8MB/s eta 0:00:01\r\u001b[K     |█████████████████████████▉      | 532kB 2.8MB/s eta 0:00:01\r\u001b[K     |██████████████████████████▎     | 542kB 2.8MB/s eta 0:00:01\r\u001b[K     |██████████████████████████▉     | 552kB 2.8MB/s eta 0:00:01\r\u001b[K     |███████████████████████████▎    | 563kB 2.8MB/s eta 0:00:01\r\u001b[K     |███████████████████████████▉    | 573kB 2.8MB/s eta 0:00:01\r\u001b[K     |████████████████████████████▎   | 583kB 2.8MB/s eta 0:00:01\r\u001b[K     |████████████████████████████▉   | 593kB 2.8MB/s eta 0:00:01\r\u001b[K     |█████████████████████████████▎  | 604kB 2.8MB/s eta 0:00:01\r\u001b[K     |█████████████████████████████▉  | 614kB 2.8MB/s eta 0:00:01\r\u001b[K     |██████████████████████████████▎ | 624kB 2.8MB/s eta 0:00:01\r\u001b[K     |██████████████████████████████▊ | 634kB 2.8MB/s eta 0:00:01\r\u001b[K     |███████████████████████████████▎| 645kB 2.8MB/s eta 0:00:01\r\u001b[K     |███████████████████████████████▊| 655kB 2.8MB/s eta 0:00:01\r\u001b[K     |████████████████████████████████| 665kB 2.8MB/s \n",
            "\u001b[?25h\u001b[?25l\r\u001b[K     |▎                               | 10kB 20.9MB/s eta 0:00:01\r\u001b[K     |▋                               | 20kB 13.9MB/s eta 0:00:01\r\u001b[K     |█                               | 30kB 17.8MB/s eta 0:00:01\r\u001b[K     |█▏                              | 40kB 12.6MB/s eta 0:00:01\r\u001b[K     |█▌                              | 51kB 8.9MB/s eta 0:00:01\r\u001b[K     |█▉                              | 61kB 10.3MB/s eta 0:00:01\r\u001b[K     |██▏                             | 71kB 9.5MB/s eta 0:00:01\r\u001b[K     |██▍                             | 81kB 10.5MB/s eta 0:00:01\r\u001b[K     |██▊                             | 92kB 9.9MB/s eta 0:00:01\r\u001b[K     |███                             | 102kB 9.4MB/s eta 0:00:01\r\u001b[K     |███▍                            | 112kB 9.4MB/s eta 0:00:01\r\u001b[K     |███▋                            | 122kB 9.4MB/s eta 0:00:01\r\u001b[K     |████                            | 133kB 9.4MB/s eta 0:00:01\r\u001b[K     |████▎                           | 143kB 9.4MB/s eta 0:00:01\r\u001b[K     |████▋                           | 153kB 9.4MB/s eta 0:00:01\r\u001b[K     |████▉                           | 163kB 9.4MB/s eta 0:00:01\r\u001b[K     |█████▏                          | 174kB 9.4MB/s eta 0:00:01\r\u001b[K     |█████▌                          | 184kB 9.4MB/s eta 0:00:01\r\u001b[K     |█████▉                          | 194kB 9.4MB/s eta 0:00:01\r\u001b[K     |██████                          | 204kB 9.4MB/s eta 0:00:01\r\u001b[K     |██████▍                         | 215kB 9.4MB/s eta 0:00:01\r\u001b[K     |██████▊                         | 225kB 9.4MB/s eta 0:00:01\r\u001b[K     |███████                         | 235kB 9.4MB/s eta 0:00:01\r\u001b[K     |███████▎                        | 245kB 9.4MB/s eta 0:00:01\r\u001b[K     |███████▋                        | 256kB 9.4MB/s eta 0:00:01\r\u001b[K     |████████                        | 266kB 9.4MB/s eta 0:00:01\r\u001b[K     |████████▎                       | 276kB 9.4MB/s eta 0:00:01\r\u001b[K     |████████▌                       | 286kB 9.4MB/s eta 0:00:01\r\u001b[K     |████████▉                       | 296kB 9.4MB/s eta 0:00:01\r\u001b[K     |█████████▏                      | 307kB 9.4MB/s eta 0:00:01\r\u001b[K     |█████████▌                      | 317kB 9.4MB/s eta 0:00:01\r\u001b[K     |█████████▊                      | 327kB 9.4MB/s eta 0:00:01\r\u001b[K     |██████████                      | 337kB 9.4MB/s eta 0:00:01\r\u001b[K     |██████████▍                     | 348kB 9.4MB/s eta 0:00:01\r\u001b[K     |██████████▊                     | 358kB 9.4MB/s eta 0:00:01\r\u001b[K     |███████████                     | 368kB 9.4MB/s eta 0:00:01\r\u001b[K     |███████████▎                    | 378kB 9.4MB/s eta 0:00:01\r\u001b[K     |███████████▋                    | 389kB 9.4MB/s eta 0:00:01\r\u001b[K     |████████████                    | 399kB 9.4MB/s eta 0:00:01\r\u001b[K     |████████████▏                   | 409kB 9.4MB/s eta 0:00:01\r\u001b[K     |████████████▌                   | 419kB 9.4MB/s eta 0:00:01\r\u001b[K     |████████████▉                   | 430kB 9.4MB/s eta 0:00:01\r\u001b[K     |█████████████▏                  | 440kB 9.4MB/s eta 0:00:01\r\u001b[K     |█████████████▍                  | 450kB 9.4MB/s eta 0:00:01\r\u001b[K     |█████████████▊                  | 460kB 9.4MB/s eta 0:00:01\r\u001b[K     |██████████████                  | 471kB 9.4MB/s eta 0:00:01\r\u001b[K     |██████████████▍                 | 481kB 9.4MB/s eta 0:00:01\r\u001b[K     |██████████████▋                 | 491kB 9.4MB/s eta 0:00:01\r\u001b[K     |███████████████                 | 501kB 9.4MB/s eta 0:00:01\r\u001b[K     |███████████████▎                | 512kB 9.4MB/s eta 0:00:01\r\u001b[K     |███████████████▋                | 522kB 9.4MB/s eta 0:00:01\r\u001b[K     |███████████████▉                | 532kB 9.4MB/s eta 0:00:01\r\u001b[K     |████████████████▏               | 542kB 9.4MB/s eta 0:00:01\r\u001b[K     |████████████████▌               | 552kB 9.4MB/s eta 0:00:01\r\u001b[K     |████████████████▉               | 563kB 9.4MB/s eta 0:00:01\r\u001b[K     |█████████████████               | 573kB 9.4MB/s eta 0:00:01\r\u001b[K     |█████████████████▍              | 583kB 9.4MB/s eta 0:00:01\r\u001b[K     |█████████████████▊              | 593kB 9.4MB/s eta 0:00:01\r\u001b[K     |██████████████████              | 604kB 9.4MB/s eta 0:00:01\r\u001b[K     |██████████████████▎             | 614kB 9.4MB/s eta 0:00:01\r\u001b[K     |██████████████████▋             | 624kB 9.4MB/s eta 0:00:01\r\u001b[K     |███████████████████             | 634kB 9.4MB/s eta 0:00:01\r\u001b[K     |███████████████████▎            | 645kB 9.4MB/s eta 0:00:01\r\u001b[K     |███████████████████▌            | 655kB 9.4MB/s eta 0:00:01\r\u001b[K     |███████████████████▉            | 665kB 9.4MB/s eta 0:00:01\r\u001b[K     |████████████████████▏           | 675kB 9.4MB/s eta 0:00:01\r\u001b[K     |████████████████████▌           | 686kB 9.4MB/s eta 0:00:01\r\u001b[K     |████████████████████▊           | 696kB 9.4MB/s eta 0:00:01\r\u001b[K     |█████████████████████           | 706kB 9.4MB/s eta 0:00:01\r\u001b[K     |█████████████████████▍          | 716kB 9.4MB/s eta 0:00:01\r\u001b[K     |█████████████████████▋          | 727kB 9.4MB/s eta 0:00:01\r\u001b[K     |██████████████████████          | 737kB 9.4MB/s eta 0:00:01\r\u001b[K     |██████████████████████▎         | 747kB 9.4MB/s eta 0:00:01\r\u001b[K     |██████████████████████▋         | 757kB 9.4MB/s eta 0:00:01\r\u001b[K     |██████████████████████▉         | 768kB 9.4MB/s eta 0:00:01\r\u001b[K     |███████████████████████▏        | 778kB 9.4MB/s eta 0:00:01\r\u001b[K     |███████████████████████▌        | 788kB 9.4MB/s eta 0:00:01\r\u001b[K     |███████████████████████▉        | 798kB 9.4MB/s eta 0:00:01\r\u001b[K     |████████████████████████        | 808kB 9.4MB/s eta 0:00:01\r\u001b[K     |████████████████████████▍       | 819kB 9.4MB/s eta 0:00:01\r\u001b[K     |████████████████████████▊       | 829kB 9.4MB/s eta 0:00:01\r\u001b[K     |█████████████████████████       | 839kB 9.4MB/s eta 0:00:01\r\u001b[K     |█████████████████████████▎      | 849kB 9.4MB/s eta 0:00:01\r\u001b[K     |█████████████████████████▋      | 860kB 9.4MB/s eta 0:00:01\r\u001b[K     |██████████████████████████      | 870kB 9.4MB/s eta 0:00:01\r\u001b[K     |██████████████████████████▎     | 880kB 9.4MB/s eta 0:00:01\r\u001b[K     |██████████████████████████▌     | 890kB 9.4MB/s eta 0:00:01\r\u001b[K     |██████████████████████████▉     | 901kB 9.4MB/s eta 0:00:01\r\u001b[K     |███████████████████████████▏    | 911kB 9.4MB/s eta 0:00:01\r\u001b[K     |███████████████████████████▌    | 921kB 9.4MB/s eta 0:00:01\r\u001b[K     |███████████████████████████▊    | 931kB 9.4MB/s eta 0:00:01\r\u001b[K     |████████████████████████████    | 942kB 9.4MB/s eta 0:00:01\r\u001b[K     |████████████████████████████▍   | 952kB 9.4MB/s eta 0:00:01\r\u001b[K     |████████████████████████████▊   | 962kB 9.4MB/s eta 0:00:01\r\u001b[K     |█████████████████████████████   | 972kB 9.4MB/s eta 0:00:01\r\u001b[K     |█████████████████████████████▎  | 983kB 9.4MB/s eta 0:00:01\r\u001b[K     |█████████████████████████████▋  | 993kB 9.4MB/s eta 0:00:01\r\u001b[K     |██████████████████████████████  | 1.0MB 9.4MB/s eta 0:00:01\r\u001b[K     |██████████████████████████████▏ | 1.0MB 9.4MB/s eta 0:00:01\r\u001b[K     |██████████████████████████████▌ | 1.0MB 9.4MB/s eta 0:00:01\r\u001b[K     |██████████████████████████████▉ | 1.0MB 9.4MB/s eta 0:00:01\r\u001b[K     |███████████████████████████████▏| 1.0MB 9.4MB/s eta 0:00:01\r\u001b[K     |███████████████████████████████▍| 1.1MB 9.4MB/s eta 0:00:01\r\u001b[K     |███████████████████████████████▊| 1.1MB 9.4MB/s eta 0:00:01\r\u001b[K     |████████████████████████████████| 1.1MB 9.4MB/s \n",
            "\u001b[K     |████████████████████████████████| 890kB 33kB/s \n",
            "\u001b[K     |████████████████████████████████| 3.8MB 9.4MB/s \n",
            "\u001b[?25h  Building wheel for sacremoses (setup.py) ... \u001b[?25l\u001b[?25hdone\n"
          ],
          "name": "stdout"
        }
      ]
    },
    {
      "cell_type": "markdown",
      "metadata": {
        "id": "0mkkMg9RiJAz",
        "colab_type": "text"
      },
      "source": [
        "## Imports"
      ]
    },
    {
      "cell_type": "code",
      "metadata": {
        "id": "1ohArLlf2nj7",
        "colab_type": "code",
        "colab": {}
      },
      "source": [
        "import tensorflow as tf\n",
        "\n",
        "from transformers import GPT2Tokenizer, TFGPT2LMHeadModel\n",
        "\n",
        "import os\n",
        "import numpy as np\n",
        "import pandas as pd\n",
        "\n",
        "from tqdm.notebook import tqdm"
      ],
      "execution_count": 0,
      "outputs": []
    },
    {
      "cell_type": "markdown",
      "metadata": {
        "id": "qz3BbzQU3nRg",
        "colab_type": "text"
      },
      "source": [
        "## Downloading the Data\n",
        "\n",
        "The dataset is available at https://www.kaggle.com/abhinavmoudgil95/short-jokes/data\n",
        "\n",
        "Sign In to Kaggle and begin the download process for **shortjokes.csv** file. Then copy the link address for the download file and update the _URL varaiable.\n",
        "\n",
        "Once done run all the cells in the notebook. Also, you can cancel the donwload process for the file. :)"
      ]
    },
    {
      "cell_type": "code",
      "metadata": {
        "id": "r788uSoz3lkO",
        "colab_type": "code",
        "colab": {}
      },
      "source": [
        "_URL = 'https://storage.googleapis.com/kaggle-data-sets/781/1457/compressed/shortjokes.csv.zip?GoogleAccessId=web-data@kaggle-161607.iam.gserviceaccount.com&Expires=1590552129&Signature=b5VddktUlUoZ9TzTuto9MttfiH0mVKPaTwABgiaQ9PttC54CUDZEGOPnVMRaB8xYZ3VqzkmEAAUq5hDuS1mZOeEcNS5Fi5GFFKhfRMmoWX9FJT8aY%2B3mccSF3a7XlPSYqlU4KcHlulZqwow3LYKod7B1E6Eilh4GdAWLa59Re0wXBdcvd0mBiNx12hRFj9PzSyyGQMEXf%2Bgs7O3ZvVU9QO2zAvH0Kg2wLj4XRNXZsZFEx1TapdPtcyO%2BBcxpbCu7OCg%2F3tuqV81sKtmkJD4LPo532PX9q9M8p08LorXTRrVCid5fIN5QPFbkd%2FRRqOe6%2BsVyhUk65jl6nvodSrHICQ%3D%3D&response-content-disposition=attachment%3B+filename%3Dshortjokes.csv.zip'"
      ],
      "execution_count": 0,
      "outputs": []
    },
    {
      "cell_type": "code",
      "metadata": {
        "id": "6N9sG3LID_tn",
        "colab_type": "code",
        "outputId": "b8862ef3-a783-404c-e73c-20affccd2084",
        "colab": {
          "base_uri": "https://localhost:8080/",
          "height": 71
        }
      },
      "source": [
        "path_to_zip = tf.keras.utils.get_file('shortjokes.csv.zip', origin=_URL, extract=True)\n",
        "\n",
        "FILE_PATH = os.path.join(os.path.dirname(path_to_zip), 'shortjokes.csv')"
      ],
      "execution_count": 4,
      "outputs": [
        {
          "output_type": "stream",
          "text": [
            "Downloading data from https://storage.googleapis.com/kaggle-data-sets/781/1457/compressed/shortjokes.csv.zip?GoogleAccessId=web-data@kaggle-161607.iam.gserviceaccount.com&Expires=1590552129&Signature=b5VddktUlUoZ9TzTuto9MttfiH0mVKPaTwABgiaQ9PttC54CUDZEGOPnVMRaB8xYZ3VqzkmEAAUq5hDuS1mZOeEcNS5Fi5GFFKhfRMmoWX9FJT8aY%2B3mccSF3a7XlPSYqlU4KcHlulZqwow3LYKod7B1E6Eilh4GdAWLa59Re0wXBdcvd0mBiNx12hRFj9PzSyyGQMEXf%2Bgs7O3ZvVU9QO2zAvH0Kg2wLj4XRNXZsZFEx1TapdPtcyO%2BBcxpbCu7OCg%2F3tuqV81sKtmkJD4LPo532PX9q9M8p08LorXTRrVCid5fIN5QPFbkd%2FRRqOe6%2BsVyhUk65jl6nvodSrHICQ%3D%3D&response-content-disposition=attachment%3B+filename%3Dshortjokes.csv.zip\n",
            "10305536/10299687 [==============================] - 0s 0us/step\n"
          ],
          "name": "stdout"
        }
      ]
    },
    {
      "cell_type": "markdown",
      "metadata": {
        "id": "W3xUvbCJFkS1",
        "colab_type": "text"
      },
      "source": [
        "## Preparing the Dataset"
      ]
    },
    {
      "cell_type": "markdown",
      "metadata": {
        "id": "emWVc6SFRHMk",
        "colab_type": "text"
      },
      "source": [
        "### Extracting jokes list from CSV"
      ]
    },
    {
      "cell_type": "code",
      "metadata": {
        "id": "zCLwNtgSGEYh",
        "colab_type": "code",
        "colab": {}
      },
      "source": [
        " pd.options.display.max_colwidth = None"
      ],
      "execution_count": 0,
      "outputs": []
    },
    {
      "cell_type": "code",
      "metadata": {
        "id": "jgTULP5fEH32",
        "colab_type": "code",
        "outputId": "3b4f276f-5543-487b-e5c6-60f8e65250fd",
        "colab": {
          "base_uri": "https://localhost:8080/",
          "height": 204
        }
      },
      "source": [
        "jokes = pd.read_csv(FILE_PATH)\n",
        "jokes.head()"
      ],
      "execution_count": 6,
      "outputs": [
        {
          "output_type": "execute_result",
          "data": {
            "text/html": [
              "<div>\n",
              "<style scoped>\n",
              "    .dataframe tbody tr th:only-of-type {\n",
              "        vertical-align: middle;\n",
              "    }\n",
              "\n",
              "    .dataframe tbody tr th {\n",
              "        vertical-align: top;\n",
              "    }\n",
              "\n",
              "    .dataframe thead th {\n",
              "        text-align: right;\n",
              "    }\n",
              "</style>\n",
              "<table border=\"1\" class=\"dataframe\">\n",
              "  <thead>\n",
              "    <tr style=\"text-align: right;\">\n",
              "      <th></th>\n",
              "      <th>ID</th>\n",
              "      <th>Joke</th>\n",
              "    </tr>\n",
              "  </thead>\n",
              "  <tbody>\n",
              "    <tr>\n",
              "      <th>0</th>\n",
              "      <td>1</td>\n",
              "      <td>[me narrating a documentary about narrators] \"I can't hear what they're saying cuz I'm talking\"</td>\n",
              "    </tr>\n",
              "    <tr>\n",
              "      <th>1</th>\n",
              "      <td>2</td>\n",
              "      <td>Telling my daughter garlic is good for you. Good immune system and keeps pests away.Ticks, mosquitos, vampires... men.</td>\n",
              "    </tr>\n",
              "    <tr>\n",
              "      <th>2</th>\n",
              "      <td>3</td>\n",
              "      <td>I've been going through a really rough period at work this week It's my own fault for swapping my tampax for sand paper.</td>\n",
              "    </tr>\n",
              "    <tr>\n",
              "      <th>3</th>\n",
              "      <td>4</td>\n",
              "      <td>If I could have dinner with anyone, dead or alive... ...I would choose alive. -B.J. Novak-</td>\n",
              "    </tr>\n",
              "    <tr>\n",
              "      <th>4</th>\n",
              "      <td>5</td>\n",
              "      <td>Two guys walk into a bar. The third guy ducks.</td>\n",
              "    </tr>\n",
              "  </tbody>\n",
              "</table>\n",
              "</div>"
            ],
            "text/plain": [
              "   ID                                                                                                                      Joke\n",
              "0   1                           [me narrating a documentary about narrators] \"I can't hear what they're saying cuz I'm talking\"\n",
              "1   2    Telling my daughter garlic is good for you. Good immune system and keeps pests away.Ticks, mosquitos, vampires... men.\n",
              "2   3  I've been going through a really rough period at work this week It's my own fault for swapping my tampax for sand paper.\n",
              "3   4                                If I could have dinner with anyone, dead or alive... ...I would choose alive. -B.J. Novak-\n",
              "4   5                                                                            Two guys walk into a bar. The third guy ducks."
            ]
          },
          "metadata": {
            "tags": []
          },
          "execution_count": 6
        }
      ]
    },
    {
      "cell_type": "code",
      "metadata": {
        "id": "ePwTjASsNw50",
        "colab_type": "code",
        "outputId": "5b3b0c90-4a09-4c95-97dd-a1d71cfe2fd8",
        "colab": {
          "base_uri": "https://localhost:8080/",
          "height": 102
        }
      },
      "source": [
        "jokeslist = jokes['Joke'].to_list()\n",
        "jokeslist[:5]"
      ],
      "execution_count": 7,
      "outputs": [
        {
          "output_type": "execute_result",
          "data": {
            "text/plain": [
              "['[me narrating a documentary about narrators] \"I can\\'t hear what they\\'re saying cuz I\\'m talking\"',\n",
              " 'Telling my daughter garlic is good for you. Good immune system and keeps pests away.Ticks, mosquitos, vampires... men.',\n",
              " \"I've been going through a really rough period at work this week It's my own fault for swapping my tampax for sand paper.\",\n",
              " 'If I could have dinner with anyone, dead or alive... ...I would choose alive. -B.J. Novak-',\n",
              " 'Two guys walk into a bar. The third guy ducks.']"
            ]
          },
          "metadata": {
            "tags": []
          },
          "execution_count": 7
        }
      ]
    },
    {
      "cell_type": "markdown",
      "metadata": {
        "id": "u88ehaULRO3U",
        "colab_type": "text"
      },
      "source": [
        "### Creating the Tokenizer for word tokenization"
      ]
    },
    {
      "cell_type": "code",
      "metadata": {
        "id": "lPk1pSyjPGid",
        "colab_type": "code",
        "outputId": "52279657-0f77-4fb6-a7d5-21f4d4f6fad5",
        "colab": {
          "base_uri": "https://localhost:8080/",
          "height": 115,
          "referenced_widgets": [
            "ec4c75b98e9e4c5587c75ecdb9a92163",
            "cfd4beb8f56345038bb4709c7c5b2f42",
            "4cc6734302a7486f8b84ccdddbbcf331",
            "db9d4f8b91c64618b029af96d6ccfdd5",
            "125e5cb23cc645bba9decbce94c9ddec",
            "1b223e1f7a2e4850803ca049789e9fbd",
            "295e7e3358da467ea58b0ec8c4c5c17e",
            "e6d4f72af5d4464e94a58e1bb2d9e427",
            "f1d73aa8afab47d6b9d918c9fed6b18c",
            "23b9298825354c3da5356c7588e3e3bb",
            "5e645dc047a645dd97de5fb5ef93b68c",
            "48e928b6e54944868a6361c09a30f3ae",
            "c77d0a57509640b5929fc826a87a11a9",
            "ab2719372e5f44ecb30bdcec5b27319e",
            "f0ec3b47a08243e7abba7b75db3425fe",
            "f93f3aea8c21445aa3a90c3bb70ea295"
          ]
        }
      },
      "source": [
        "Tokenizer = GPT2Tokenizer.from_pretrained('gpt2-medium')"
      ],
      "execution_count": 8,
      "outputs": [
        {
          "output_type": "display_data",
          "data": {
            "application/vnd.jupyter.widget-view+json": {
              "model_id": "ec4c75b98e9e4c5587c75ecdb9a92163",
              "version_minor": 0,
              "version_major": 2
            },
            "text/plain": [
              "HBox(children=(FloatProgress(value=0.0, description='Downloading', max=1042301.0, style=ProgressStyle(descript…"
            ]
          },
          "metadata": {
            "tags": []
          }
        },
        {
          "output_type": "stream",
          "text": [
            "\n"
          ],
          "name": "stdout"
        },
        {
          "output_type": "display_data",
          "data": {
            "application/vnd.jupyter.widget-view+json": {
              "model_id": "f1d73aa8afab47d6b9d918c9fed6b18c",
              "version_minor": 0,
              "version_major": 2
            },
            "text/plain": [
              "HBox(children=(FloatProgress(value=0.0, description='Downloading', max=456318.0, style=ProgressStyle(descripti…"
            ]
          },
          "metadata": {
            "tags": []
          }
        },
        {
          "output_type": "stream",
          "text": [
            "\n"
          ],
          "name": "stdout"
        }
      ]
    },
    {
      "cell_type": "code",
      "metadata": {
        "id": "-O1BnNyNPXRx",
        "colab_type": "code",
        "colab": {}
      },
      "source": [
        "special_tokens_dict = {'pad_token': 'pad'}\n",
        "num_added_toks = Tokenizer.add_special_tokens(special_tokens_dict)\n",
        "\n",
        "START_TOKEN = '<|start|> '\n",
        "END_TOKEN = ' <|end|>'"
      ],
      "execution_count": 0,
      "outputs": []
    },
    {
      "cell_type": "markdown",
      "metadata": {
        "id": "dv2o6lzfilWm",
        "colab_type": "text"
      },
      "source": [
        "### Create Dataset from List"
      ]
    },
    {
      "cell_type": "code",
      "metadata": {
        "id": "jlCWBS-bFt89",
        "colab_type": "code",
        "colab": {}
      },
      "source": [
        "# A utility method to create a tf.data dataset from a List of jokes\n",
        "def jokeslist_to_dataset(jokeslist, tokenizer, \n",
        "                  shuffle=True, batch_size=16, MAX_LEN = 64):\n",
        "  \n",
        "\n",
        "  jokeslist = [START_TOKEN + joke + END_TOKEN for joke in jokeslist]\n",
        "\n",
        "  encodings = [tokenizer.encode_plus(joke,\n",
        "                                  None,\n",
        "                                  add_special_tokens = True,\n",
        "                                  max_length = MAX_LEN,\n",
        "                                  pad_to_max_length = True) \n",
        "              for joke in jokeslist]\n",
        "\n",
        "  ids = [x['input_ids'] for x in encodings]\n",
        "  masks = [x['attention_mask'] for x in encodings]\n",
        "  types = [x['token_type_ids'] for x in encodings]\n",
        "\n",
        "  inputs = {}\n",
        "  inputs['input_ids'] = ids\n",
        "  inputs['attention_mask'] = masks\n",
        "  inputs['token_type_ids'] = types\n",
        "\n",
        "  ds = tf.data.Dataset.from_tensor_slices(inputs)\n",
        "\n",
        "  if shuffle:\n",
        "    ds = ds.shuffle(buffer_size=len(jokeslist))\n",
        "\n",
        "  ds = ds.batch(batch_size)\n",
        "\n",
        "  return ds"
      ],
      "execution_count": 0,
      "outputs": []
    },
    {
      "cell_type": "markdown",
      "metadata": {
        "id": "NhgJUfaKir_t",
        "colab_type": "text"
      },
      "source": [
        "Note: This is a costly process since all the tokenization is done immediately. Thus it is expected to be slow. The only advantage is since everything is processed and kept in memory we are saving repated operationg while training."
      ]
    },
    {
      "cell_type": "code",
      "metadata": {
        "id": "6RpJpWbVOEsZ",
        "colab_type": "code",
        "colab": {}
      },
      "source": [
        "jokes_dataset = jokeslist_to_dataset(jokeslist, Tokenizer)"
      ],
      "execution_count": 0,
      "outputs": []
    },
    {
      "cell_type": "markdown",
      "metadata": {
        "id": "YMiORQ8iXYNK",
        "colab_type": "text"
      },
      "source": [
        "## The Model"
      ]
    },
    {
      "cell_type": "code",
      "metadata": {
        "id": "MFGKP90jTVn1",
        "colab_type": "code",
        "outputId": "30882f64-3eb9-4242-a79a-f496cb116e66",
        "colab": {
          "base_uri": "https://localhost:8080/",
          "height": 115,
          "referenced_widgets": [
            "cd8bf47dea74461f947ef28e695c078c",
            "19e8709888b9413f9e0b73e8ea037a61",
            "43a5544311714612ba4bdf5fe78b5d1e",
            "e79a3d6a89b2430ea8fe78d9f3895b5b",
            "7d208e3441404cc49e3813861389b7f7",
            "eaf77af6a3de4f82aef6f3b3a4b9f55d",
            "6b55ab0a201241ce8cb3a494862ea50a",
            "f7285c8b250f4af0b1eacc77e26e807f",
            "76b02cb0713b414d9ab10087af4f657f",
            "7061ed040f6c49a3af5564f6ffc13da9",
            "8e5786a479a6495dbf373b1d4b2b036c",
            "74a97357cdbc4b2495c6af2347760028",
            "0268bdd84c7c49f2a3f288c0db2b299c",
            "5d80a271cb10415582e556c186f0e5f7",
            "1d18410a061f4bd991cd6b8d65f5f19d",
            "0abd518ee8bf4c509504d9a26cc024ac"
          ]
        }
      },
      "source": [
        "model = TFGPT2LMHeadModel.from_pretrained('gpt2-medium')"
      ],
      "execution_count": 12,
      "outputs": [
        {
          "output_type": "display_data",
          "data": {
            "application/vnd.jupyter.widget-view+json": {
              "model_id": "cd8bf47dea74461f947ef28e695c078c",
              "version_minor": 0,
              "version_major": 2
            },
            "text/plain": [
              "HBox(children=(FloatProgress(value=0.0, description='Downloading', max=718.0, style=ProgressStyle(description_…"
            ]
          },
          "metadata": {
            "tags": []
          }
        },
        {
          "output_type": "stream",
          "text": [
            "\n"
          ],
          "name": "stdout"
        },
        {
          "output_type": "display_data",
          "data": {
            "application/vnd.jupyter.widget-view+json": {
              "model_id": "76b02cb0713b414d9ab10087af4f657f",
              "version_minor": 0,
              "version_major": 2
            },
            "text/plain": [
              "HBox(children=(FloatProgress(value=0.0, description='Downloading', max=1419628976.0, style=ProgressStyle(descr…"
            ]
          },
          "metadata": {
            "tags": []
          }
        },
        {
          "output_type": "stream",
          "text": [
            "\n"
          ],
          "name": "stdout"
        }
      ]
    },
    {
      "cell_type": "code",
      "metadata": {
        "id": "E4v3XN3QXfPT",
        "colab_type": "code",
        "outputId": "8cd264e2-7569-435b-a7f2-fac707d76ceb",
        "colab": {
          "base_uri": "https://localhost:8080/",
          "height": 187
        }
      },
      "source": [
        "model.summary()"
      ],
      "execution_count": 13,
      "outputs": [
        {
          "output_type": "stream",
          "text": [
            "Model: \"tfgp_t2lm_head_model\"\n",
            "_________________________________________________________________\n",
            "Layer (type)                 Output Shape              Param #   \n",
            "=================================================================\n",
            "transformer (TFGPT2MainLayer multiple                  354823168 \n",
            "=================================================================\n",
            "Total params: 354,823,168\n",
            "Trainable params: 354,823,168\n",
            "Non-trainable params: 0\n",
            "_________________________________________________________________\n"
          ],
          "name": "stdout"
        }
      ]
    },
    {
      "cell_type": "markdown",
      "metadata": {
        "id": "Ha-i3KzwiAV2",
        "colab_type": "text"
      },
      "source": [
        "## Loss Function and Optimizer"
      ]
    },
    {
      "cell_type": "code",
      "metadata": {
        "id": "wBlnY-kOEQoq",
        "colab_type": "code",
        "colab": {}
      },
      "source": [
        "loss_function = tf.losses.SparseCategoricalCrossentropy(from_logits=True)"
      ],
      "execution_count": 0,
      "outputs": []
    },
    {
      "cell_type": "code",
      "metadata": {
        "id": "ekhYm_pBXheT",
        "colab_type": "code",
        "colab": {}
      },
      "source": [
        "optimizer = tf.keras.optimizers.Adam(learning_rate=1e-5, epsilon=1e-08, clipnorm=1.0)"
      ],
      "execution_count": 0,
      "outputs": []
    },
    {
      "cell_type": "markdown",
      "metadata": {
        "id": "6nU_9GzviDuL",
        "colab_type": "text"
      },
      "source": [
        "## Training and Checkpointing"
      ]
    },
    {
      "cell_type": "code",
      "metadata": {
        "id": "kXlXQJSJnBYH",
        "colab_type": "code",
        "outputId": "6853f058-0eae-4974-f605-7182e422a397",
        "colab": {
          "base_uri": "https://localhost:8080/",
          "height": 122
        }
      },
      "source": [
        "from google.colab import drive\n",
        "drive.mount('/content/gdrive')"
      ],
      "execution_count": 14,
      "outputs": [
        {
          "output_type": "stream",
          "text": [
            "Go to this URL in a browser: https://accounts.google.com/o/oauth2/auth?client_id=947318989803-6bn6qk8qdgf4n4g3pfee6491hc0brc4i.apps.googleusercontent.com&redirect_uri=urn%3aietf%3awg%3aoauth%3a2.0%3aoob&response_type=code&scope=email%20https%3a%2f%2fwww.googleapis.com%2fauth%2fdocs.test%20https%3a%2f%2fwww.googleapis.com%2fauth%2fdrive%20https%3a%2f%2fwww.googleapis.com%2fauth%2fdrive.photos.readonly%20https%3a%2f%2fwww.googleapis.com%2fauth%2fpeopleapi.readonly\n",
            "\n",
            "Enter your authorization code:\n",
            "··········\n",
            "Mounted at /content/gdrive\n"
          ],
          "name": "stdout"
        }
      ]
    },
    {
      "cell_type": "code",
      "metadata": {
        "id": "VrCpGfDdnN-b",
        "colab_type": "code",
        "colab": {}
      },
      "source": [
        "CHECKPOINT_PATH = \"/content/gdrive/My Drive/Weights/JokeGenGPT2\""
      ],
      "execution_count": 0,
      "outputs": []
    },
    {
      "cell_type": "code",
      "metadata": {
        "id": "JWoYstRaRSTa",
        "colab_type": "code",
        "outputId": "0963064b-1450-4235-bf77-ae060c3e226c",
        "colab": {
          "base_uri": "https://localhost:8080/",
          "height": 34
        }
      },
      "source": [
        "checkpoint_path = CHECKPOINT_PATH\n",
        "\n",
        "ckpt = tf.train.Checkpoint(model = model)\n",
        "\n",
        "ckpt_manager = tf.train.CheckpointManager(ckpt, checkpoint_path, max_to_keep=5)\n",
        "\n",
        "# if a checkpoint exists, restore the latest checkpoint.\n",
        "if ckpt_manager.latest_checkpoint:\n",
        "  ckpt.restore(ckpt_manager.latest_checkpoint)\n",
        "  print ('Latest checkpoint restored!!')"
      ],
      "execution_count": 16,
      "outputs": [
        {
          "output_type": "stream",
          "text": [
            "Latest checkpoint restored!!\n"
          ],
          "name": "stdout"
        }
      ]
    },
    {
      "cell_type": "code",
      "metadata": {
        "id": "P0L1ZZT2RLrT",
        "colab_type": "code",
        "colab": {}
      },
      "source": [
        "@tf.function\n",
        "def train_step(data_dict):  \n",
        "  with tf.GradientTape() as tape:\n",
        "\n",
        "    outputs = model(data_dict)\n",
        "\n",
        "    lm_logits = outputs[0]\n",
        "    labels = data_dict['input_ids']\n",
        "\n",
        "    ## For computing loss we remove the last element from logits and \n",
        "    ## first from labels. Thus we need the model to learn to predict next\n",
        "    ## word more confidently among the others. \n",
        "    shift_logits = lm_logits[..., :-1, :]\n",
        "    shift_labels = labels[..., 1:]\n",
        "    \n",
        "    loss = loss_function(tf.reshape(shift_labels, (-1,)),\n",
        "         tf.reshape(shift_logits, \n",
        "                   (-1, shift_logits.shape[-1])))\n",
        "\n",
        "  gradients = tape.gradient(loss, model.trainable_variables)    \n",
        "  optimizer.apply_gradients(zip(gradients, model.trainable_variables))\n",
        "\n",
        "  return loss"
      ],
      "execution_count": 0,
      "outputs": []
    },
    {
      "cell_type": "code",
      "metadata": {
        "id": "TdfNtCJYzKzz",
        "colab_type": "code",
        "colab": {}
      },
      "source": [
        "EPOCHS = 4\n",
        "\n",
        "for epoch in range(EPOCHS):\n",
        "  \n",
        "  for batch, data in tqdm(enumerate(jokes_dataset)):\n",
        "    loss = train_step(data)\n",
        "    if batch % 100 == 0:\n",
        "      print('Epoch : {0} Batch : {1} ---- Loss : {2}'.format(epoch+1, batch+1, loss))\n",
        "\n",
        "  \n",
        "\n",
        "  ckpt_save_path = ckpt_manager.save()\n",
        "  print ('Saving checkpoint for epoch {} at {}'.format(epoch+1,\n",
        "                                                        ckpt_save_path))"
      ],
      "execution_count": 0,
      "outputs": []
    },
    {
      "cell_type": "markdown",
      "metadata": {
        "id": "Qpyh-ydg6n2a",
        "colab_type": "text"
      },
      "source": [
        "## Inference"
      ]
    },
    {
      "cell_type": "code",
      "metadata": {
        "id": "P3QRDWIi9xLJ",
        "colab_type": "code",
        "colab": {}
      },
      "source": [
        "def exploit_best_token_while_exploring(probabilites, exploration_len=5):\n",
        "    ## Get the top k probabilites indices where k is exploration_len \n",
        "    top_indices = np.argpartition(probabilites, -exploration_len)\\\n",
        "                            [-exploration_len:]\n",
        "\n",
        "    ## Getting top proabilities value\n",
        "    top_probabilities = probabilites[top_indices]\n",
        "\n",
        "    ## Normalizing it so that they sum is 1\n",
        "    top_probabilities = top_probabilities / np.sum(top_probabilities)\n",
        "\n",
        "    ## Although we choose next token randomly for our options we \n",
        "    ## pass the probabilities associated with each to account for the\n",
        "    ## model's confidence for the token also. \n",
        "    choice = np.random.choice(exploration_len, 1, p = top_probabilities)\n",
        "\n",
        "    ## Return next token id based on choice\n",
        "    next_token_id = int(top_indices[choice][0])\n",
        "    return next_token_id"
      ],
      "execution_count": 0,
      "outputs": []
    },
    {
      "cell_type": "code",
      "metadata": {
        "id": "moB2eE9S-34S",
        "colab_type": "code",
        "colab": {}
      },
      "source": [
        "def generate_joke(joke_length = 64):\n",
        "\n",
        "  ## Begin by appending the START_TOKEN to our current joke\n",
        "  current_joke = tf.expand_dims(tf.convert_to_tensor(Tokenizer.encode(START_TOKEN)), 0)\n",
        "  \n",
        "  for pos in range(joke_length):\n",
        "\n",
        "    ## Get output of model for the current_joke\n",
        "    output = model(current_joke)\n",
        "\n",
        "    ## Getting the logits value from output tuple i.e. (logits)\n",
        "    logits = output[0]\n",
        "\n",
        "    ## Logits is of the shape (BATCH, LEN_INPUT) \n",
        "    ## So, since batch size is 1 we get 0th index\n",
        "    ## and the softmax for only the next possible word i.e. -1\n",
        "    softmax_logits = tf.nn.softmax(logits[0, -1], axis=0).numpy()\n",
        "\n",
        "    ## Depending on whether we are in initial or final stages of joke\n",
        "    ## we determine how many options we should explore to make sure we have\n",
        "    ## variety in jokes generated\n",
        "    if pos == 0:\n",
        "      # If we are predicting first word we need maximum exploration\n",
        "      exploration_len = 50\n",
        "\n",
        "    elif pos < 4:\n",
        "      # The next three words have exploration length 15\n",
        "      exploration_len = 15\n",
        "\n",
        "    else:\n",
        "      # As we move further we narrow our exploration length\n",
        "      exploration_len = 4\n",
        "\n",
        "    ## Get the token we should append to current joke\n",
        "    token_to_append = exploit_best_token_while_exploring(softmax_logits, \n",
        "                                                         exploration_len)\n",
        "\n",
        "    ## Append the token to current joke\n",
        "    current_joke = tf.concat([current_joke, \n",
        "                              tf.ones((1,1), dtype = tf.int32)*token_to_append], \n",
        "                             axis = 1)\n",
        "    \n",
        "    ## In case the token belongs to the END_TOKEN we return it as complete joke\n",
        "    if token_to_append in Tokenizer.encode(END_TOKEN):\n",
        "      return Tokenizer.decode(list(tf.squeeze(current_joke).numpy()))\n",
        "  \n",
        "  ## If we did not get end token it means no joke is formed\n",
        "  return None"
      ],
      "execution_count": 0,
      "outputs": []
    },
    {
      "cell_type": "code",
      "metadata": {
        "id": "pMEKPeH5EEKi",
        "colab_type": "code",
        "outputId": "6089955e-16c6-4ce9-a199-71b8530a988d",
        "colab": {
          "base_uri": "https://localhost:8080/",
          "height": 34
        }
      },
      "source": [
        "generate_joke()"
      ],
      "execution_count": 41,
      "outputs": [
        {
          "output_type": "execute_result",
          "data": {
            "text/plain": [
              "'<|start|> I had a dream last night that I was the president of the US... I had to sleep through it, but it was good. <'"
            ]
          },
          "metadata": {
            "tags": []
          },
          "execution_count": 41
        }
      ]
    },
    {
      "cell_type": "code",
      "metadata": {
        "id": "V4sbOT0HEa8O",
        "colab_type": "code",
        "outputId": "10dbddb3-5f78-4b25-93d1-badc2280b7da",
        "colab": {
          "base_uri": "https://localhost:8080/",
          "height": 34
        }
      },
      "source": [
        "generate_joke()"
      ],
      "execution_count": 44,
      "outputs": [
        {
          "output_type": "execute_result",
          "data": {
            "text/plain": [
              "\"<|start|> The reason I got a divorce is because I couldn't handle my kids. <\""
            ]
          },
          "metadata": {
            "tags": []
          },
          "execution_count": 44
        }
      ]
    },
    {
      "cell_type": "code",
      "metadata": {
        "id": "oqNdESVlGb2w",
        "colab_type": "code",
        "outputId": "256489d9-8b94-49ae-e687-52e5ead49620",
        "colab": {
          "base_uri": "https://localhost:8080/",
          "height": 34
        }
      },
      "source": [
        "generate_joke()"
      ],
      "execution_count": 47,
      "outputs": [
        {
          "output_type": "execute_result",
          "data": {
            "text/plain": [
              "'<|start|> Q: What kind of shoes do pirates wear? A: Sneakers <'"
            ]
          },
          "metadata": {
            "tags": []
          },
          "execution_count": 47
        }
      ]
    },
    {
      "cell_type": "code",
      "metadata": {
        "id": "DizJsii0rvlW",
        "colab_type": "code",
        "colab": {
          "base_uri": "https://localhost:8080/",
          "height": 34
        },
        "outputId": "96a2a3b3-505e-4cfc-9f41-ea0336ff1978"
      },
      "source": [
        "generate_joke()"
      ],
      "execution_count": 50,
      "outputs": [
        {
          "output_type": "execute_result",
          "data": {
            "text/plain": [
              "\"<|start|> Why did the blonde have a sore throat? Because she couldn't concentrate <\""
            ]
          },
          "metadata": {
            "tags": []
          },
          "execution_count": 50
        }
      ]
    },
    {
      "cell_type": "code",
      "metadata": {
        "id": "lH84XzqAyyEJ",
        "colab_type": "code",
        "colab": {
          "base_uri": "https://localhost:8080/",
          "height": 34
        },
        "outputId": "45560790-2631-4e94-a6b0-0c0bf3a32da0"
      },
      "source": [
        "generate_joke()"
      ],
      "execution_count": 21,
      "outputs": [
        {
          "output_type": "execute_result",
          "data": {
            "text/plain": [
              "'<|start|> I was asked to be the spokesperson for the LGBT community in the United States. I said, \"I\\'ll be gay.\" They laughed and I said, \"I\\'m sorry, I don\\'t think I\\'m gay.\" <'"
            ]
          },
          "metadata": {
            "tags": []
          },
          "execution_count": 21
        }
      ]
    },
    {
      "cell_type": "code",
      "metadata": {
        "id": "4tj_bTMJ0DIq",
        "colab_type": "code",
        "colab": {}
      },
      "source": [
        ""
      ],
      "execution_count": 0,
      "outputs": []
    }
  ]
}