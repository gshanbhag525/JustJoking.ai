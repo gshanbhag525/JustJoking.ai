{
  "nbformat": 4,
  "nbformat_minor": 0,
  "metadata": {
    "colab": {
      "name": "Joke Generation.ipynb",
      "provenance": [],
      "collapsed_sections": []
    },
    "kernelspec": {
      "name": "python3",
      "display_name": "Python 3"
    },
    "accelerator": "GPU",
    "widgets": {
      "application/vnd.jupyter.widget-state+json": {
        "ff78b80056254582a7cadba1d709a711": {
          "model_module": "@jupyter-widgets/controls",
          "model_name": "HBoxModel",
          "state": {
            "_view_name": "HBoxView",
            "_dom_classes": [],
            "_model_name": "HBoxModel",
            "_view_module": "@jupyter-widgets/controls",
            "_model_module_version": "1.5.0",
            "_view_count": null,
            "_view_module_version": "1.5.0",
            "box_style": "",
            "layout": "IPY_MODEL_531ac4ddb38b4c02bbb0a4cfc5a668ff",
            "_model_module": "@jupyter-widgets/controls",
            "children": [
              "IPY_MODEL_7ae079f1d35049daa133081d4d3cfae4",
              "IPY_MODEL_78d28ec9a4994103bdc00bfa40dd3b5a"
            ]
          }
        },
        "531ac4ddb38b4c02bbb0a4cfc5a668ff": {
          "model_module": "@jupyter-widgets/base",
          "model_name": "LayoutModel",
          "state": {
            "_view_name": "LayoutView",
            "grid_template_rows": null,
            "right": null,
            "justify_content": null,
            "_view_module": "@jupyter-widgets/base",
            "overflow": null,
            "_model_module_version": "1.2.0",
            "_view_count": null,
            "flex_flow": null,
            "width": null,
            "min_width": null,
            "border": null,
            "align_items": null,
            "bottom": null,
            "_model_module": "@jupyter-widgets/base",
            "top": null,
            "grid_column": null,
            "overflow_y": null,
            "overflow_x": null,
            "grid_auto_flow": null,
            "grid_area": null,
            "grid_template_columns": null,
            "flex": null,
            "_model_name": "LayoutModel",
            "justify_items": null,
            "grid_row": null,
            "max_height": null,
            "align_content": null,
            "visibility": null,
            "align_self": null,
            "height": null,
            "min_height": null,
            "padding": null,
            "grid_auto_rows": null,
            "grid_gap": null,
            "max_width": null,
            "order": null,
            "_view_module_version": "1.2.0",
            "grid_template_areas": null,
            "object_position": null,
            "object_fit": null,
            "grid_auto_columns": null,
            "margin": null,
            "display": null,
            "left": null
          }
        },
        "7ae079f1d35049daa133081d4d3cfae4": {
          "model_module": "@jupyter-widgets/controls",
          "model_name": "FloatProgressModel",
          "state": {
            "_view_name": "ProgressView",
            "style": "IPY_MODEL_17b4cb3c8b4a491688f53974e1366cd3",
            "_dom_classes": [],
            "description": "Downloading: 100%",
            "_model_name": "FloatProgressModel",
            "bar_style": "success",
            "max": 1042301,
            "_view_module": "@jupyter-widgets/controls",
            "_model_module_version": "1.5.0",
            "value": 1042301,
            "_view_count": null,
            "_view_module_version": "1.5.0",
            "orientation": "horizontal",
            "min": 0,
            "description_tooltip": null,
            "_model_module": "@jupyter-widgets/controls",
            "layout": "IPY_MODEL_403e0bb0fe46401db972773bb13fdb82"
          }
        },
        "78d28ec9a4994103bdc00bfa40dd3b5a": {
          "model_module": "@jupyter-widgets/controls",
          "model_name": "HTMLModel",
          "state": {
            "_view_name": "HTMLView",
            "style": "IPY_MODEL_e630274db39445e9b91ebc0e81b46355",
            "_dom_classes": [],
            "description": "",
            "_model_name": "HTMLModel",
            "placeholder": "​",
            "_view_module": "@jupyter-widgets/controls",
            "_model_module_version": "1.5.0",
            "value": " 1.04M/1.04M [00:00&lt;00:00, 2.26MB/s]",
            "_view_count": null,
            "_view_module_version": "1.5.0",
            "description_tooltip": null,
            "_model_module": "@jupyter-widgets/controls",
            "layout": "IPY_MODEL_3d1f43ad335e4e9babba2b9ce4a6086c"
          }
        },
        "17b4cb3c8b4a491688f53974e1366cd3": {
          "model_module": "@jupyter-widgets/controls",
          "model_name": "ProgressStyleModel",
          "state": {
            "_view_name": "StyleView",
            "_model_name": "ProgressStyleModel",
            "description_width": "initial",
            "_view_module": "@jupyter-widgets/base",
            "_model_module_version": "1.5.0",
            "_view_count": null,
            "_view_module_version": "1.2.0",
            "bar_color": null,
            "_model_module": "@jupyter-widgets/controls"
          }
        },
        "403e0bb0fe46401db972773bb13fdb82": {
          "model_module": "@jupyter-widgets/base",
          "model_name": "LayoutModel",
          "state": {
            "_view_name": "LayoutView",
            "grid_template_rows": null,
            "right": null,
            "justify_content": null,
            "_view_module": "@jupyter-widgets/base",
            "overflow": null,
            "_model_module_version": "1.2.0",
            "_view_count": null,
            "flex_flow": null,
            "width": null,
            "min_width": null,
            "border": null,
            "align_items": null,
            "bottom": null,
            "_model_module": "@jupyter-widgets/base",
            "top": null,
            "grid_column": null,
            "overflow_y": null,
            "overflow_x": null,
            "grid_auto_flow": null,
            "grid_area": null,
            "grid_template_columns": null,
            "flex": null,
            "_model_name": "LayoutModel",
            "justify_items": null,
            "grid_row": null,
            "max_height": null,
            "align_content": null,
            "visibility": null,
            "align_self": null,
            "height": null,
            "min_height": null,
            "padding": null,
            "grid_auto_rows": null,
            "grid_gap": null,
            "max_width": null,
            "order": null,
            "_view_module_version": "1.2.0",
            "grid_template_areas": null,
            "object_position": null,
            "object_fit": null,
            "grid_auto_columns": null,
            "margin": null,
            "display": null,
            "left": null
          }
        },
        "e630274db39445e9b91ebc0e81b46355": {
          "model_module": "@jupyter-widgets/controls",
          "model_name": "DescriptionStyleModel",
          "state": {
            "_view_name": "StyleView",
            "_model_name": "DescriptionStyleModel",
            "description_width": "",
            "_view_module": "@jupyter-widgets/base",
            "_model_module_version": "1.5.0",
            "_view_count": null,
            "_view_module_version": "1.2.0",
            "_model_module": "@jupyter-widgets/controls"
          }
        },
        "3d1f43ad335e4e9babba2b9ce4a6086c": {
          "model_module": "@jupyter-widgets/base",
          "model_name": "LayoutModel",
          "state": {
            "_view_name": "LayoutView",
            "grid_template_rows": null,
            "right": null,
            "justify_content": null,
            "_view_module": "@jupyter-widgets/base",
            "overflow": null,
            "_model_module_version": "1.2.0",
            "_view_count": null,
            "flex_flow": null,
            "width": null,
            "min_width": null,
            "border": null,
            "align_items": null,
            "bottom": null,
            "_model_module": "@jupyter-widgets/base",
            "top": null,
            "grid_column": null,
            "overflow_y": null,
            "overflow_x": null,
            "grid_auto_flow": null,
            "grid_area": null,
            "grid_template_columns": null,
            "flex": null,
            "_model_name": "LayoutModel",
            "justify_items": null,
            "grid_row": null,
            "max_height": null,
            "align_content": null,
            "visibility": null,
            "align_self": null,
            "height": null,
            "min_height": null,
            "padding": null,
            "grid_auto_rows": null,
            "grid_gap": null,
            "max_width": null,
            "order": null,
            "_view_module_version": "1.2.0",
            "grid_template_areas": null,
            "object_position": null,
            "object_fit": null,
            "grid_auto_columns": null,
            "margin": null,
            "display": null,
            "left": null
          }
        },
        "a1e087f61ed24c94853fd5fed98ae3db": {
          "model_module": "@jupyter-widgets/controls",
          "model_name": "HBoxModel",
          "state": {
            "_view_name": "HBoxView",
            "_dom_classes": [],
            "_model_name": "HBoxModel",
            "_view_module": "@jupyter-widgets/controls",
            "_model_module_version": "1.5.0",
            "_view_count": null,
            "_view_module_version": "1.5.0",
            "box_style": "",
            "layout": "IPY_MODEL_0aaa0f31d27446388194701fd284b464",
            "_model_module": "@jupyter-widgets/controls",
            "children": [
              "IPY_MODEL_a307b4d0ea314602881221f40a0da56b",
              "IPY_MODEL_326cf1b572e6474d905cfa0f21d2feaa"
            ]
          }
        },
        "0aaa0f31d27446388194701fd284b464": {
          "model_module": "@jupyter-widgets/base",
          "model_name": "LayoutModel",
          "state": {
            "_view_name": "LayoutView",
            "grid_template_rows": null,
            "right": null,
            "justify_content": null,
            "_view_module": "@jupyter-widgets/base",
            "overflow": null,
            "_model_module_version": "1.2.0",
            "_view_count": null,
            "flex_flow": null,
            "width": null,
            "min_width": null,
            "border": null,
            "align_items": null,
            "bottom": null,
            "_model_module": "@jupyter-widgets/base",
            "top": null,
            "grid_column": null,
            "overflow_y": null,
            "overflow_x": null,
            "grid_auto_flow": null,
            "grid_area": null,
            "grid_template_columns": null,
            "flex": null,
            "_model_name": "LayoutModel",
            "justify_items": null,
            "grid_row": null,
            "max_height": null,
            "align_content": null,
            "visibility": null,
            "align_self": null,
            "height": null,
            "min_height": null,
            "padding": null,
            "grid_auto_rows": null,
            "grid_gap": null,
            "max_width": null,
            "order": null,
            "_view_module_version": "1.2.0",
            "grid_template_areas": null,
            "object_position": null,
            "object_fit": null,
            "grid_auto_columns": null,
            "margin": null,
            "display": null,
            "left": null
          }
        },
        "a307b4d0ea314602881221f40a0da56b": {
          "model_module": "@jupyter-widgets/controls",
          "model_name": "FloatProgressModel",
          "state": {
            "_view_name": "ProgressView",
            "style": "IPY_MODEL_6bd03f50e8154c17a24650a01c11d5fb",
            "_dom_classes": [],
            "description": "Downloading: 100%",
            "_model_name": "FloatProgressModel",
            "bar_style": "success",
            "max": 456318,
            "_view_module": "@jupyter-widgets/controls",
            "_model_module_version": "1.5.0",
            "value": 456318,
            "_view_count": null,
            "_view_module_version": "1.5.0",
            "orientation": "horizontal",
            "min": 0,
            "description_tooltip": null,
            "_model_module": "@jupyter-widgets/controls",
            "layout": "IPY_MODEL_6139d2ea295048ffad9a64bac0f61617"
          }
        },
        "326cf1b572e6474d905cfa0f21d2feaa": {
          "model_module": "@jupyter-widgets/controls",
          "model_name": "HTMLModel",
          "state": {
            "_view_name": "HTMLView",
            "style": "IPY_MODEL_322e0cf83d714e33bd752278227c923c",
            "_dom_classes": [],
            "description": "",
            "_model_name": "HTMLModel",
            "placeholder": "​",
            "_view_module": "@jupyter-widgets/controls",
            "_model_module_version": "1.5.0",
            "value": " 456k/456k [00:00&lt;00:00, 3.52MB/s]",
            "_view_count": null,
            "_view_module_version": "1.5.0",
            "description_tooltip": null,
            "_model_module": "@jupyter-widgets/controls",
            "layout": "IPY_MODEL_5e060c0e8365400aa7f4f42c37472bf6"
          }
        },
        "6bd03f50e8154c17a24650a01c11d5fb": {
          "model_module": "@jupyter-widgets/controls",
          "model_name": "ProgressStyleModel",
          "state": {
            "_view_name": "StyleView",
            "_model_name": "ProgressStyleModel",
            "description_width": "initial",
            "_view_module": "@jupyter-widgets/base",
            "_model_module_version": "1.5.0",
            "_view_count": null,
            "_view_module_version": "1.2.0",
            "bar_color": null,
            "_model_module": "@jupyter-widgets/controls"
          }
        },
        "6139d2ea295048ffad9a64bac0f61617": {
          "model_module": "@jupyter-widgets/base",
          "model_name": "LayoutModel",
          "state": {
            "_view_name": "LayoutView",
            "grid_template_rows": null,
            "right": null,
            "justify_content": null,
            "_view_module": "@jupyter-widgets/base",
            "overflow": null,
            "_model_module_version": "1.2.0",
            "_view_count": null,
            "flex_flow": null,
            "width": null,
            "min_width": null,
            "border": null,
            "align_items": null,
            "bottom": null,
            "_model_module": "@jupyter-widgets/base",
            "top": null,
            "grid_column": null,
            "overflow_y": null,
            "overflow_x": null,
            "grid_auto_flow": null,
            "grid_area": null,
            "grid_template_columns": null,
            "flex": null,
            "_model_name": "LayoutModel",
            "justify_items": null,
            "grid_row": null,
            "max_height": null,
            "align_content": null,
            "visibility": null,
            "align_self": null,
            "height": null,
            "min_height": null,
            "padding": null,
            "grid_auto_rows": null,
            "grid_gap": null,
            "max_width": null,
            "order": null,
            "_view_module_version": "1.2.0",
            "grid_template_areas": null,
            "object_position": null,
            "object_fit": null,
            "grid_auto_columns": null,
            "margin": null,
            "display": null,
            "left": null
          }
        },
        "322e0cf83d714e33bd752278227c923c": {
          "model_module": "@jupyter-widgets/controls",
          "model_name": "DescriptionStyleModel",
          "state": {
            "_view_name": "StyleView",
            "_model_name": "DescriptionStyleModel",
            "description_width": "",
            "_view_module": "@jupyter-widgets/base",
            "_model_module_version": "1.5.0",
            "_view_count": null,
            "_view_module_version": "1.2.0",
            "_model_module": "@jupyter-widgets/controls"
          }
        },
        "5e060c0e8365400aa7f4f42c37472bf6": {
          "model_module": "@jupyter-widgets/base",
          "model_name": "LayoutModel",
          "state": {
            "_view_name": "LayoutView",
            "grid_template_rows": null,
            "right": null,
            "justify_content": null,
            "_view_module": "@jupyter-widgets/base",
            "overflow": null,
            "_model_module_version": "1.2.0",
            "_view_count": null,
            "flex_flow": null,
            "width": null,
            "min_width": null,
            "border": null,
            "align_items": null,
            "bottom": null,
            "_model_module": "@jupyter-widgets/base",
            "top": null,
            "grid_column": null,
            "overflow_y": null,
            "overflow_x": null,
            "grid_auto_flow": null,
            "grid_area": null,
            "grid_template_columns": null,
            "flex": null,
            "_model_name": "LayoutModel",
            "justify_items": null,
            "grid_row": null,
            "max_height": null,
            "align_content": null,
            "visibility": null,
            "align_self": null,
            "height": null,
            "min_height": null,
            "padding": null,
            "grid_auto_rows": null,
            "grid_gap": null,
            "max_width": null,
            "order": null,
            "_view_module_version": "1.2.0",
            "grid_template_areas": null,
            "object_position": null,
            "object_fit": null,
            "grid_auto_columns": null,
            "margin": null,
            "display": null,
            "left": null
          }
        },
        "a1cb66aecedd4f22a2d158fde7d2f8f1": {
          "model_module": "@jupyter-widgets/controls",
          "model_name": "HBoxModel",
          "state": {
            "_view_name": "HBoxView",
            "_dom_classes": [],
            "_model_name": "HBoxModel",
            "_view_module": "@jupyter-widgets/controls",
            "_model_module_version": "1.5.0",
            "_view_count": null,
            "_view_module_version": "1.5.0",
            "box_style": "",
            "layout": "IPY_MODEL_e11f3f5a93f14de9bbd2a00f8acdb3f8",
            "_model_module": "@jupyter-widgets/controls",
            "children": [
              "IPY_MODEL_8d9d18230b364411aeb558419f288cdc",
              "IPY_MODEL_b1ef1ebb026e4bf7831dd827e5759f0a"
            ]
          }
        },
        "e11f3f5a93f14de9bbd2a00f8acdb3f8": {
          "model_module": "@jupyter-widgets/base",
          "model_name": "LayoutModel",
          "state": {
            "_view_name": "LayoutView",
            "grid_template_rows": null,
            "right": null,
            "justify_content": null,
            "_view_module": "@jupyter-widgets/base",
            "overflow": null,
            "_model_module_version": "1.2.0",
            "_view_count": null,
            "flex_flow": null,
            "width": null,
            "min_width": null,
            "border": null,
            "align_items": null,
            "bottom": null,
            "_model_module": "@jupyter-widgets/base",
            "top": null,
            "grid_column": null,
            "overflow_y": null,
            "overflow_x": null,
            "grid_auto_flow": null,
            "grid_area": null,
            "grid_template_columns": null,
            "flex": null,
            "_model_name": "LayoutModel",
            "justify_items": null,
            "grid_row": null,
            "max_height": null,
            "align_content": null,
            "visibility": null,
            "align_self": null,
            "height": null,
            "min_height": null,
            "padding": null,
            "grid_auto_rows": null,
            "grid_gap": null,
            "max_width": null,
            "order": null,
            "_view_module_version": "1.2.0",
            "grid_template_areas": null,
            "object_position": null,
            "object_fit": null,
            "grid_auto_columns": null,
            "margin": null,
            "display": null,
            "left": null
          }
        },
        "8d9d18230b364411aeb558419f288cdc": {
          "model_module": "@jupyter-widgets/controls",
          "model_name": "FloatProgressModel",
          "state": {
            "_view_name": "ProgressView",
            "style": "IPY_MODEL_002cb176dd95400db70a341cea49281a",
            "_dom_classes": [],
            "description": "Downloading: 100%",
            "_model_name": "FloatProgressModel",
            "bar_style": "success",
            "max": 718,
            "_view_module": "@jupyter-widgets/controls",
            "_model_module_version": "1.5.0",
            "value": 718,
            "_view_count": null,
            "_view_module_version": "1.5.0",
            "orientation": "horizontal",
            "min": 0,
            "description_tooltip": null,
            "_model_module": "@jupyter-widgets/controls",
            "layout": "IPY_MODEL_3edb51458fda459e92475729f6cf7f9f"
          }
        },
        "b1ef1ebb026e4bf7831dd827e5759f0a": {
          "model_module": "@jupyter-widgets/controls",
          "model_name": "HTMLModel",
          "state": {
            "_view_name": "HTMLView",
            "style": "IPY_MODEL_6e62b07a36b1410cb28b789d5aa6547c",
            "_dom_classes": [],
            "description": "",
            "_model_name": "HTMLModel",
            "placeholder": "​",
            "_view_module": "@jupyter-widgets/controls",
            "_model_module_version": "1.5.0",
            "value": " 718/718 [00:00&lt;00:00, 893B/s]",
            "_view_count": null,
            "_view_module_version": "1.5.0",
            "description_tooltip": null,
            "_model_module": "@jupyter-widgets/controls",
            "layout": "IPY_MODEL_974a2058835a48489442434a2f243778"
          }
        },
        "002cb176dd95400db70a341cea49281a": {
          "model_module": "@jupyter-widgets/controls",
          "model_name": "ProgressStyleModel",
          "state": {
            "_view_name": "StyleView",
            "_model_name": "ProgressStyleModel",
            "description_width": "initial",
            "_view_module": "@jupyter-widgets/base",
            "_model_module_version": "1.5.0",
            "_view_count": null,
            "_view_module_version": "1.2.0",
            "bar_color": null,
            "_model_module": "@jupyter-widgets/controls"
          }
        },
        "3edb51458fda459e92475729f6cf7f9f": {
          "model_module": "@jupyter-widgets/base",
          "model_name": "LayoutModel",
          "state": {
            "_view_name": "LayoutView",
            "grid_template_rows": null,
            "right": null,
            "justify_content": null,
            "_view_module": "@jupyter-widgets/base",
            "overflow": null,
            "_model_module_version": "1.2.0",
            "_view_count": null,
            "flex_flow": null,
            "width": null,
            "min_width": null,
            "border": null,
            "align_items": null,
            "bottom": null,
            "_model_module": "@jupyter-widgets/base",
            "top": null,
            "grid_column": null,
            "overflow_y": null,
            "overflow_x": null,
            "grid_auto_flow": null,
            "grid_area": null,
            "grid_template_columns": null,
            "flex": null,
            "_model_name": "LayoutModel",
            "justify_items": null,
            "grid_row": null,
            "max_height": null,
            "align_content": null,
            "visibility": null,
            "align_self": null,
            "height": null,
            "min_height": null,
            "padding": null,
            "grid_auto_rows": null,
            "grid_gap": null,
            "max_width": null,
            "order": null,
            "_view_module_version": "1.2.0",
            "grid_template_areas": null,
            "object_position": null,
            "object_fit": null,
            "grid_auto_columns": null,
            "margin": null,
            "display": null,
            "left": null
          }
        },
        "6e62b07a36b1410cb28b789d5aa6547c": {
          "model_module": "@jupyter-widgets/controls",
          "model_name": "DescriptionStyleModel",
          "state": {
            "_view_name": "StyleView",
            "_model_name": "DescriptionStyleModel",
            "description_width": "",
            "_view_module": "@jupyter-widgets/base",
            "_model_module_version": "1.5.0",
            "_view_count": null,
            "_view_module_version": "1.2.0",
            "_model_module": "@jupyter-widgets/controls"
          }
        },
        "974a2058835a48489442434a2f243778": {
          "model_module": "@jupyter-widgets/base",
          "model_name": "LayoutModel",
          "state": {
            "_view_name": "LayoutView",
            "grid_template_rows": null,
            "right": null,
            "justify_content": null,
            "_view_module": "@jupyter-widgets/base",
            "overflow": null,
            "_model_module_version": "1.2.0",
            "_view_count": null,
            "flex_flow": null,
            "width": null,
            "min_width": null,
            "border": null,
            "align_items": null,
            "bottom": null,
            "_model_module": "@jupyter-widgets/base",
            "top": null,
            "grid_column": null,
            "overflow_y": null,
            "overflow_x": null,
            "grid_auto_flow": null,
            "grid_area": null,
            "grid_template_columns": null,
            "flex": null,
            "_model_name": "LayoutModel",
            "justify_items": null,
            "grid_row": null,
            "max_height": null,
            "align_content": null,
            "visibility": null,
            "align_self": null,
            "height": null,
            "min_height": null,
            "padding": null,
            "grid_auto_rows": null,
            "grid_gap": null,
            "max_width": null,
            "order": null,
            "_view_module_version": "1.2.0",
            "grid_template_areas": null,
            "object_position": null,
            "object_fit": null,
            "grid_auto_columns": null,
            "margin": null,
            "display": null,
            "left": null
          }
        },
        "112ef03974d046e29226eeffb0792c6f": {
          "model_module": "@jupyter-widgets/controls",
          "model_name": "HBoxModel",
          "state": {
            "_view_name": "HBoxView",
            "_dom_classes": [],
            "_model_name": "HBoxModel",
            "_view_module": "@jupyter-widgets/controls",
            "_model_module_version": "1.5.0",
            "_view_count": null,
            "_view_module_version": "1.5.0",
            "box_style": "",
            "layout": "IPY_MODEL_bb916f5eb8c140528618606351de8350",
            "_model_module": "@jupyter-widgets/controls",
            "children": [
              "IPY_MODEL_e985e7a55b754a2791230e51930b762d",
              "IPY_MODEL_11523a8d815945a3a00f1a67f566c9ad"
            ]
          }
        },
        "bb916f5eb8c140528618606351de8350": {
          "model_module": "@jupyter-widgets/base",
          "model_name": "LayoutModel",
          "state": {
            "_view_name": "LayoutView",
            "grid_template_rows": null,
            "right": null,
            "justify_content": null,
            "_view_module": "@jupyter-widgets/base",
            "overflow": null,
            "_model_module_version": "1.2.0",
            "_view_count": null,
            "flex_flow": null,
            "width": null,
            "min_width": null,
            "border": null,
            "align_items": null,
            "bottom": null,
            "_model_module": "@jupyter-widgets/base",
            "top": null,
            "grid_column": null,
            "overflow_y": null,
            "overflow_x": null,
            "grid_auto_flow": null,
            "grid_area": null,
            "grid_template_columns": null,
            "flex": null,
            "_model_name": "LayoutModel",
            "justify_items": null,
            "grid_row": null,
            "max_height": null,
            "align_content": null,
            "visibility": null,
            "align_self": null,
            "height": null,
            "min_height": null,
            "padding": null,
            "grid_auto_rows": null,
            "grid_gap": null,
            "max_width": null,
            "order": null,
            "_view_module_version": "1.2.0",
            "grid_template_areas": null,
            "object_position": null,
            "object_fit": null,
            "grid_auto_columns": null,
            "margin": null,
            "display": null,
            "left": null
          }
        },
        "e985e7a55b754a2791230e51930b762d": {
          "model_module": "@jupyter-widgets/controls",
          "model_name": "FloatProgressModel",
          "state": {
            "_view_name": "ProgressView",
            "style": "IPY_MODEL_471873ba4eda41e697b4cd12a6e5c43f",
            "_dom_classes": [],
            "description": "Downloading: 100%",
            "_model_name": "FloatProgressModel",
            "bar_style": "success",
            "max": 1419628976,
            "_view_module": "@jupyter-widgets/controls",
            "_model_module_version": "1.5.0",
            "value": 1419628976,
            "_view_count": null,
            "_view_module_version": "1.5.0",
            "orientation": "horizontal",
            "min": 0,
            "description_tooltip": null,
            "_model_module": "@jupyter-widgets/controls",
            "layout": "IPY_MODEL_6a60da7f62024d90a3eebde60817d470"
          }
        },
        "11523a8d815945a3a00f1a67f566c9ad": {
          "model_module": "@jupyter-widgets/controls",
          "model_name": "HTMLModel",
          "state": {
            "_view_name": "HTMLView",
            "style": "IPY_MODEL_53166777313847dea4ed964e929ab86e",
            "_dom_classes": [],
            "description": "",
            "_model_name": "HTMLModel",
            "placeholder": "​",
            "_view_module": "@jupyter-widgets/controls",
            "_model_module_version": "1.5.0",
            "value": " 1.42G/1.42G [00:28&lt;00:00, 49.3MB/s]",
            "_view_count": null,
            "_view_module_version": "1.5.0",
            "description_tooltip": null,
            "_model_module": "@jupyter-widgets/controls",
            "layout": "IPY_MODEL_77003436c032439ca31daa788a510862"
          }
        },
        "471873ba4eda41e697b4cd12a6e5c43f": {
          "model_module": "@jupyter-widgets/controls",
          "model_name": "ProgressStyleModel",
          "state": {
            "_view_name": "StyleView",
            "_model_name": "ProgressStyleModel",
            "description_width": "initial",
            "_view_module": "@jupyter-widgets/base",
            "_model_module_version": "1.5.0",
            "_view_count": null,
            "_view_module_version": "1.2.0",
            "bar_color": null,
            "_model_module": "@jupyter-widgets/controls"
          }
        },
        "6a60da7f62024d90a3eebde60817d470": {
          "model_module": "@jupyter-widgets/base",
          "model_name": "LayoutModel",
          "state": {
            "_view_name": "LayoutView",
            "grid_template_rows": null,
            "right": null,
            "justify_content": null,
            "_view_module": "@jupyter-widgets/base",
            "overflow": null,
            "_model_module_version": "1.2.0",
            "_view_count": null,
            "flex_flow": null,
            "width": null,
            "min_width": null,
            "border": null,
            "align_items": null,
            "bottom": null,
            "_model_module": "@jupyter-widgets/base",
            "top": null,
            "grid_column": null,
            "overflow_y": null,
            "overflow_x": null,
            "grid_auto_flow": null,
            "grid_area": null,
            "grid_template_columns": null,
            "flex": null,
            "_model_name": "LayoutModel",
            "justify_items": null,
            "grid_row": null,
            "max_height": null,
            "align_content": null,
            "visibility": null,
            "align_self": null,
            "height": null,
            "min_height": null,
            "padding": null,
            "grid_auto_rows": null,
            "grid_gap": null,
            "max_width": null,
            "order": null,
            "_view_module_version": "1.2.0",
            "grid_template_areas": null,
            "object_position": null,
            "object_fit": null,
            "grid_auto_columns": null,
            "margin": null,
            "display": null,
            "left": null
          }
        },
        "53166777313847dea4ed964e929ab86e": {
          "model_module": "@jupyter-widgets/controls",
          "model_name": "DescriptionStyleModel",
          "state": {
            "_view_name": "StyleView",
            "_model_name": "DescriptionStyleModel",
            "description_width": "",
            "_view_module": "@jupyter-widgets/base",
            "_model_module_version": "1.5.0",
            "_view_count": null,
            "_view_module_version": "1.2.0",
            "_model_module": "@jupyter-widgets/controls"
          }
        },
        "77003436c032439ca31daa788a510862": {
          "model_module": "@jupyter-widgets/base",
          "model_name": "LayoutModel",
          "state": {
            "_view_name": "LayoutView",
            "grid_template_rows": null,
            "right": null,
            "justify_content": null,
            "_view_module": "@jupyter-widgets/base",
            "overflow": null,
            "_model_module_version": "1.2.0",
            "_view_count": null,
            "flex_flow": null,
            "width": null,
            "min_width": null,
            "border": null,
            "align_items": null,
            "bottom": null,
            "_model_module": "@jupyter-widgets/base",
            "top": null,
            "grid_column": null,
            "overflow_y": null,
            "overflow_x": null,
            "grid_auto_flow": null,
            "grid_area": null,
            "grid_template_columns": null,
            "flex": null,
            "_model_name": "LayoutModel",
            "justify_items": null,
            "grid_row": null,
            "max_height": null,
            "align_content": null,
            "visibility": null,
            "align_self": null,
            "height": null,
            "min_height": null,
            "padding": null,
            "grid_auto_rows": null,
            "grid_gap": null,
            "max_width": null,
            "order": null,
            "_view_module_version": "1.2.0",
            "grid_template_areas": null,
            "object_position": null,
            "object_fit": null,
            "grid_auto_columns": null,
            "margin": null,
            "display": null,
            "left": null
          }
        },
        "3f6efd7144d040fdb4c665fb13dc04a9": {
          "model_module": "@jupyter-widgets/controls",
          "model_name": "HBoxModel",
          "state": {
            "_view_name": "HBoxView",
            "_dom_classes": [],
            "_model_name": "HBoxModel",
            "_view_module": "@jupyter-widgets/controls",
            "_model_module_version": "1.5.0",
            "_view_count": null,
            "_view_module_version": "1.5.0",
            "box_style": "",
            "layout": "IPY_MODEL_b45887c4cb874083a401d8d58ffdbc05",
            "_model_module": "@jupyter-widgets/controls",
            "children": [
              "IPY_MODEL_76397a4c76094e60ba635cb17e4e8711",
              "IPY_MODEL_a50472310e374f5bbf9328a31e84258d"
            ]
          }
        },
        "b45887c4cb874083a401d8d58ffdbc05": {
          "model_module": "@jupyter-widgets/base",
          "model_name": "LayoutModel",
          "state": {
            "_view_name": "LayoutView",
            "grid_template_rows": null,
            "right": null,
            "justify_content": null,
            "_view_module": "@jupyter-widgets/base",
            "overflow": null,
            "_model_module_version": "1.2.0",
            "_view_count": null,
            "flex_flow": null,
            "width": null,
            "min_width": null,
            "border": null,
            "align_items": null,
            "bottom": null,
            "_model_module": "@jupyter-widgets/base",
            "top": null,
            "grid_column": null,
            "overflow_y": null,
            "overflow_x": null,
            "grid_auto_flow": null,
            "grid_area": null,
            "grid_template_columns": null,
            "flex": null,
            "_model_name": "LayoutModel",
            "justify_items": null,
            "grid_row": null,
            "max_height": null,
            "align_content": null,
            "visibility": null,
            "align_self": null,
            "height": null,
            "min_height": null,
            "padding": null,
            "grid_auto_rows": null,
            "grid_gap": null,
            "max_width": null,
            "order": null,
            "_view_module_version": "1.2.0",
            "grid_template_areas": null,
            "object_position": null,
            "object_fit": null,
            "grid_auto_columns": null,
            "margin": null,
            "display": null,
            "left": null
          }
        },
        "76397a4c76094e60ba635cb17e4e8711": {
          "model_module": "@jupyter-widgets/controls",
          "model_name": "FloatProgressModel",
          "state": {
            "_view_name": "ProgressView",
            "style": "IPY_MODEL_fa6e924869264042ac5a35ee79cde800",
            "_dom_classes": [],
            "description": "",
            "_model_name": "FloatProgressModel",
            "bar_style": "success",
            "max": 1,
            "_view_module": "@jupyter-widgets/controls",
            "_model_module_version": "1.5.0",
            "value": 1,
            "_view_count": null,
            "_view_module_version": "1.5.0",
            "orientation": "horizontal",
            "min": 0,
            "description_tooltip": null,
            "_model_module": "@jupyter-widgets/controls",
            "layout": "IPY_MODEL_498dba0a7bd34d30867c111078ce0d14"
          }
        },
        "a50472310e374f5bbf9328a31e84258d": {
          "model_module": "@jupyter-widgets/controls",
          "model_name": "HTMLModel",
          "state": {
            "_view_name": "HTMLView",
            "style": "IPY_MODEL_a7adf119d48c4dda80b6f5111b7b06ef",
            "_dom_classes": [],
            "description": "",
            "_model_name": "HTMLModel",
            "placeholder": "​",
            "_view_module": "@jupyter-widgets/controls",
            "_model_module_version": "1.5.0",
            "value": " 14479/? [1:43:03&lt;00:00,  2.34it/s]",
            "_view_count": null,
            "_view_module_version": "1.5.0",
            "description_tooltip": null,
            "_model_module": "@jupyter-widgets/controls",
            "layout": "IPY_MODEL_28aa838901814da9bb0b043981ce1284"
          }
        },
        "fa6e924869264042ac5a35ee79cde800": {
          "model_module": "@jupyter-widgets/controls",
          "model_name": "ProgressStyleModel",
          "state": {
            "_view_name": "StyleView",
            "_model_name": "ProgressStyleModel",
            "description_width": "initial",
            "_view_module": "@jupyter-widgets/base",
            "_model_module_version": "1.5.0",
            "_view_count": null,
            "_view_module_version": "1.2.0",
            "bar_color": null,
            "_model_module": "@jupyter-widgets/controls"
          }
        },
        "498dba0a7bd34d30867c111078ce0d14": {
          "model_module": "@jupyter-widgets/base",
          "model_name": "LayoutModel",
          "state": {
            "_view_name": "LayoutView",
            "grid_template_rows": null,
            "right": null,
            "justify_content": null,
            "_view_module": "@jupyter-widgets/base",
            "overflow": null,
            "_model_module_version": "1.2.0",
            "_view_count": null,
            "flex_flow": null,
            "width": null,
            "min_width": null,
            "border": null,
            "align_items": null,
            "bottom": null,
            "_model_module": "@jupyter-widgets/base",
            "top": null,
            "grid_column": null,
            "overflow_y": null,
            "overflow_x": null,
            "grid_auto_flow": null,
            "grid_area": null,
            "grid_template_columns": null,
            "flex": null,
            "_model_name": "LayoutModel",
            "justify_items": null,
            "grid_row": null,
            "max_height": null,
            "align_content": null,
            "visibility": null,
            "align_self": null,
            "height": null,
            "min_height": null,
            "padding": null,
            "grid_auto_rows": null,
            "grid_gap": null,
            "max_width": null,
            "order": null,
            "_view_module_version": "1.2.0",
            "grid_template_areas": null,
            "object_position": null,
            "object_fit": null,
            "grid_auto_columns": null,
            "margin": null,
            "display": null,
            "left": null
          }
        },
        "a7adf119d48c4dda80b6f5111b7b06ef": {
          "model_module": "@jupyter-widgets/controls",
          "model_name": "DescriptionStyleModel",
          "state": {
            "_view_name": "StyleView",
            "_model_name": "DescriptionStyleModel",
            "description_width": "",
            "_view_module": "@jupyter-widgets/base",
            "_model_module_version": "1.5.0",
            "_view_count": null,
            "_view_module_version": "1.2.0",
            "_model_module": "@jupyter-widgets/controls"
          }
        },
        "28aa838901814da9bb0b043981ce1284": {
          "model_module": "@jupyter-widgets/base",
          "model_name": "LayoutModel",
          "state": {
            "_view_name": "LayoutView",
            "grid_template_rows": null,
            "right": null,
            "justify_content": null,
            "_view_module": "@jupyter-widgets/base",
            "overflow": null,
            "_model_module_version": "1.2.0",
            "_view_count": null,
            "flex_flow": null,
            "width": null,
            "min_width": null,
            "border": null,
            "align_items": null,
            "bottom": null,
            "_model_module": "@jupyter-widgets/base",
            "top": null,
            "grid_column": null,
            "overflow_y": null,
            "overflow_x": null,
            "grid_auto_flow": null,
            "grid_area": null,
            "grid_template_columns": null,
            "flex": null,
            "_model_name": "LayoutModel",
            "justify_items": null,
            "grid_row": null,
            "max_height": null,
            "align_content": null,
            "visibility": null,
            "align_self": null,
            "height": null,
            "min_height": null,
            "padding": null,
            "grid_auto_rows": null,
            "grid_gap": null,
            "max_width": null,
            "order": null,
            "_view_module_version": "1.2.0",
            "grid_template_areas": null,
            "object_position": null,
            "object_fit": null,
            "grid_auto_columns": null,
            "margin": null,
            "display": null,
            "left": null
          }
        },
        "a48e10d69ca242a1b48338607e0b9773": {
          "model_module": "@jupyter-widgets/controls",
          "model_name": "HBoxModel",
          "state": {
            "_view_name": "HBoxView",
            "_dom_classes": [],
            "_model_name": "HBoxModel",
            "_view_module": "@jupyter-widgets/controls",
            "_model_module_version": "1.5.0",
            "_view_count": null,
            "_view_module_version": "1.5.0",
            "box_style": "",
            "layout": "IPY_MODEL_633900272a67404bbdef1bcd8ba2fc46",
            "_model_module": "@jupyter-widgets/controls",
            "children": [
              "IPY_MODEL_8609eb74971f420dabeb392d80c3055d",
              "IPY_MODEL_2510b0af66944b879440dc3af25253ab"
            ]
          }
        },
        "633900272a67404bbdef1bcd8ba2fc46": {
          "model_module": "@jupyter-widgets/base",
          "model_name": "LayoutModel",
          "state": {
            "_view_name": "LayoutView",
            "grid_template_rows": null,
            "right": null,
            "justify_content": null,
            "_view_module": "@jupyter-widgets/base",
            "overflow": null,
            "_model_module_version": "1.2.0",
            "_view_count": null,
            "flex_flow": null,
            "width": null,
            "min_width": null,
            "border": null,
            "align_items": null,
            "bottom": null,
            "_model_module": "@jupyter-widgets/base",
            "top": null,
            "grid_column": null,
            "overflow_y": null,
            "overflow_x": null,
            "grid_auto_flow": null,
            "grid_area": null,
            "grid_template_columns": null,
            "flex": null,
            "_model_name": "LayoutModel",
            "justify_items": null,
            "grid_row": null,
            "max_height": null,
            "align_content": null,
            "visibility": null,
            "align_self": null,
            "height": null,
            "min_height": null,
            "padding": null,
            "grid_auto_rows": null,
            "grid_gap": null,
            "max_width": null,
            "order": null,
            "_view_module_version": "1.2.0",
            "grid_template_areas": null,
            "object_position": null,
            "object_fit": null,
            "grid_auto_columns": null,
            "margin": null,
            "display": null,
            "left": null
          }
        },
        "8609eb74971f420dabeb392d80c3055d": {
          "model_module": "@jupyter-widgets/controls",
          "model_name": "FloatProgressModel",
          "state": {
            "_view_name": "ProgressView",
            "style": "IPY_MODEL_f58a58d0ccca48849ab386659a6fd075",
            "_dom_classes": [],
            "description": "",
            "_model_name": "FloatProgressModel",
            "bar_style": "success",
            "max": 1,
            "_view_module": "@jupyter-widgets/controls",
            "_model_module_version": "1.5.0",
            "value": 1,
            "_view_count": null,
            "_view_module_version": "1.5.0",
            "orientation": "horizontal",
            "min": 0,
            "description_tooltip": null,
            "_model_module": "@jupyter-widgets/controls",
            "layout": "IPY_MODEL_31e66c8f1b274dbd8f842cdbfdf53694"
          }
        },
        "2510b0af66944b879440dc3af25253ab": {
          "model_module": "@jupyter-widgets/controls",
          "model_name": "HTMLModel",
          "state": {
            "_view_name": "HTMLView",
            "style": "IPY_MODEL_61567616f3a1498bb42c1e0034eef62f",
            "_dom_classes": [],
            "description": "",
            "_model_name": "HTMLModel",
            "placeholder": "​",
            "_view_module": "@jupyter-widgets/controls",
            "_model_module_version": "1.5.0",
            "value": " 14479/? [1:42:41&lt;00:00,  2.35it/s]",
            "_view_count": null,
            "_view_module_version": "1.5.0",
            "description_tooltip": null,
            "_model_module": "@jupyter-widgets/controls",
            "layout": "IPY_MODEL_42d7f4b5dbed4717b20ff659ead22ecd"
          }
        },
        "f58a58d0ccca48849ab386659a6fd075": {
          "model_module": "@jupyter-widgets/controls",
          "model_name": "ProgressStyleModel",
          "state": {
            "_view_name": "StyleView",
            "_model_name": "ProgressStyleModel",
            "description_width": "initial",
            "_view_module": "@jupyter-widgets/base",
            "_model_module_version": "1.5.0",
            "_view_count": null,
            "_view_module_version": "1.2.0",
            "bar_color": null,
            "_model_module": "@jupyter-widgets/controls"
          }
        },
        "31e66c8f1b274dbd8f842cdbfdf53694": {
          "model_module": "@jupyter-widgets/base",
          "model_name": "LayoutModel",
          "state": {
            "_view_name": "LayoutView",
            "grid_template_rows": null,
            "right": null,
            "justify_content": null,
            "_view_module": "@jupyter-widgets/base",
            "overflow": null,
            "_model_module_version": "1.2.0",
            "_view_count": null,
            "flex_flow": null,
            "width": null,
            "min_width": null,
            "border": null,
            "align_items": null,
            "bottom": null,
            "_model_module": "@jupyter-widgets/base",
            "top": null,
            "grid_column": null,
            "overflow_y": null,
            "overflow_x": null,
            "grid_auto_flow": null,
            "grid_area": null,
            "grid_template_columns": null,
            "flex": null,
            "_model_name": "LayoutModel",
            "justify_items": null,
            "grid_row": null,
            "max_height": null,
            "align_content": null,
            "visibility": null,
            "align_self": null,
            "height": null,
            "min_height": null,
            "padding": null,
            "grid_auto_rows": null,
            "grid_gap": null,
            "max_width": null,
            "order": null,
            "_view_module_version": "1.2.0",
            "grid_template_areas": null,
            "object_position": null,
            "object_fit": null,
            "grid_auto_columns": null,
            "margin": null,
            "display": null,
            "left": null
          }
        },
        "61567616f3a1498bb42c1e0034eef62f": {
          "model_module": "@jupyter-widgets/controls",
          "model_name": "DescriptionStyleModel",
          "state": {
            "_view_name": "StyleView",
            "_model_name": "DescriptionStyleModel",
            "description_width": "",
            "_view_module": "@jupyter-widgets/base",
            "_model_module_version": "1.5.0",
            "_view_count": null,
            "_view_module_version": "1.2.0",
            "_model_module": "@jupyter-widgets/controls"
          }
        },
        "42d7f4b5dbed4717b20ff659ead22ecd": {
          "model_module": "@jupyter-widgets/base",
          "model_name": "LayoutModel",
          "state": {
            "_view_name": "LayoutView",
            "grid_template_rows": null,
            "right": null,
            "justify_content": null,
            "_view_module": "@jupyter-widgets/base",
            "overflow": null,
            "_model_module_version": "1.2.0",
            "_view_count": null,
            "flex_flow": null,
            "width": null,
            "min_width": null,
            "border": null,
            "align_items": null,
            "bottom": null,
            "_model_module": "@jupyter-widgets/base",
            "top": null,
            "grid_column": null,
            "overflow_y": null,
            "overflow_x": null,
            "grid_auto_flow": null,
            "grid_area": null,
            "grid_template_columns": null,
            "flex": null,
            "_model_name": "LayoutModel",
            "justify_items": null,
            "grid_row": null,
            "max_height": null,
            "align_content": null,
            "visibility": null,
            "align_self": null,
            "height": null,
            "min_height": null,
            "padding": null,
            "grid_auto_rows": null,
            "grid_gap": null,
            "max_width": null,
            "order": null,
            "_view_module_version": "1.2.0",
            "grid_template_areas": null,
            "object_position": null,
            "object_fit": null,
            "grid_auto_columns": null,
            "margin": null,
            "display": null,
            "left": null
          }
        },
        "b6e8a3951d1f46d9a5e3a691aefc1af8": {
          "model_module": "@jupyter-widgets/controls",
          "model_name": "HBoxModel",
          "state": {
            "_view_name": "HBoxView",
            "_dom_classes": [],
            "_model_name": "HBoxModel",
            "_view_module": "@jupyter-widgets/controls",
            "_model_module_version": "1.5.0",
            "_view_count": null,
            "_view_module_version": "1.5.0",
            "box_style": "",
            "layout": "IPY_MODEL_3b83963b401a4b79a6e35b572cd1a033",
            "_model_module": "@jupyter-widgets/controls",
            "children": [
              "IPY_MODEL_98c7dcb0e2e148a5bb472a08ac054bc8",
              "IPY_MODEL_676d0bd63310496cb950c0be52d432e0"
            ]
          }
        },
        "3b83963b401a4b79a6e35b572cd1a033": {
          "model_module": "@jupyter-widgets/base",
          "model_name": "LayoutModel",
          "state": {
            "_view_name": "LayoutView",
            "grid_template_rows": null,
            "right": null,
            "justify_content": null,
            "_view_module": "@jupyter-widgets/base",
            "overflow": null,
            "_model_module_version": "1.2.0",
            "_view_count": null,
            "flex_flow": null,
            "width": null,
            "min_width": null,
            "border": null,
            "align_items": null,
            "bottom": null,
            "_model_module": "@jupyter-widgets/base",
            "top": null,
            "grid_column": null,
            "overflow_y": null,
            "overflow_x": null,
            "grid_auto_flow": null,
            "grid_area": null,
            "grid_template_columns": null,
            "flex": null,
            "_model_name": "LayoutModel",
            "justify_items": null,
            "grid_row": null,
            "max_height": null,
            "align_content": null,
            "visibility": null,
            "align_self": null,
            "height": null,
            "min_height": null,
            "padding": null,
            "grid_auto_rows": null,
            "grid_gap": null,
            "max_width": null,
            "order": null,
            "_view_module_version": "1.2.0",
            "grid_template_areas": null,
            "object_position": null,
            "object_fit": null,
            "grid_auto_columns": null,
            "margin": null,
            "display": null,
            "left": null
          }
        },
        "98c7dcb0e2e148a5bb472a08ac054bc8": {
          "model_module": "@jupyter-widgets/controls",
          "model_name": "FloatProgressModel",
          "state": {
            "_view_name": "ProgressView",
            "style": "IPY_MODEL_7203a682dcaa4099a6cf42efc29afdf0",
            "_dom_classes": [],
            "description": "",
            "_model_name": "FloatProgressModel",
            "bar_style": "success",
            "max": 1,
            "_view_module": "@jupyter-widgets/controls",
            "_model_module_version": "1.5.0",
            "value": 1,
            "_view_count": null,
            "_view_module_version": "1.5.0",
            "orientation": "horizontal",
            "min": 0,
            "description_tooltip": null,
            "_model_module": "@jupyter-widgets/controls",
            "layout": "IPY_MODEL_35e8877d8a6049a6935933de8ec27bda"
          }
        },
        "676d0bd63310496cb950c0be52d432e0": {
          "model_module": "@jupyter-widgets/controls",
          "model_name": "HTMLModel",
          "state": {
            "_view_name": "HTMLView",
            "style": "IPY_MODEL_9f4814c1f6564f26aab28d55bf916135",
            "_dom_classes": [],
            "description": "",
            "_model_name": "HTMLModel",
            "placeholder": "​",
            "_view_module": "@jupyter-widgets/controls",
            "_model_module_version": "1.5.0",
            "value": " 14479/? [1:42:41&lt;00:00,  2.35it/s]",
            "_view_count": null,
            "_view_module_version": "1.5.0",
            "description_tooltip": null,
            "_model_module": "@jupyter-widgets/controls",
            "layout": "IPY_MODEL_127008fb1f614244ac499ee41d475531"
          }
        },
        "7203a682dcaa4099a6cf42efc29afdf0": {
          "model_module": "@jupyter-widgets/controls",
          "model_name": "ProgressStyleModel",
          "state": {
            "_view_name": "StyleView",
            "_model_name": "ProgressStyleModel",
            "description_width": "initial",
            "_view_module": "@jupyter-widgets/base",
            "_model_module_version": "1.5.0",
            "_view_count": null,
            "_view_module_version": "1.2.0",
            "bar_color": null,
            "_model_module": "@jupyter-widgets/controls"
          }
        },
        "35e8877d8a6049a6935933de8ec27bda": {
          "model_module": "@jupyter-widgets/base",
          "model_name": "LayoutModel",
          "state": {
            "_view_name": "LayoutView",
            "grid_template_rows": null,
            "right": null,
            "justify_content": null,
            "_view_module": "@jupyter-widgets/base",
            "overflow": null,
            "_model_module_version": "1.2.0",
            "_view_count": null,
            "flex_flow": null,
            "width": null,
            "min_width": null,
            "border": null,
            "align_items": null,
            "bottom": null,
            "_model_module": "@jupyter-widgets/base",
            "top": null,
            "grid_column": null,
            "overflow_y": null,
            "overflow_x": null,
            "grid_auto_flow": null,
            "grid_area": null,
            "grid_template_columns": null,
            "flex": null,
            "_model_name": "LayoutModel",
            "justify_items": null,
            "grid_row": null,
            "max_height": null,
            "align_content": null,
            "visibility": null,
            "align_self": null,
            "height": null,
            "min_height": null,
            "padding": null,
            "grid_auto_rows": null,
            "grid_gap": null,
            "max_width": null,
            "order": null,
            "_view_module_version": "1.2.0",
            "grid_template_areas": null,
            "object_position": null,
            "object_fit": null,
            "grid_auto_columns": null,
            "margin": null,
            "display": null,
            "left": null
          }
        },
        "9f4814c1f6564f26aab28d55bf916135": {
          "model_module": "@jupyter-widgets/controls",
          "model_name": "DescriptionStyleModel",
          "state": {
            "_view_name": "StyleView",
            "_model_name": "DescriptionStyleModel",
            "description_width": "",
            "_view_module": "@jupyter-widgets/base",
            "_model_module_version": "1.5.0",
            "_view_count": null,
            "_view_module_version": "1.2.0",
            "_model_module": "@jupyter-widgets/controls"
          }
        },
        "127008fb1f614244ac499ee41d475531": {
          "model_module": "@jupyter-widgets/base",
          "model_name": "LayoutModel",
          "state": {
            "_view_name": "LayoutView",
            "grid_template_rows": null,
            "right": null,
            "justify_content": null,
            "_view_module": "@jupyter-widgets/base",
            "overflow": null,
            "_model_module_version": "1.2.0",
            "_view_count": null,
            "flex_flow": null,
            "width": null,
            "min_width": null,
            "border": null,
            "align_items": null,
            "bottom": null,
            "_model_module": "@jupyter-widgets/base",
            "top": null,
            "grid_column": null,
            "overflow_y": null,
            "overflow_x": null,
            "grid_auto_flow": null,
            "grid_area": null,
            "grid_template_columns": null,
            "flex": null,
            "_model_name": "LayoutModel",
            "justify_items": null,
            "grid_row": null,
            "max_height": null,
            "align_content": null,
            "visibility": null,
            "align_self": null,
            "height": null,
            "min_height": null,
            "padding": null,
            "grid_auto_rows": null,
            "grid_gap": null,
            "max_width": null,
            "order": null,
            "_view_module_version": "1.2.0",
            "grid_template_areas": null,
            "object_position": null,
            "object_fit": null,
            "grid_auto_columns": null,
            "margin": null,
            "display": null,
            "left": null
          }
        }
      }
    }
  },
  "cells": [
    {
      "cell_type": "code",
      "metadata": {
        "id": "7oB90qa-JIOK",
        "colab_type": "code",
        "outputId": "e196b5bf-7199-4a3b-9bab-3367db85dfa2",
        "colab": {
          "base_uri": "https://localhost:8080/",
          "height": 102
        }
      },
      "source": [
        "## Quietly installing transformers package to import\n",
        "## the GPT2Tokenizer and TFGPT2LMHeadModel\n",
        "!pip install transformers -q"
      ],
      "execution_count": 2,
      "outputs": [
        {
          "output_type": "stream",
          "text": [
            "\u001b[K     |████████████████████████████████| 665kB 2.8MB/s \n",
            "\u001b[K     |████████████████████████████████| 890kB 47.2MB/s \n",
            "\u001b[K     |████████████████████████████████| 3.8MB 47.0MB/s \n",
            "\u001b[K     |████████████████████████████████| 1.1MB 54.2MB/s \n",
            "\u001b[?25h  Building wheel for sacremoses (setup.py) ... \u001b[?25l\u001b[?25hdone\n"
          ],
          "name": "stdout"
        }
      ]
    },
    {
      "cell_type": "markdown",
      "metadata": {
        "id": "0mkkMg9RiJAz",
        "colab_type": "text"
      },
      "source": [
        "## Imports"
      ]
    },
    {
      "cell_type": "code",
      "metadata": {
        "id": "1ohArLlf2nj7",
        "colab_type": "code",
        "colab": {}
      },
      "source": [
        "import tensorflow as tf\n",
        "\n",
        "from transformers import GPT2Tokenizer, TFGPT2LMHeadModel\n",
        "\n",
        "import os\n",
        "import numpy as np\n",
        "import pandas as pd\n",
        "\n",
        "from tqdm.notebook import tqdm"
      ],
      "execution_count": 0,
      "outputs": []
    },
    {
      "cell_type": "markdown",
      "metadata": {
        "id": "qz3BbzQU3nRg",
        "colab_type": "text"
      },
      "source": [
        "## Downloading the Data\n",
        "\n",
        "The dataset is available at https://www.kaggle.com/abhinavmoudgil95/short-jokes/data\n",
        "\n",
        "Sign In to Kaggle and begin the download process for **shortjokes.csv** file. Then copy the link address for the download file and update the _URL varaiable.\n",
        "\n",
        "Once done run all the cells in the notebook. Also, you can cancel the donwload process for the file. :)"
      ]
    },
    {
      "cell_type": "code",
      "metadata": {
        "id": "r788uSoz3lkO",
        "colab_type": "code",
        "colab": {}
      },
      "source": [
        "_URL = 'https://storage.googleapis.com/kaggle-data-sets/781/1457/compressed/shortjokes.csv.zip?GoogleAccessId=web-data@kaggle-161607.iam.gserviceaccount.com&Expires=1590552129&Signature=b5VddktUlUoZ9TzTuto9MttfiH0mVKPaTwABgiaQ9PttC54CUDZEGOPnVMRaB8xYZ3VqzkmEAAUq5hDuS1mZOeEcNS5Fi5GFFKhfRMmoWX9FJT8aY%2B3mccSF3a7XlPSYqlU4KcHlulZqwow3LYKod7B1E6Eilh4GdAWLa59Re0wXBdcvd0mBiNx12hRFj9PzSyyGQMEXf%2Bgs7O3ZvVU9QO2zAvH0Kg2wLj4XRNXZsZFEx1TapdPtcyO%2BBcxpbCu7OCg%2F3tuqV81sKtmkJD4LPo532PX9q9M8p08LorXTRrVCid5fIN5QPFbkd%2FRRqOe6%2BsVyhUk65jl6nvodSrHICQ%3D%3D&response-content-disposition=attachment%3B+filename%3Dshortjokes.csv.zip'"
      ],
      "execution_count": 0,
      "outputs": []
    },
    {
      "cell_type": "code",
      "metadata": {
        "id": "6N9sG3LID_tn",
        "colab_type": "code",
        "outputId": "3545985a-1b30-43f0-b72a-73b6765f1e8e",
        "colab": {
          "base_uri": "https://localhost:8080/",
          "height": 71
        }
      },
      "source": [
        "path_to_zip = tf.keras.utils.get_file('shortjokes.csv.zip', origin=_URL, extract=True)\n",
        "\n",
        "FILE_PATH = os.path.join(os.path.dirname(path_to_zip), 'shortjokes.csv')"
      ],
      "execution_count": 5,
      "outputs": [
        {
          "output_type": "stream",
          "text": [
            "Downloading data from https://storage.googleapis.com/kaggle-data-sets/781/1457/compressed/shortjokes.csv.zip?GoogleAccessId=web-data@kaggle-161607.iam.gserviceaccount.com&Expires=1590552129&Signature=b5VddktUlUoZ9TzTuto9MttfiH0mVKPaTwABgiaQ9PttC54CUDZEGOPnVMRaB8xYZ3VqzkmEAAUq5hDuS1mZOeEcNS5Fi5GFFKhfRMmoWX9FJT8aY%2B3mccSF3a7XlPSYqlU4KcHlulZqwow3LYKod7B1E6Eilh4GdAWLa59Re0wXBdcvd0mBiNx12hRFj9PzSyyGQMEXf%2Bgs7O3ZvVU9QO2zAvH0Kg2wLj4XRNXZsZFEx1TapdPtcyO%2BBcxpbCu7OCg%2F3tuqV81sKtmkJD4LPo532PX9q9M8p08LorXTRrVCid5fIN5QPFbkd%2FRRqOe6%2BsVyhUk65jl6nvodSrHICQ%3D%3D&response-content-disposition=attachment%3B+filename%3Dshortjokes.csv.zip\n",
            "10305536/10299687 [==============================] - 0s 0us/step\n"
          ],
          "name": "stdout"
        }
      ]
    },
    {
      "cell_type": "markdown",
      "metadata": {
        "id": "W3xUvbCJFkS1",
        "colab_type": "text"
      },
      "source": [
        "## Preparing the Dataset"
      ]
    },
    {
      "cell_type": "markdown",
      "metadata": {
        "id": "emWVc6SFRHMk",
        "colab_type": "text"
      },
      "source": [
        "### Extracting jokes list from CSV"
      ]
    },
    {
      "cell_type": "code",
      "metadata": {
        "id": "zCLwNtgSGEYh",
        "colab_type": "code",
        "colab": {}
      },
      "source": [
        " pd.options.display.max_colwidth = None"
      ],
      "execution_count": 0,
      "outputs": []
    },
    {
      "cell_type": "code",
      "metadata": {
        "id": "jgTULP5fEH32",
        "colab_type": "code",
        "outputId": "87747c08-f660-4198-8740-c18333a7c8d3",
        "colab": {
          "base_uri": "https://localhost:8080/",
          "height": 204
        }
      },
      "source": [
        "jokes = pd.read_csv(FILE_PATH)\n",
        "jokes.head()"
      ],
      "execution_count": 7,
      "outputs": [
        {
          "output_type": "execute_result",
          "data": {
            "text/html": [
              "<div>\n",
              "<style scoped>\n",
              "    .dataframe tbody tr th:only-of-type {\n",
              "        vertical-align: middle;\n",
              "    }\n",
              "\n",
              "    .dataframe tbody tr th {\n",
              "        vertical-align: top;\n",
              "    }\n",
              "\n",
              "    .dataframe thead th {\n",
              "        text-align: right;\n",
              "    }\n",
              "</style>\n",
              "<table border=\"1\" class=\"dataframe\">\n",
              "  <thead>\n",
              "    <tr style=\"text-align: right;\">\n",
              "      <th></th>\n",
              "      <th>ID</th>\n",
              "      <th>Joke</th>\n",
              "    </tr>\n",
              "  </thead>\n",
              "  <tbody>\n",
              "    <tr>\n",
              "      <th>0</th>\n",
              "      <td>1</td>\n",
              "      <td>[me narrating a documentary about narrators] \"I can't hear what they're saying cuz I'm talking\"</td>\n",
              "    </tr>\n",
              "    <tr>\n",
              "      <th>1</th>\n",
              "      <td>2</td>\n",
              "      <td>Telling my daughter garlic is good for you. Good immune system and keeps pests away.Ticks, mosquitos, vampires... men.</td>\n",
              "    </tr>\n",
              "    <tr>\n",
              "      <th>2</th>\n",
              "      <td>3</td>\n",
              "      <td>I've been going through a really rough period at work this week It's my own fault for swapping my tampax for sand paper.</td>\n",
              "    </tr>\n",
              "    <tr>\n",
              "      <th>3</th>\n",
              "      <td>4</td>\n",
              "      <td>If I could have dinner with anyone, dead or alive... ...I would choose alive. -B.J. Novak-</td>\n",
              "    </tr>\n",
              "    <tr>\n",
              "      <th>4</th>\n",
              "      <td>5</td>\n",
              "      <td>Two guys walk into a bar. The third guy ducks.</td>\n",
              "    </tr>\n",
              "  </tbody>\n",
              "</table>\n",
              "</div>"
            ],
            "text/plain": [
              "   ID                                                                                                                      Joke\n",
              "0   1                           [me narrating a documentary about narrators] \"I can't hear what they're saying cuz I'm talking\"\n",
              "1   2    Telling my daughter garlic is good for you. Good immune system and keeps pests away.Ticks, mosquitos, vampires... men.\n",
              "2   3  I've been going through a really rough period at work this week It's my own fault for swapping my tampax for sand paper.\n",
              "3   4                                If I could have dinner with anyone, dead or alive... ...I would choose alive. -B.J. Novak-\n",
              "4   5                                                                            Two guys walk into a bar. The third guy ducks."
            ]
          },
          "metadata": {
            "tags": []
          },
          "execution_count": 7
        }
      ]
    },
    {
      "cell_type": "code",
      "metadata": {
        "id": "ePwTjASsNw50",
        "colab_type": "code",
        "outputId": "adc72214-c336-401d-fa53-eca125ecf4dd",
        "colab": {
          "base_uri": "https://localhost:8080/",
          "height": 102
        }
      },
      "source": [
        "jokeslist = jokes['Joke'].to_list()\n",
        "jokeslist[:5]"
      ],
      "execution_count": 8,
      "outputs": [
        {
          "output_type": "execute_result",
          "data": {
            "text/plain": [
              "['[me narrating a documentary about narrators] \"I can\\'t hear what they\\'re saying cuz I\\'m talking\"',\n",
              " 'Telling my daughter garlic is good for you. Good immune system and keeps pests away.Ticks, mosquitos, vampires... men.',\n",
              " \"I've been going through a really rough period at work this week It's my own fault for swapping my tampax for sand paper.\",\n",
              " 'If I could have dinner with anyone, dead or alive... ...I would choose alive. -B.J. Novak-',\n",
              " 'Two guys walk into a bar. The third guy ducks.']"
            ]
          },
          "metadata": {
            "tags": []
          },
          "execution_count": 8
        }
      ]
    },
    {
      "cell_type": "markdown",
      "metadata": {
        "id": "u88ehaULRO3U",
        "colab_type": "text"
      },
      "source": [
        "### Creating the Tokenizer for word tokenization"
      ]
    },
    {
      "cell_type": "code",
      "metadata": {
        "id": "lPk1pSyjPGid",
        "colab_type": "code",
        "outputId": "13f0d192-3847-4a7b-a6bf-8c04382e4303",
        "colab": {
          "base_uri": "https://localhost:8080/",
          "height": 115,
          "referenced_widgets": [
            "ff78b80056254582a7cadba1d709a711",
            "531ac4ddb38b4c02bbb0a4cfc5a668ff",
            "7ae079f1d35049daa133081d4d3cfae4",
            "78d28ec9a4994103bdc00bfa40dd3b5a",
            "17b4cb3c8b4a491688f53974e1366cd3",
            "403e0bb0fe46401db972773bb13fdb82",
            "e630274db39445e9b91ebc0e81b46355",
            "3d1f43ad335e4e9babba2b9ce4a6086c",
            "a1e087f61ed24c94853fd5fed98ae3db",
            "0aaa0f31d27446388194701fd284b464",
            "a307b4d0ea314602881221f40a0da56b",
            "326cf1b572e6474d905cfa0f21d2feaa",
            "6bd03f50e8154c17a24650a01c11d5fb",
            "6139d2ea295048ffad9a64bac0f61617",
            "322e0cf83d714e33bd752278227c923c",
            "5e060c0e8365400aa7f4f42c37472bf6"
          ]
        }
      },
      "source": [
        "Tokenizer = GPT2Tokenizer.from_pretrained('gpt2-medium')"
      ],
      "execution_count": 9,
      "outputs": [
        {
          "output_type": "display_data",
          "data": {
            "application/vnd.jupyter.widget-view+json": {
              "model_id": "ff78b80056254582a7cadba1d709a711",
              "version_minor": 0,
              "version_major": 2
            },
            "text/plain": [
              "HBox(children=(FloatProgress(value=0.0, description='Downloading', max=1042301.0, style=ProgressStyle(descript…"
            ]
          },
          "metadata": {
            "tags": []
          }
        },
        {
          "output_type": "stream",
          "text": [
            "\n"
          ],
          "name": "stdout"
        },
        {
          "output_type": "display_data",
          "data": {
            "application/vnd.jupyter.widget-view+json": {
              "model_id": "a1e087f61ed24c94853fd5fed98ae3db",
              "version_minor": 0,
              "version_major": 2
            },
            "text/plain": [
              "HBox(children=(FloatProgress(value=0.0, description='Downloading', max=456318.0, style=ProgressStyle(descripti…"
            ]
          },
          "metadata": {
            "tags": []
          }
        },
        {
          "output_type": "stream",
          "text": [
            "\n"
          ],
          "name": "stdout"
        }
      ]
    },
    {
      "cell_type": "code",
      "metadata": {
        "id": "-O1BnNyNPXRx",
        "colab_type": "code",
        "outputId": "d5bde3ed-8b40-43c5-f18f-b2f54a9ed97e",
        "colab": {
          "base_uri": "https://localhost:8080/",
          "height": 34
        }
      },
      "source": [
        "special_tokens_dict = {'pad_token': 'pad'}\n",
        "num_added_toks = Tokenizer.add_special_tokens(special_tokens_dict)\n",
        "print('We have added', num_added_toks, 'tokens')"
      ],
      "execution_count": 10,
      "outputs": [
        {
          "output_type": "stream",
          "text": [
            "We have added 0 tokens\n"
          ],
          "name": "stdout"
        }
      ]
    },
    {
      "cell_type": "markdown",
      "metadata": {
        "id": "dv2o6lzfilWm",
        "colab_type": "text"
      },
      "source": [
        "### Create Dataset from List"
      ]
    },
    {
      "cell_type": "code",
      "metadata": {
        "id": "jlCWBS-bFt89",
        "colab_type": "code",
        "colab": {}
      },
      "source": [
        "# A utility method to create a tf.data dataset from a List of jokes\n",
        "def jokeslist_to_dataset(jokeslist, tokenizer, \n",
        "                  shuffle=True, batch_size=16, MAX_LEN = 64):\n",
        "  \n",
        "\n",
        "  jokeslist = ['<|start|> ' + joke + ' <|end|>' for joke in jokeslist]\n",
        "\n",
        "  encodings = [tokenizer.encode_plus(joke,\n",
        "                                  None,\n",
        "                                  add_special_tokens = True,\n",
        "                                  max_length = MAX_LEN,\n",
        "                                  pad_to_max_length = True) \n",
        "              for joke in jokeslist]\n",
        "\n",
        "  ids = [x['input_ids'] for x in encodings]\n",
        "  masks = [x['attention_mask'] for x in encodings]\n",
        "  types = [x['token_type_ids'] for x in encodings]\n",
        "\n",
        "  inputs = {}\n",
        "  inputs['input_ids'] = ids\n",
        "  inputs['attention_mask'] = masks\n",
        "  inputs['token_type_ids'] = types\n",
        "\n",
        "  ds = tf.data.Dataset.from_tensor_slices(inputs)\n",
        "\n",
        "  if shuffle:\n",
        "    ds = ds.shuffle(buffer_size=len(jokeslist))\n",
        "\n",
        "  ds = ds.batch(batch_size)\n",
        "\n",
        "  return ds"
      ],
      "execution_count": 0,
      "outputs": []
    },
    {
      "cell_type": "markdown",
      "metadata": {
        "id": "NhgJUfaKir_t",
        "colab_type": "text"
      },
      "source": [
        "Note: This is a costly process since all the tokenization is done immediately. Thus it is expected to be slow. The only advantage is since everything is processed and kept in memory we are saving repated operationg while training."
      ]
    },
    {
      "cell_type": "code",
      "metadata": {
        "id": "6RpJpWbVOEsZ",
        "colab_type": "code",
        "colab": {}
      },
      "source": [
        "jokes_dataset = jokeslist_to_dataset(jokeslist, Tokenizer)"
      ],
      "execution_count": 0,
      "outputs": []
    },
    {
      "cell_type": "markdown",
      "metadata": {
        "id": "YMiORQ8iXYNK",
        "colab_type": "text"
      },
      "source": [
        "## The Model"
      ]
    },
    {
      "cell_type": "code",
      "metadata": {
        "id": "MFGKP90jTVn1",
        "colab_type": "code",
        "outputId": "f6c55221-1cdc-496a-8201-c9c005924df4",
        "colab": {
          "base_uri": "https://localhost:8080/",
          "height": 115,
          "referenced_widgets": [
            "a1cb66aecedd4f22a2d158fde7d2f8f1",
            "e11f3f5a93f14de9bbd2a00f8acdb3f8",
            "8d9d18230b364411aeb558419f288cdc",
            "b1ef1ebb026e4bf7831dd827e5759f0a",
            "002cb176dd95400db70a341cea49281a",
            "3edb51458fda459e92475729f6cf7f9f",
            "6e62b07a36b1410cb28b789d5aa6547c",
            "974a2058835a48489442434a2f243778",
            "112ef03974d046e29226eeffb0792c6f",
            "bb916f5eb8c140528618606351de8350",
            "e985e7a55b754a2791230e51930b762d",
            "11523a8d815945a3a00f1a67f566c9ad",
            "471873ba4eda41e697b4cd12a6e5c43f",
            "6a60da7f62024d90a3eebde60817d470",
            "53166777313847dea4ed964e929ab86e",
            "77003436c032439ca31daa788a510862"
          ]
        }
      },
      "source": [
        "model = TFGPT2LMHeadModel.from_pretrained('gpt2-medium')"
      ],
      "execution_count": 13,
      "outputs": [
        {
          "output_type": "display_data",
          "data": {
            "application/vnd.jupyter.widget-view+json": {
              "model_id": "a1cb66aecedd4f22a2d158fde7d2f8f1",
              "version_minor": 0,
              "version_major": 2
            },
            "text/plain": [
              "HBox(children=(FloatProgress(value=0.0, description='Downloading', max=718.0, style=ProgressStyle(description_…"
            ]
          },
          "metadata": {
            "tags": []
          }
        },
        {
          "output_type": "stream",
          "text": [
            "\n"
          ],
          "name": "stdout"
        },
        {
          "output_type": "display_data",
          "data": {
            "application/vnd.jupyter.widget-view+json": {
              "model_id": "112ef03974d046e29226eeffb0792c6f",
              "version_minor": 0,
              "version_major": 2
            },
            "text/plain": [
              "HBox(children=(FloatProgress(value=0.0, description='Downloading', max=1419628976.0, style=ProgressStyle(descr…"
            ]
          },
          "metadata": {
            "tags": []
          }
        },
        {
          "output_type": "stream",
          "text": [
            "\n"
          ],
          "name": "stdout"
        }
      ]
    },
    {
      "cell_type": "code",
      "metadata": {
        "id": "E4v3XN3QXfPT",
        "colab_type": "code",
        "outputId": "97590e0c-aac8-4cac-cfdd-54de5f540a0e",
        "colab": {
          "base_uri": "https://localhost:8080/",
          "height": 187
        }
      },
      "source": [
        "model.summary()"
      ],
      "execution_count": 14,
      "outputs": [
        {
          "output_type": "stream",
          "text": [
            "Model: \"tfgp_t2lm_head_model\"\n",
            "_________________________________________________________________\n",
            "Layer (type)                 Output Shape              Param #   \n",
            "=================================================================\n",
            "transformer (TFGPT2MainLayer multiple                  354823168 \n",
            "=================================================================\n",
            "Total params: 354,823,168\n",
            "Trainable params: 354,823,168\n",
            "Non-trainable params: 0\n",
            "_________________________________________________________________\n"
          ],
          "name": "stdout"
        }
      ]
    },
    {
      "cell_type": "markdown",
      "metadata": {
        "id": "Ha-i3KzwiAV2",
        "colab_type": "text"
      },
      "source": [
        "## Loss Function and Optimizer"
      ]
    },
    {
      "cell_type": "code",
      "metadata": {
        "id": "wBlnY-kOEQoq",
        "colab_type": "code",
        "colab": {}
      },
      "source": [
        "loss_function = tf.losses.SparseCategoricalCrossentropy(from_logits=True)"
      ],
      "execution_count": 0,
      "outputs": []
    },
    {
      "cell_type": "code",
      "metadata": {
        "id": "ekhYm_pBXheT",
        "colab_type": "code",
        "colab": {}
      },
      "source": [
        "optimizer = tf.keras.optimizers.Adam(learning_rate=1e-5, epsilon=1e-08, clipnorm=1.0)"
      ],
      "execution_count": 0,
      "outputs": []
    },
    {
      "cell_type": "markdown",
      "metadata": {
        "id": "6nU_9GzviDuL",
        "colab_type": "text"
      },
      "source": [
        "## Training and Checkpointing"
      ]
    },
    {
      "cell_type": "code",
      "metadata": {
        "id": "kXlXQJSJnBYH",
        "colab_type": "code",
        "outputId": "f5a8eb89-87a5-4f83-ddfa-507788a0da18",
        "colab": {
          "base_uri": "https://localhost:8080/",
          "height": 122
        }
      },
      "source": [
        "from google.colab import drive\n",
        "drive.mount('/content/gdrive')"
      ],
      "execution_count": 17,
      "outputs": [
        {
          "output_type": "stream",
          "text": [
            "Go to this URL in a browser: https://accounts.google.com/o/oauth2/auth?client_id=947318989803-6bn6qk8qdgf4n4g3pfee6491hc0brc4i.apps.googleusercontent.com&redirect_uri=urn%3aietf%3awg%3aoauth%3a2.0%3aoob&response_type=code&scope=email%20https%3a%2f%2fwww.googleapis.com%2fauth%2fdocs.test%20https%3a%2f%2fwww.googleapis.com%2fauth%2fdrive%20https%3a%2f%2fwww.googleapis.com%2fauth%2fdrive.photos.readonly%20https%3a%2f%2fwww.googleapis.com%2fauth%2fpeopleapi.readonly\n",
            "\n",
            "Enter your authorization code:\n",
            "··········\n",
            "Mounted at /content/gdrive\n"
          ],
          "name": "stdout"
        }
      ]
    },
    {
      "cell_type": "code",
      "metadata": {
        "id": "VrCpGfDdnN-b",
        "colab_type": "code",
        "colab": {}
      },
      "source": [
        "CHECKPOINT_PATH = \"/content/gdrive/My Drive/Weights/JokeGenGPT2\""
      ],
      "execution_count": 0,
      "outputs": []
    },
    {
      "cell_type": "code",
      "metadata": {
        "id": "JWoYstRaRSTa",
        "colab_type": "code",
        "colab": {}
      },
      "source": [
        "checkpoint_path = CHECKPOINT_PATH\n",
        "\n",
        "ckpt = tf.train.Checkpoint(model = model)\n",
        "\n",
        "ckpt_manager = tf.train.CheckpointManager(ckpt, checkpoint_path, max_to_keep=5)\n",
        "\n",
        "# if a checkpoint exists, restore the latest checkpoint.\n",
        "if ckpt_manager.latest_checkpoint:\n",
        "  ckpt.restore(ckpt_manager.latest_checkpoint)\n",
        "  print ('Latest checkpoint restored!!')"
      ],
      "execution_count": 0,
      "outputs": []
    },
    {
      "cell_type": "code",
      "metadata": {
        "id": "P0L1ZZT2RLrT",
        "colab_type": "code",
        "colab": {}
      },
      "source": [
        "@tf.function\n",
        "def train_step(data_dict):  \n",
        "  with tf.GradientTape() as tape:\n",
        "    outputs = model(data_dict)\n",
        "    lm_logits = outputs[0]\n",
        "    labels = data_dict['input_ids']\n",
        "\n",
        "    shift_logits = lm_logits[..., :-1, :]\n",
        "    shift_labels = labels[..., 1:]\n",
        "    \n",
        "    loss = loss_function(tf.reshape(shift_labels, (-1,)),\n",
        "         tf.reshape(shift_logits, \n",
        "                   (-1, shift_logits.shape[-1])))\n",
        "\n",
        "  gradients = tape.gradient(loss, model.trainable_variables)    \n",
        "  optimizer.apply_gradients(zip(gradients, model.trainable_variables))\n",
        "\n",
        "  return loss"
      ],
      "execution_count": 0,
      "outputs": []
    },
    {
      "cell_type": "code",
      "metadata": {
        "id": "TdfNtCJYzKzz",
        "colab_type": "code",
        "outputId": "f4bfd330-ea8c-4599-f044-ae8b1cd56331",
        "colab": {
          "base_uri": "https://localhost:8080/",
          "height": 1000,
          "referenced_widgets": [
            "3f6efd7144d040fdb4c665fb13dc04a9",
            "b45887c4cb874083a401d8d58ffdbc05",
            "76397a4c76094e60ba635cb17e4e8711",
            "a50472310e374f5bbf9328a31e84258d",
            "fa6e924869264042ac5a35ee79cde800",
            "498dba0a7bd34d30867c111078ce0d14",
            "a7adf119d48c4dda80b6f5111b7b06ef",
            "28aa838901814da9bb0b043981ce1284",
            "a48e10d69ca242a1b48338607e0b9773",
            "633900272a67404bbdef1bcd8ba2fc46",
            "8609eb74971f420dabeb392d80c3055d",
            "2510b0af66944b879440dc3af25253ab",
            "f58a58d0ccca48849ab386659a6fd075",
            "31e66c8f1b274dbd8f842cdbfdf53694",
            "61567616f3a1498bb42c1e0034eef62f",
            "42d7f4b5dbed4717b20ff659ead22ecd",
            "b6e8a3951d1f46d9a5e3a691aefc1af8",
            "3b83963b401a4b79a6e35b572cd1a033",
            "98c7dcb0e2e148a5bb472a08ac054bc8",
            "676d0bd63310496cb950c0be52d432e0",
            "7203a682dcaa4099a6cf42efc29afdf0",
            "35e8877d8a6049a6935933de8ec27bda",
            "9f4814c1f6564f26aab28d55bf916135",
            "127008fb1f614244ac499ee41d475531"
          ]
        }
      },
      "source": [
        "EPOCHS = 3\n",
        "\n",
        "for epoch in range(EPOCHS):\n",
        "  \n",
        "  for batch, data in tqdm(enumerate(jokes_dataset)):\n",
        "    loss = train_step(data)\n",
        "    if batch % 100 == 0:\n",
        "      print('Epoch : {0} Batch : {1} ---- Loss : {2}'.format(epoch+1, batch+1, loss))\n",
        "\n",
        "  \n",
        "\n",
        "  ckpt_save_path = ckpt_manager.save()\n",
        "  print ('Saving checkpoint for epoch {} at {}'.format(epoch+1,\n",
        "                                                        ckpt_save_path))"
      ],
      "execution_count": 21,
      "outputs": [
        {
          "output_type": "display_data",
          "data": {
            "application/vnd.jupyter.widget-view+json": {
              "model_id": "3f6efd7144d040fdb4c665fb13dc04a9",
              "version_minor": 0,
              "version_major": 2
            },
            "text/plain": [
              "HBox(children=(FloatProgress(value=1.0, bar_style='info', max=1.0), HTML(value='')))"
            ]
          },
          "metadata": {
            "tags": []
          }
        },
        {
          "output_type": "stream",
          "text": [
            "/usr/local/lib/python3.6/dist-packages/tensorflow/python/framework/indexed_slices.py:434: UserWarning: Converting sparse IndexedSlices to a dense Tensor of unknown shape. This may consume a large amount of memory.\n",
            "  \"Converting sparse IndexedSlices to a dense Tensor of unknown shape. \"\n"
          ],
          "name": "stderr"
        },
        {
          "output_type": "stream",
          "text": [
            "Epoch : 1 Batch : 1 ---- Loss : 10.06446647644043\n",
            "Epoch : 1 Batch : 101 ---- Loss : 1.3731834888458252\n",
            "Epoch : 1 Batch : 201 ---- Loss : 1.5216294527053833\n",
            "Epoch : 1 Batch : 301 ---- Loss : 1.1768791675567627\n",
            "Epoch : 1 Batch : 401 ---- Loss : 1.2565675973892212\n",
            "Epoch : 1 Batch : 501 ---- Loss : 1.232465147972107\n",
            "Epoch : 1 Batch : 601 ---- Loss : 1.3808581829071045\n",
            "Epoch : 1 Batch : 701 ---- Loss : 1.240048885345459\n",
            "Epoch : 1 Batch : 801 ---- Loss : 1.1473602056503296\n",
            "Epoch : 1 Batch : 901 ---- Loss : 1.2834093570709229\n",
            "Epoch : 1 Batch : 1001 ---- Loss : 1.3706344366073608\n",
            "Epoch : 1 Batch : 1101 ---- Loss : 1.3044953346252441\n",
            "Epoch : 1 Batch : 1201 ---- Loss : 1.0721495151519775\n",
            "Epoch : 1 Batch : 1301 ---- Loss : 1.2143783569335938\n",
            "Epoch : 1 Batch : 1401 ---- Loss : 1.1996228694915771\n",
            "Epoch : 1 Batch : 1501 ---- Loss : 1.3116751909255981\n",
            "Epoch : 1 Batch : 1601 ---- Loss : 1.285050868988037\n",
            "Epoch : 1 Batch : 1701 ---- Loss : 1.3583149909973145\n",
            "Epoch : 1 Batch : 1801 ---- Loss : 1.4715481996536255\n",
            "Epoch : 1 Batch : 1901 ---- Loss : 1.1943424940109253\n",
            "Epoch : 1 Batch : 2001 ---- Loss : 1.1463148593902588\n",
            "Epoch : 1 Batch : 2101 ---- Loss : 1.4500595331192017\n",
            "Epoch : 1 Batch : 2201 ---- Loss : 1.1647101640701294\n",
            "Epoch : 1 Batch : 2301 ---- Loss : 1.2811760902404785\n",
            "Epoch : 1 Batch : 2401 ---- Loss : 1.3745466470718384\n",
            "Epoch : 1 Batch : 2501 ---- Loss : 1.312195897102356\n",
            "Epoch : 1 Batch : 2601 ---- Loss : 1.20899498462677\n",
            "Epoch : 1 Batch : 2701 ---- Loss : 1.3089399337768555\n",
            "Epoch : 1 Batch : 2801 ---- Loss : 1.316038727760315\n",
            "Epoch : 1 Batch : 2901 ---- Loss : 1.3091278076171875\n",
            "Epoch : 1 Batch : 3001 ---- Loss : 1.2154176235198975\n",
            "Epoch : 1 Batch : 3101 ---- Loss : 1.273781180381775\n",
            "Epoch : 1 Batch : 3201 ---- Loss : 1.226773977279663\n",
            "Epoch : 1 Batch : 3301 ---- Loss : 1.017100214958191\n",
            "Epoch : 1 Batch : 3401 ---- Loss : 1.2980340719223022\n",
            "Epoch : 1 Batch : 3501 ---- Loss : 1.2672417163848877\n",
            "Epoch : 1 Batch : 3601 ---- Loss : 1.1162996292114258\n",
            "Epoch : 1 Batch : 3701 ---- Loss : 1.08162522315979\n",
            "Epoch : 1 Batch : 3801 ---- Loss : 1.1929144859313965\n",
            "Epoch : 1 Batch : 3901 ---- Loss : 1.3244848251342773\n",
            "Epoch : 1 Batch : 4001 ---- Loss : 1.3695604801177979\n",
            "Epoch : 1 Batch : 4101 ---- Loss : 1.1397733688354492\n",
            "Epoch : 1 Batch : 4201 ---- Loss : 1.3185328245162964\n",
            "Epoch : 1 Batch : 4301 ---- Loss : 1.4798569679260254\n",
            "Epoch : 1 Batch : 4401 ---- Loss : 0.9565256834030151\n",
            "Epoch : 1 Batch : 4501 ---- Loss : 1.1378647089004517\n",
            "Epoch : 1 Batch : 4601 ---- Loss : 1.1449599266052246\n",
            "Epoch : 1 Batch : 4701 ---- Loss : 1.4607152938842773\n",
            "Epoch : 1 Batch : 4801 ---- Loss : 1.1569596529006958\n",
            "Epoch : 1 Batch : 4901 ---- Loss : 1.0868831872940063\n",
            "Epoch : 1 Batch : 5001 ---- Loss : 1.20232093334198\n",
            "Epoch : 1 Batch : 5101 ---- Loss : 1.2964800596237183\n",
            "Epoch : 1 Batch : 5201 ---- Loss : 1.0971944332122803\n",
            "Epoch : 1 Batch : 5301 ---- Loss : 1.3201550245285034\n",
            "Epoch : 1 Batch : 5401 ---- Loss : 1.4717921018600464\n",
            "Epoch : 1 Batch : 5501 ---- Loss : 1.3275843858718872\n",
            "Epoch : 1 Batch : 5601 ---- Loss : 1.321703553199768\n",
            "Epoch : 1 Batch : 5701 ---- Loss : 1.0521138906478882\n",
            "Epoch : 1 Batch : 5801 ---- Loss : 1.4741177558898926\n",
            "Epoch : 1 Batch : 5901 ---- Loss : 1.2028417587280273\n",
            "Epoch : 1 Batch : 6001 ---- Loss : 1.2080552577972412\n",
            "Epoch : 1 Batch : 6101 ---- Loss : 1.2191839218139648\n",
            "Epoch : 1 Batch : 6201 ---- Loss : 1.381397008895874\n",
            "Epoch : 1 Batch : 6301 ---- Loss : 1.2770742177963257\n",
            "Epoch : 1 Batch : 6401 ---- Loss : 1.3063905239105225\n",
            "Epoch : 1 Batch : 6501 ---- Loss : 1.0499694347381592\n",
            "Epoch : 1 Batch : 6601 ---- Loss : 1.4825937747955322\n",
            "Epoch : 1 Batch : 6701 ---- Loss : 1.1503593921661377\n",
            "Epoch : 1 Batch : 6801 ---- Loss : 1.5437242984771729\n",
            "Epoch : 1 Batch : 6901 ---- Loss : 1.3457891941070557\n",
            "Epoch : 1 Batch : 7001 ---- Loss : 1.1857619285583496\n",
            "Epoch : 1 Batch : 7101 ---- Loss : 1.0106492042541504\n",
            "Epoch : 1 Batch : 7201 ---- Loss : 1.1959367990493774\n",
            "Epoch : 1 Batch : 7301 ---- Loss : 1.2291988134384155\n",
            "Epoch : 1 Batch : 7401 ---- Loss : 1.3300108909606934\n",
            "Epoch : 1 Batch : 7501 ---- Loss : 1.2212042808532715\n",
            "Epoch : 1 Batch : 7601 ---- Loss : 1.4161243438720703\n",
            "Epoch : 1 Batch : 7701 ---- Loss : 1.1584422588348389\n",
            "Epoch : 1 Batch : 7801 ---- Loss : 1.2857505083084106\n",
            "Epoch : 1 Batch : 7901 ---- Loss : 1.0230029821395874\n",
            "Epoch : 1 Batch : 8001 ---- Loss : 1.0534675121307373\n",
            "Epoch : 1 Batch : 8101 ---- Loss : 1.2557408809661865\n",
            "Epoch : 1 Batch : 8201 ---- Loss : 1.3937978744506836\n",
            "Epoch : 1 Batch : 8301 ---- Loss : 1.3468226194381714\n",
            "Epoch : 1 Batch : 8401 ---- Loss : 1.145452857017517\n",
            "Epoch : 1 Batch : 8501 ---- Loss : 1.2077687978744507\n",
            "Epoch : 1 Batch : 8601 ---- Loss : 0.9872300028800964\n",
            "Epoch : 1 Batch : 8701 ---- Loss : 1.060196876525879\n",
            "Epoch : 1 Batch : 8801 ---- Loss : 1.2987380027770996\n",
            "Epoch : 1 Batch : 8901 ---- Loss : 1.3096239566802979\n",
            "Epoch : 1 Batch : 9001 ---- Loss : 1.374362587928772\n",
            "Epoch : 1 Batch : 9101 ---- Loss : 1.3273627758026123\n",
            "Epoch : 1 Batch : 9201 ---- Loss : 1.1912500858306885\n",
            "Epoch : 1 Batch : 9301 ---- Loss : 1.1067301034927368\n",
            "Epoch : 1 Batch : 9401 ---- Loss : 1.251958966255188\n",
            "Epoch : 1 Batch : 9501 ---- Loss : 1.458711862564087\n",
            "Epoch : 1 Batch : 9601 ---- Loss : 1.200731873512268\n",
            "Epoch : 1 Batch : 9701 ---- Loss : 1.2613122463226318\n",
            "Epoch : 1 Batch : 9801 ---- Loss : 1.3410183191299438\n",
            "Epoch : 1 Batch : 9901 ---- Loss : 1.2162933349609375\n",
            "Epoch : 1 Batch : 10001 ---- Loss : 1.2229700088500977\n",
            "Epoch : 1 Batch : 10101 ---- Loss : 1.3717069625854492\n",
            "Epoch : 1 Batch : 10201 ---- Loss : 1.2301939725875854\n",
            "Epoch : 1 Batch : 10301 ---- Loss : 1.262569546699524\n",
            "Epoch : 1 Batch : 10401 ---- Loss : 1.5370575189590454\n",
            "Epoch : 1 Batch : 10501 ---- Loss : 1.1112885475158691\n",
            "Epoch : 1 Batch : 10601 ---- Loss : 1.3144704103469849\n",
            "Epoch : 1 Batch : 10701 ---- Loss : 1.1594417095184326\n",
            "Epoch : 1 Batch : 10801 ---- Loss : 1.1378799676895142\n",
            "Epoch : 1 Batch : 10901 ---- Loss : 1.12177312374115\n",
            "Epoch : 1 Batch : 11001 ---- Loss : 1.1578528881072998\n",
            "Epoch : 1 Batch : 11101 ---- Loss : 1.102626085281372\n",
            "Epoch : 1 Batch : 11201 ---- Loss : 1.204300880432129\n",
            "Epoch : 1 Batch : 11301 ---- Loss : 1.118919849395752\n",
            "Epoch : 1 Batch : 11401 ---- Loss : 0.9511382579803467\n",
            "Epoch : 1 Batch : 11501 ---- Loss : 1.121763825416565\n",
            "Epoch : 1 Batch : 11601 ---- Loss : 0.8786935210227966\n",
            "Epoch : 1 Batch : 11701 ---- Loss : 1.2221837043762207\n",
            "Epoch : 1 Batch : 11801 ---- Loss : 1.2673598527908325\n",
            "Epoch : 1 Batch : 11901 ---- Loss : 1.2008239030838013\n",
            "Epoch : 1 Batch : 12001 ---- Loss : 1.1043258905410767\n",
            "Epoch : 1 Batch : 12101 ---- Loss : 1.1191805601119995\n",
            "Epoch : 1 Batch : 12201 ---- Loss : 1.2292693853378296\n",
            "Epoch : 1 Batch : 12301 ---- Loss : 1.1466656923294067\n",
            "Epoch : 1 Batch : 12401 ---- Loss : 1.4756325483322144\n",
            "Epoch : 1 Batch : 12501 ---- Loss : 1.1717756986618042\n",
            "Epoch : 1 Batch : 12601 ---- Loss : 1.2949968576431274\n",
            "Epoch : 1 Batch : 12701 ---- Loss : 1.2393667697906494\n",
            "Epoch : 1 Batch : 12801 ---- Loss : 1.1751255989074707\n",
            "Epoch : 1 Batch : 12901 ---- Loss : 1.0453450679779053\n",
            "Epoch : 1 Batch : 13001 ---- Loss : 1.265745997428894\n",
            "Epoch : 1 Batch : 13101 ---- Loss : 1.5712854862213135\n",
            "Epoch : 1 Batch : 13201 ---- Loss : 1.223661184310913\n",
            "Epoch : 1 Batch : 13301 ---- Loss : 1.146199345588684\n",
            "Epoch : 1 Batch : 13401 ---- Loss : 1.0129185914993286\n",
            "Epoch : 1 Batch : 13501 ---- Loss : 1.3565404415130615\n",
            "Epoch : 1 Batch : 13601 ---- Loss : 0.965242862701416\n",
            "Epoch : 1 Batch : 13701 ---- Loss : 1.2377196550369263\n",
            "Epoch : 1 Batch : 13801 ---- Loss : 1.084938645362854\n",
            "Epoch : 1 Batch : 13901 ---- Loss : 1.0824894905090332\n",
            "Epoch : 1 Batch : 14001 ---- Loss : 1.1565594673156738\n",
            "Epoch : 1 Batch : 14101 ---- Loss : 0.848565399646759\n",
            "Epoch : 1 Batch : 14201 ---- Loss : 0.979412317276001\n",
            "Epoch : 1 Batch : 14301 ---- Loss : 1.176934003829956\n",
            "Epoch : 1 Batch : 14401 ---- Loss : 1.0711697340011597\n",
            "\n",
            "Saving checkpoint for epoch 1 at /content/gdrive/My Drive/Weights/JokeGenGPT2/ckpt-1\n"
          ],
          "name": "stdout"
        },
        {
          "output_type": "display_data",
          "data": {
            "application/vnd.jupyter.widget-view+json": {
              "model_id": "a48e10d69ca242a1b48338607e0b9773",
              "version_minor": 0,
              "version_major": 2
            },
            "text/plain": [
              "HBox(children=(FloatProgress(value=1.0, bar_style='info', max=1.0), HTML(value='')))"
            ]
          },
          "metadata": {
            "tags": []
          }
        },
        {
          "output_type": "stream",
          "text": [
            "Epoch : 2 Batch : 1 ---- Loss : 1.1087332963943481\n",
            "Epoch : 2 Batch : 101 ---- Loss : 1.10383939743042\n",
            "Epoch : 2 Batch : 201 ---- Loss : 1.20725417137146\n",
            "Epoch : 2 Batch : 301 ---- Loss : 1.2143092155456543\n",
            "Epoch : 2 Batch : 401 ---- Loss : 0.9976906180381775\n",
            "Epoch : 2 Batch : 501 ---- Loss : 0.9533005356788635\n",
            "Epoch : 2 Batch : 601 ---- Loss : 1.15667724609375\n",
            "Epoch : 2 Batch : 701 ---- Loss : 0.9574194550514221\n",
            "Epoch : 2 Batch : 801 ---- Loss : 1.2616252899169922\n",
            "Epoch : 2 Batch : 901 ---- Loss : 1.1970351934432983\n",
            "Epoch : 2 Batch : 1001 ---- Loss : 1.042126178741455\n",
            "Epoch : 2 Batch : 1101 ---- Loss : 1.0042039155960083\n",
            "Epoch : 2 Batch : 1201 ---- Loss : 1.0429633855819702\n",
            "Epoch : 2 Batch : 1301 ---- Loss : 1.1570923328399658\n",
            "Epoch : 2 Batch : 1401 ---- Loss : 0.9533225297927856\n",
            "Epoch : 2 Batch : 1501 ---- Loss : 1.2842003107070923\n",
            "Epoch : 2 Batch : 1601 ---- Loss : 1.2865604162216187\n",
            "Epoch : 2 Batch : 1701 ---- Loss : 1.321840763092041\n",
            "Epoch : 2 Batch : 1801 ---- Loss : 1.1500135660171509\n",
            "Epoch : 2 Batch : 1901 ---- Loss : 0.9621754288673401\n",
            "Epoch : 2 Batch : 2001 ---- Loss : 1.0939875841140747\n",
            "Epoch : 2 Batch : 2101 ---- Loss : 1.3808536529541016\n",
            "Epoch : 2 Batch : 2201 ---- Loss : 1.2610570192337036\n",
            "Epoch : 2 Batch : 2301 ---- Loss : 1.2349690198898315\n",
            "Epoch : 2 Batch : 2401 ---- Loss : 1.2642176151275635\n",
            "Epoch : 2 Batch : 2501 ---- Loss : 1.137110948562622\n",
            "Epoch : 2 Batch : 2601 ---- Loss : 1.1100826263427734\n",
            "Epoch : 2 Batch : 2701 ---- Loss : 1.2338290214538574\n",
            "Epoch : 2 Batch : 2801 ---- Loss : 1.249379277229309\n",
            "Epoch : 2 Batch : 2901 ---- Loss : 1.2371231317520142\n",
            "Epoch : 2 Batch : 3001 ---- Loss : 1.2568312883377075\n",
            "Epoch : 2 Batch : 3101 ---- Loss : 1.1621932983398438\n",
            "Epoch : 2 Batch : 3201 ---- Loss : 1.1481094360351562\n",
            "Epoch : 2 Batch : 3301 ---- Loss : 1.229725956916809\n",
            "Epoch : 2 Batch : 3401 ---- Loss : 0.9910881519317627\n",
            "Epoch : 2 Batch : 3501 ---- Loss : 1.0341639518737793\n",
            "Epoch : 2 Batch : 3601 ---- Loss : 1.060529112815857\n",
            "Epoch : 2 Batch : 3701 ---- Loss : 1.0910229682922363\n",
            "Epoch : 2 Batch : 3801 ---- Loss : 0.9521536827087402\n",
            "Epoch : 2 Batch : 3901 ---- Loss : 1.031233310699463\n",
            "Epoch : 2 Batch : 4001 ---- Loss : 1.1245365142822266\n",
            "Epoch : 2 Batch : 4101 ---- Loss : 1.2669901847839355\n",
            "Epoch : 2 Batch : 4201 ---- Loss : 1.123116135597229\n",
            "Epoch : 2 Batch : 4301 ---- Loss : 1.1314406394958496\n",
            "Epoch : 2 Batch : 4401 ---- Loss : 1.0198512077331543\n",
            "Epoch : 2 Batch : 4501 ---- Loss : 1.2264857292175293\n",
            "Epoch : 2 Batch : 4601 ---- Loss : 0.9658090472221375\n",
            "Epoch : 2 Batch : 4701 ---- Loss : 1.087221384048462\n",
            "Epoch : 2 Batch : 4801 ---- Loss : 0.8411068916320801\n",
            "Epoch : 2 Batch : 4901 ---- Loss : 1.1362102031707764\n",
            "Epoch : 2 Batch : 5001 ---- Loss : 0.9902528524398804\n",
            "Epoch : 2 Batch : 5101 ---- Loss : 1.2432516813278198\n",
            "Epoch : 2 Batch : 5201 ---- Loss : 0.8523983359336853\n",
            "Epoch : 2 Batch : 5301 ---- Loss : 0.9991916418075562\n",
            "Epoch : 2 Batch : 5401 ---- Loss : 1.1715607643127441\n",
            "Epoch : 2 Batch : 5501 ---- Loss : 1.1369569301605225\n",
            "Epoch : 2 Batch : 5601 ---- Loss : 0.9758856892585754\n",
            "Epoch : 2 Batch : 5701 ---- Loss : 1.148722529411316\n",
            "Epoch : 2 Batch : 5801 ---- Loss : 1.023919939994812\n",
            "Epoch : 2 Batch : 5901 ---- Loss : 0.9210293889045715\n",
            "Epoch : 2 Batch : 6001 ---- Loss : 1.2065279483795166\n",
            "Epoch : 2 Batch : 6101 ---- Loss : 1.248902440071106\n",
            "Epoch : 2 Batch : 6201 ---- Loss : 1.0180408954620361\n",
            "Epoch : 2 Batch : 6301 ---- Loss : 1.0184943675994873\n",
            "Epoch : 2 Batch : 6401 ---- Loss : 1.1425384283065796\n",
            "Epoch : 2 Batch : 6501 ---- Loss : 1.419411540031433\n",
            "Epoch : 2 Batch : 6601 ---- Loss : 1.1680289506912231\n",
            "Epoch : 2 Batch : 6701 ---- Loss : 1.255064845085144\n",
            "Epoch : 2 Batch : 6801 ---- Loss : 1.4772230386734009\n",
            "Epoch : 2 Batch : 6901 ---- Loss : 1.228686809539795\n",
            "Epoch : 2 Batch : 7001 ---- Loss : 1.3043534755706787\n",
            "Epoch : 2 Batch : 7101 ---- Loss : 1.2247157096862793\n",
            "Epoch : 2 Batch : 7201 ---- Loss : 0.9820922613143921\n",
            "Epoch : 2 Batch : 7301 ---- Loss : 0.9523130655288696\n",
            "Epoch : 2 Batch : 7401 ---- Loss : 1.3055771589279175\n",
            "Epoch : 2 Batch : 7501 ---- Loss : 1.033133864402771\n",
            "Epoch : 2 Batch : 7601 ---- Loss : 1.1750571727752686\n",
            "Epoch : 2 Batch : 7701 ---- Loss : 1.1935553550720215\n",
            "Epoch : 2 Batch : 7801 ---- Loss : 0.9865658283233643\n",
            "Epoch : 2 Batch : 7901 ---- Loss : 0.8920289278030396\n",
            "Epoch : 2 Batch : 8001 ---- Loss : 1.1447772979736328\n",
            "Epoch : 2 Batch : 8101 ---- Loss : 1.1383031606674194\n",
            "Epoch : 2 Batch : 8201 ---- Loss : 1.1220030784606934\n",
            "Epoch : 2 Batch : 8301 ---- Loss : 0.8655055165290833\n",
            "Epoch : 2 Batch : 8401 ---- Loss : 1.0691388845443726\n",
            "Epoch : 2 Batch : 8501 ---- Loss : 1.2271682024002075\n",
            "Epoch : 2 Batch : 8601 ---- Loss : 1.3911641836166382\n",
            "Epoch : 2 Batch : 8701 ---- Loss : 1.1935698986053467\n",
            "Epoch : 2 Batch : 8801 ---- Loss : 1.1197221279144287\n",
            "Epoch : 2 Batch : 8901 ---- Loss : 1.1445834636688232\n",
            "Epoch : 2 Batch : 9001 ---- Loss : 1.3481718301773071\n",
            "Epoch : 2 Batch : 9101 ---- Loss : 1.0945683717727661\n",
            "Epoch : 2 Batch : 9201 ---- Loss : 1.3147202730178833\n",
            "Epoch : 2 Batch : 9301 ---- Loss : 1.2301381826400757\n",
            "Epoch : 2 Batch : 9401 ---- Loss : 1.061614751815796\n",
            "Epoch : 2 Batch : 9501 ---- Loss : 1.1528692245483398\n",
            "Epoch : 2 Batch : 9601 ---- Loss : 1.1529613733291626\n",
            "Epoch : 2 Batch : 9701 ---- Loss : 0.9364945292472839\n",
            "Epoch : 2 Batch : 9801 ---- Loss : 1.0547339916229248\n",
            "Epoch : 2 Batch : 9901 ---- Loss : 1.2240718603134155\n",
            "Epoch : 2 Batch : 10001 ---- Loss : 1.1584233045578003\n",
            "Epoch : 2 Batch : 10101 ---- Loss : 1.2502282857894897\n",
            "Epoch : 2 Batch : 10201 ---- Loss : 1.1041620969772339\n",
            "Epoch : 2 Batch : 10301 ---- Loss : 1.1841448545455933\n",
            "Epoch : 2 Batch : 10401 ---- Loss : 1.2491867542266846\n",
            "Epoch : 2 Batch : 10501 ---- Loss : 1.290552020072937\n",
            "Epoch : 2 Batch : 10601 ---- Loss : 1.013474941253662\n",
            "Epoch : 2 Batch : 10701 ---- Loss : 1.0757845640182495\n",
            "Epoch : 2 Batch : 10801 ---- Loss : 1.0811023712158203\n",
            "Epoch : 2 Batch : 10901 ---- Loss : 1.2925549745559692\n",
            "Epoch : 2 Batch : 11001 ---- Loss : 1.2875310182571411\n",
            "Epoch : 2 Batch : 11101 ---- Loss : 1.2335985898971558\n",
            "Epoch : 2 Batch : 11201 ---- Loss : 0.8721047639846802\n",
            "Epoch : 2 Batch : 11301 ---- Loss : 1.3935019969940186\n",
            "Epoch : 2 Batch : 11401 ---- Loss : 1.2212125062942505\n",
            "Epoch : 2 Batch : 11501 ---- Loss : 1.3434269428253174\n",
            "Epoch : 2 Batch : 11601 ---- Loss : 1.01621413230896\n",
            "Epoch : 2 Batch : 11701 ---- Loss : 1.3734791278839111\n",
            "Epoch : 2 Batch : 11801 ---- Loss : 1.1028320789337158\n",
            "Epoch : 2 Batch : 11901 ---- Loss : 1.1557129621505737\n",
            "Epoch : 2 Batch : 12001 ---- Loss : 1.3360546827316284\n",
            "Epoch : 2 Batch : 12101 ---- Loss : 1.030465841293335\n",
            "Epoch : 2 Batch : 12201 ---- Loss : 1.197451114654541\n",
            "Epoch : 2 Batch : 12301 ---- Loss : 1.0815716981887817\n",
            "Epoch : 2 Batch : 12401 ---- Loss : 1.2789602279663086\n",
            "Epoch : 2 Batch : 12501 ---- Loss : 1.3278675079345703\n",
            "Epoch : 2 Batch : 12601 ---- Loss : 1.1542985439300537\n",
            "Epoch : 2 Batch : 12701 ---- Loss : 1.2229688167572021\n",
            "Epoch : 2 Batch : 12801 ---- Loss : 1.0612990856170654\n",
            "Epoch : 2 Batch : 12901 ---- Loss : 1.2690330743789673\n",
            "Epoch : 2 Batch : 13001 ---- Loss : 1.038731575012207\n",
            "Epoch : 2 Batch : 13101 ---- Loss : 0.993330180644989\n",
            "Epoch : 2 Batch : 13201 ---- Loss : 1.107149362564087\n",
            "Epoch : 2 Batch : 13301 ---- Loss : 1.1965903043746948\n",
            "Epoch : 2 Batch : 13401 ---- Loss : 0.9421648979187012\n",
            "Epoch : 2 Batch : 13501 ---- Loss : 1.0879369974136353\n",
            "Epoch : 2 Batch : 13601 ---- Loss : 1.1379367113113403\n",
            "Epoch : 2 Batch : 13701 ---- Loss : 1.1057419776916504\n",
            "Epoch : 2 Batch : 13801 ---- Loss : 1.1489406824111938\n",
            "Epoch : 2 Batch : 13901 ---- Loss : 0.9318749904632568\n",
            "Epoch : 2 Batch : 14001 ---- Loss : 1.147811770439148\n",
            "Epoch : 2 Batch : 14101 ---- Loss : 1.2553458213806152\n",
            "Epoch : 2 Batch : 14201 ---- Loss : 1.2500633001327515\n",
            "Epoch : 2 Batch : 14301 ---- Loss : 0.9605921506881714\n",
            "Epoch : 2 Batch : 14401 ---- Loss : 1.22678804397583\n",
            "\n",
            "Saving checkpoint for epoch 2 at /content/gdrive/My Drive/Weights/JokeGenGPT2/ckpt-2\n"
          ],
          "name": "stdout"
        },
        {
          "output_type": "display_data",
          "data": {
            "application/vnd.jupyter.widget-view+json": {
              "model_id": "b6e8a3951d1f46d9a5e3a691aefc1af8",
              "version_minor": 0,
              "version_major": 2
            },
            "text/plain": [
              "HBox(children=(FloatProgress(value=1.0, bar_style='info', max=1.0), HTML(value='')))"
            ]
          },
          "metadata": {
            "tags": []
          }
        },
        {
          "output_type": "stream",
          "text": [
            "Epoch : 3 Batch : 1 ---- Loss : 1.0839698314666748\n",
            "Epoch : 3 Batch : 101 ---- Loss : 0.8334741592407227\n",
            "Epoch : 3 Batch : 201 ---- Loss : 1.077292799949646\n",
            "Epoch : 3 Batch : 301 ---- Loss : 1.3091721534729004\n",
            "Epoch : 3 Batch : 401 ---- Loss : 1.1783109903335571\n",
            "Epoch : 3 Batch : 501 ---- Loss : 1.0431628227233887\n",
            "Epoch : 3 Batch : 601 ---- Loss : 1.0868970155715942\n",
            "Epoch : 3 Batch : 701 ---- Loss : 1.0794204473495483\n",
            "Epoch : 3 Batch : 801 ---- Loss : 0.9824198484420776\n",
            "Epoch : 3 Batch : 901 ---- Loss : 1.0760180950164795\n",
            "Epoch : 3 Batch : 1001 ---- Loss : 1.0809065103530884\n",
            "Epoch : 3 Batch : 1101 ---- Loss : 0.9881730675697327\n",
            "Epoch : 3 Batch : 1201 ---- Loss : 0.9192593693733215\n",
            "Epoch : 3 Batch : 1301 ---- Loss : 0.9902061223983765\n",
            "Epoch : 3 Batch : 1401 ---- Loss : 0.9855520129203796\n",
            "Epoch : 3 Batch : 1501 ---- Loss : 1.1338046789169312\n",
            "Epoch : 3 Batch : 1601 ---- Loss : 0.8668370246887207\n",
            "Epoch : 3 Batch : 1701 ---- Loss : 1.0577040910720825\n",
            "Epoch : 3 Batch : 1801 ---- Loss : 1.0791678428649902\n",
            "Epoch : 3 Batch : 1901 ---- Loss : 0.9765143990516663\n",
            "Epoch : 3 Batch : 2001 ---- Loss : 0.9987514019012451\n",
            "Epoch : 3 Batch : 2101 ---- Loss : 0.8262730836868286\n",
            "Epoch : 3 Batch : 2201 ---- Loss : 1.087357997894287\n",
            "Epoch : 3 Batch : 2301 ---- Loss : 0.9946398138999939\n",
            "Epoch : 3 Batch : 2401 ---- Loss : 1.0953688621520996\n",
            "Epoch : 3 Batch : 2501 ---- Loss : 0.7822129130363464\n",
            "Epoch : 3 Batch : 2601 ---- Loss : 1.052690029144287\n",
            "Epoch : 3 Batch : 2701 ---- Loss : 0.9295775294303894\n",
            "Epoch : 3 Batch : 2801 ---- Loss : 0.9735491275787354\n",
            "Epoch : 3 Batch : 2901 ---- Loss : 1.1273523569107056\n",
            "Epoch : 3 Batch : 3001 ---- Loss : 1.0513293743133545\n",
            "Epoch : 3 Batch : 3101 ---- Loss : 1.0224528312683105\n",
            "Epoch : 3 Batch : 3201 ---- Loss : 1.0320391654968262\n",
            "Epoch : 3 Batch : 3301 ---- Loss : 1.3574641942977905\n",
            "Epoch : 3 Batch : 3401 ---- Loss : 0.7952572107315063\n",
            "Epoch : 3 Batch : 3501 ---- Loss : 0.8802093267440796\n",
            "Epoch : 3 Batch : 3601 ---- Loss : 0.981200098991394\n",
            "Epoch : 3 Batch : 3701 ---- Loss : 1.012101173400879\n",
            "Epoch : 3 Batch : 3801 ---- Loss : 1.1009962558746338\n",
            "Epoch : 3 Batch : 3901 ---- Loss : 1.0759024620056152\n",
            "Epoch : 3 Batch : 4001 ---- Loss : 1.1213468313217163\n",
            "Epoch : 3 Batch : 4101 ---- Loss : 0.9867361783981323\n",
            "Epoch : 3 Batch : 4201 ---- Loss : 1.1875797510147095\n",
            "Epoch : 3 Batch : 4301 ---- Loss : 1.0006399154663086\n",
            "Epoch : 3 Batch : 4401 ---- Loss : 1.0134607553482056\n",
            "Epoch : 3 Batch : 4501 ---- Loss : 0.9484531879425049\n",
            "Epoch : 3 Batch : 4601 ---- Loss : 0.8484168648719788\n",
            "Epoch : 3 Batch : 4701 ---- Loss : 0.9688841104507446\n",
            "Epoch : 3 Batch : 4801 ---- Loss : 1.0076688528060913\n",
            "Epoch : 3 Batch : 4901 ---- Loss : 1.1037006378173828\n",
            "Epoch : 3 Batch : 5001 ---- Loss : 0.9898964762687683\n",
            "Epoch : 3 Batch : 5101 ---- Loss : 0.9332290887832642\n",
            "Epoch : 3 Batch : 5201 ---- Loss : 0.9273562431335449\n",
            "Epoch : 3 Batch : 5301 ---- Loss : 0.8351964950561523\n",
            "Epoch : 3 Batch : 5401 ---- Loss : 0.9761771559715271\n",
            "Epoch : 3 Batch : 5501 ---- Loss : 0.9042140245437622\n",
            "Epoch : 3 Batch : 5601 ---- Loss : 1.029085397720337\n",
            "Epoch : 3 Batch : 5701 ---- Loss : 0.9904014468193054\n",
            "Epoch : 3 Batch : 5801 ---- Loss : 1.1964632272720337\n",
            "Epoch : 3 Batch : 5901 ---- Loss : 0.8959606289863586\n",
            "Epoch : 3 Batch : 6001 ---- Loss : 1.0381171703338623\n",
            "Epoch : 3 Batch : 6101 ---- Loss : 1.093682050704956\n",
            "Epoch : 3 Batch : 6201 ---- Loss : 0.9834132194519043\n",
            "Epoch : 3 Batch : 6301 ---- Loss : 1.0325089693069458\n",
            "Epoch : 3 Batch : 6401 ---- Loss : 1.0337072610855103\n",
            "Epoch : 3 Batch : 6501 ---- Loss : 1.1300362348556519\n",
            "Epoch : 3 Batch : 6601 ---- Loss : 0.9959226250648499\n",
            "Epoch : 3 Batch : 6701 ---- Loss : 0.9198856949806213\n",
            "Epoch : 3 Batch : 6801 ---- Loss : 0.9692118763923645\n",
            "Epoch : 3 Batch : 6901 ---- Loss : 0.980911135673523\n",
            "Epoch : 3 Batch : 7001 ---- Loss : 1.1133791208267212\n",
            "Epoch : 3 Batch : 7101 ---- Loss : 0.9022940397262573\n",
            "Epoch : 3 Batch : 7201 ---- Loss : 1.0843656063079834\n",
            "Epoch : 3 Batch : 7301 ---- Loss : 0.9945030808448792\n",
            "Epoch : 3 Batch : 7401 ---- Loss : 0.9362090229988098\n",
            "Epoch : 3 Batch : 7501 ---- Loss : 1.0633963346481323\n",
            "Epoch : 3 Batch : 7601 ---- Loss : 1.1815389394760132\n",
            "Epoch : 3 Batch : 7701 ---- Loss : 1.0486743450164795\n",
            "Epoch : 3 Batch : 7801 ---- Loss : 1.2135610580444336\n",
            "Epoch : 3 Batch : 7901 ---- Loss : 0.993116021156311\n",
            "Epoch : 3 Batch : 8001 ---- Loss : 1.0213979482650757\n",
            "Epoch : 3 Batch : 8101 ---- Loss : 0.8563618063926697\n",
            "Epoch : 3 Batch : 8201 ---- Loss : 0.9322344064712524\n",
            "Epoch : 3 Batch : 8301 ---- Loss : 1.0037963390350342\n",
            "Epoch : 3 Batch : 8401 ---- Loss : 1.0215121507644653\n",
            "Epoch : 3 Batch : 8501 ---- Loss : 1.0357805490493774\n",
            "Epoch : 3 Batch : 8601 ---- Loss : 0.8931251764297485\n",
            "Epoch : 3 Batch : 8701 ---- Loss : 0.8016112446784973\n",
            "Epoch : 3 Batch : 8801 ---- Loss : 1.0382581949234009\n",
            "Epoch : 3 Batch : 8901 ---- Loss : 1.2406727075576782\n",
            "Epoch : 3 Batch : 9001 ---- Loss : 1.0827854871749878\n",
            "Epoch : 3 Batch : 9101 ---- Loss : 1.0976957082748413\n",
            "Epoch : 3 Batch : 9201 ---- Loss : 1.1369400024414062\n",
            "Epoch : 3 Batch : 9301 ---- Loss : 1.0361888408660889\n",
            "Epoch : 3 Batch : 9401 ---- Loss : 0.9472046494483948\n",
            "Epoch : 3 Batch : 9501 ---- Loss : 0.9796865582466125\n",
            "Epoch : 3 Batch : 9601 ---- Loss : 1.061482548713684\n",
            "Epoch : 3 Batch : 9701 ---- Loss : 1.0374374389648438\n",
            "Epoch : 3 Batch : 9801 ---- Loss : 0.9666374921798706\n",
            "Epoch : 3 Batch : 9901 ---- Loss : 1.1693434715270996\n",
            "Epoch : 3 Batch : 10001 ---- Loss : 1.1078274250030518\n",
            "Epoch : 3 Batch : 10101 ---- Loss : 1.047000765800476\n",
            "Epoch : 3 Batch : 10201 ---- Loss : 1.0513964891433716\n",
            "Epoch : 3 Batch : 10301 ---- Loss : 1.0157884359359741\n",
            "Epoch : 3 Batch : 10401 ---- Loss : 0.9277917742729187\n",
            "Epoch : 3 Batch : 10501 ---- Loss : 1.120416283607483\n",
            "Epoch : 3 Batch : 10601 ---- Loss : 1.0647475719451904\n",
            "Epoch : 3 Batch : 10701 ---- Loss : 0.9323219060897827\n",
            "Epoch : 3 Batch : 10801 ---- Loss : 1.2113829851150513\n",
            "Epoch : 3 Batch : 10901 ---- Loss : 1.2259329557418823\n",
            "Epoch : 3 Batch : 11001 ---- Loss : 1.0956608057022095\n",
            "Epoch : 3 Batch : 11101 ---- Loss : 1.052484154701233\n",
            "Epoch : 3 Batch : 11201 ---- Loss : 1.1468589305877686\n",
            "Epoch : 3 Batch : 11301 ---- Loss : 0.9119594693183899\n",
            "Epoch : 3 Batch : 11401 ---- Loss : 1.2126705646514893\n",
            "Epoch : 3 Batch : 11501 ---- Loss : 1.228129267692566\n",
            "Epoch : 3 Batch : 11601 ---- Loss : 1.0969971418380737\n",
            "Epoch : 3 Batch : 11701 ---- Loss : 1.029122233390808\n",
            "Epoch : 3 Batch : 11801 ---- Loss : 1.207287311553955\n",
            "Epoch : 3 Batch : 11901 ---- Loss : 1.226791501045227\n",
            "Epoch : 3 Batch : 12001 ---- Loss : 1.2324457168579102\n",
            "Epoch : 3 Batch : 12101 ---- Loss : 1.1498003005981445\n",
            "Epoch : 3 Batch : 12201 ---- Loss : 0.9020836353302002\n",
            "Epoch : 3 Batch : 12301 ---- Loss : 1.1206032037734985\n",
            "Epoch : 3 Batch : 12401 ---- Loss : 1.1955753564834595\n",
            "Epoch : 3 Batch : 12501 ---- Loss : 0.9423892498016357\n",
            "Epoch : 3 Batch : 12601 ---- Loss : 1.0881407260894775\n",
            "Epoch : 3 Batch : 12701 ---- Loss : 0.9671324491500854\n",
            "Epoch : 3 Batch : 12801 ---- Loss : 1.016737937927246\n",
            "Epoch : 3 Batch : 12901 ---- Loss : 1.1170620918273926\n",
            "Epoch : 3 Batch : 13001 ---- Loss : 1.1030694246292114\n",
            "Epoch : 3 Batch : 13101 ---- Loss : 0.7386863827705383\n",
            "Epoch : 3 Batch : 13201 ---- Loss : 1.2251133918762207\n",
            "Epoch : 3 Batch : 13301 ---- Loss : 1.1745529174804688\n",
            "Epoch : 3 Batch : 13401 ---- Loss : 1.0593985319137573\n",
            "Epoch : 3 Batch : 13501 ---- Loss : 1.04198157787323\n",
            "Epoch : 3 Batch : 13601 ---- Loss : 1.103855848312378\n",
            "Epoch : 3 Batch : 13701 ---- Loss : 1.219744086265564\n",
            "Epoch : 3 Batch : 13801 ---- Loss : 1.0507419109344482\n",
            "Epoch : 3 Batch : 13901 ---- Loss : 1.1221357583999634\n",
            "Epoch : 3 Batch : 14001 ---- Loss : 0.9390631914138794\n",
            "Epoch : 3 Batch : 14101 ---- Loss : 1.1156070232391357\n",
            "Epoch : 3 Batch : 14201 ---- Loss : 0.8190417885780334\n",
            "Epoch : 3 Batch : 14301 ---- Loss : 1.0327153205871582\n",
            "Epoch : 3 Batch : 14401 ---- Loss : 1.1173261404037476\n",
            "\n",
            "Saving checkpoint for epoch 3 at /content/gdrive/My Drive/Weights/JokeGenGPT2/ckpt-3\n"
          ],
          "name": "stdout"
        }
      ]
    },
    {
      "cell_type": "code",
      "metadata": {
        "id": "m-L-FqE3n9o7",
        "colab_type": "code",
        "colab": {}
      },
      "source": [
        ""
      ],
      "execution_count": 0,
      "outputs": []
    }
  ]
}